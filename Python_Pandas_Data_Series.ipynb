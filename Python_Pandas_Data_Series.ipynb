{
  "nbformat": 4,
  "nbformat_minor": 0,
  "metadata": {
    "colab": {
      "name": "Python Pandas Data Series.ipynb",
      "provenance": [],
      "collapsed_sections": [
        "Nu1LA31oNE8P",
        "Ox9ZTJno-Xot",
        "gcF59beL-uV2",
        "dL05RL9g_5f5",
        "b9DwScTtBSr8",
        "iIhGMHIHCenB",
        "0A5h-2qaDKFh",
        "kJs9R62bEJwt",
        "CSeUZv2EE0NS",
        "kTHaj7PoHQIg",
        "Q_68CLQ9H25o",
        "xQiAyYaKIuQ1",
        "W0y7G-eKMyTQ",
        "DFEdB4xWPGfN",
        "0akHeJ6uPpru",
        "DVv2n84mQmLR",
        "kDSqDwe9SApE",
        "fMFJnUnlS89I",
        "2iYIvhbSx4rS",
        "Knw4MMUtIHq8",
        "EPAsxm7kOLqD",
        "qMfFLv21VZ58"
      ],
      "toc_visible": true,
      "mount_file_id": "1jXkllZ5x1uG8ecnocPsJJQghIx23YG3L",
      "authorship_tag": "ABX9TyMt3TUTTd8JeBbYX2gB8Q3g",
      "include_colab_link": true
    },
    "kernelspec": {
      "name": "python3",
      "display_name": "Python 3"
    },
    "language_info": {
      "name": "python"
    }
  },
  "cells": [
    {
      "cell_type": "markdown",
      "metadata": {
        "id": "view-in-github",
        "colab_type": "text"
      },
      "source": [
        "<a href=\"https://colab.research.google.com/github/KeysiYTS/pandas-exercises/blob/main/Python_Pandas_Data_Series.ipynb\" target=\"_parent\"><img src=\"https://colab.research.google.com/assets/colab-badge.svg\" alt=\"Open In Colab\"/></a>"
      ]
    },
    {
      "cell_type": "markdown",
      "metadata": {
        "id": "lXU3uSG3-gtz"
      },
      "source": [
        "[W3 Resources](https://www.w3resource.com/python-exercises/pandas/index-data-series.php)\n"
      ]
    },
    {
      "cell_type": "code",
      "metadata": {
        "id": "7hRGYXqd9nsv"
      },
      "source": [
        "import pandas as pd\n",
        "import numpy as np"
      ],
      "execution_count": 1,
      "outputs": []
    },
    {
      "cell_type": "markdown",
      "metadata": {
        "id": "Nu1LA31oNE8P"
      },
      "source": [
        "# OCT-01-2021"
      ]
    },
    {
      "cell_type": "markdown",
      "metadata": {
        "id": "Ox9ZTJno-Xot"
      },
      "source": [
        "## 1- Write a Pandas program to create and display a one-dimensional array-like object containing an array of data using Pandas module."
      ]
    },
    {
      "cell_type": "markdown",
      "metadata": {
        "id": "ArPwhxpiQ-0f"
      },
      "source": [
        "oct-01-2021"
      ]
    },
    {
      "cell_type": "code",
      "metadata": {
        "colab": {
          "base_uri": "https://localhost:8080/"
        },
        "id": "OZ-PicM0-aiZ",
        "outputId": "6467989f-fbd4-40c0-9875-1632af17357f"
      },
      "source": [
        "pds = pd.Series(data=[1,2,3,4,5])\n",
        "print(pds)"
      ],
      "execution_count": null,
      "outputs": [
        {
          "output_type": "stream",
          "name": "stdout",
          "text": [
            "0    1\n",
            "1    2\n",
            "2    3\n",
            "3    4\n",
            "4    5\n",
            "dtype: int64\n"
          ]
        }
      ]
    },
    {
      "cell_type": "markdown",
      "metadata": {
        "id": "gcF59beL-uV2"
      },
      "source": [
        "##2- Write a Pandas program to convert a Panda module Series to Python list and it's type"
      ]
    },
    {
      "cell_type": "code",
      "metadata": {
        "colab": {
          "base_uri": "https://localhost:8080/"
        },
        "id": "RZLHhhIF_oYB",
        "outputId": "8fdadf0f-bdb9-4d9f-d1ee-604102467dab"
      },
      "source": [
        "python_list = pds.to_list()\n",
        "print(python_list)"
      ],
      "execution_count": null,
      "outputs": [
        {
          "output_type": "stream",
          "name": "stdout",
          "text": [
            "[1, 2, 3, 4, 5]\n"
          ]
        }
      ]
    },
    {
      "cell_type": "code",
      "metadata": {
        "colab": {
          "base_uri": "https://localhost:8080/"
        },
        "id": "77xBJ2MY_tD6",
        "outputId": "cdc9c268-8e8c-4d98-ee23-ceb37669cbb9"
      },
      "source": [
        "print(type(pds.to_list()))"
      ],
      "execution_count": null,
      "outputs": [
        {
          "output_type": "stream",
          "name": "stdout",
          "text": [
            "<class 'list'>\n"
          ]
        }
      ]
    },
    {
      "cell_type": "markdown",
      "metadata": {
        "id": "dL05RL9g_5f5"
      },
      "source": [
        "## 3- Write a Pandas program to add, subtract, multiple and divide two Pandas Series. \n"
      ]
    },
    {
      "cell_type": "code",
      "metadata": {
        "id": "svcRRFY-AOuq"
      },
      "source": [
        "# Sample Series: [2, 4, 6, 8, 10], [1, 3, 5, 7, 9]"
      ],
      "execution_count": null,
      "outputs": []
    },
    {
      "cell_type": "code",
      "metadata": {
        "id": "CIQIL9yUAREh"
      },
      "source": [
        "pds1 = pd.Series(data=[2, 4, 6, 8, 10])\n",
        "pds2 = pd.Series(data=[1, 3, 5, 7, 9])"
      ],
      "execution_count": null,
      "outputs": []
    },
    {
      "cell_type": "code",
      "metadata": {
        "colab": {
          "base_uri": "https://localhost:8080/"
        },
        "id": "Ac1ShKFnAfzo",
        "outputId": "af735f0d-bfa5-49ad-9a05-57fe44a707c9"
      },
      "source": [
        "pds_add = pds1.add(pds2, axis=0) # or pds1 + pds2\n",
        "print(pds_add)"
      ],
      "execution_count": null,
      "outputs": [
        {
          "output_type": "stream",
          "name": "stdout",
          "text": [
            "0     3\n",
            "1     7\n",
            "2    11\n",
            "3    15\n",
            "4    19\n",
            "dtype: int64\n"
          ]
        }
      ]
    },
    {
      "cell_type": "code",
      "metadata": {
        "colab": {
          "base_uri": "https://localhost:8080/"
        },
        "id": "x5Sc0cfAAsO3",
        "outputId": "d4524a39-9292-4eb8-f6e2-68b508e83516"
      },
      "source": [
        "pds_sub = pds1.subtract(pds2, axis=0) # or pds1 - pds2\n",
        "print(pds_sub)"
      ],
      "execution_count": null,
      "outputs": [
        {
          "output_type": "stream",
          "name": "stdout",
          "text": [
            "0    1\n",
            "1    1\n",
            "2    1\n",
            "3    1\n",
            "4    1\n",
            "dtype: int64\n"
          ]
        }
      ]
    },
    {
      "cell_type": "code",
      "metadata": {
        "colab": {
          "base_uri": "https://localhost:8080/"
        },
        "id": "nBfUQO7fA9uI",
        "outputId": "2ee537e2-96d1-4195-de53-2a16aa505273"
      },
      "source": [
        "pds_mul = pds1.multiply(pds2, axis=0) # or pds1 * pds2\n",
        "print(pds_mul)"
      ],
      "execution_count": null,
      "outputs": [
        {
          "output_type": "stream",
          "name": "stdout",
          "text": [
            "0     2\n",
            "1    12\n",
            "2    30\n",
            "3    56\n",
            "4    90\n",
            "dtype: int64\n"
          ]
        }
      ]
    },
    {
      "cell_type": "code",
      "metadata": {
        "colab": {
          "base_uri": "https://localhost:8080/"
        },
        "id": "-DhDzItqBIvf",
        "outputId": "5c967f1d-8380-493b-80a5-35ad16069d0d"
      },
      "source": [
        "pds_div = pds1.divide(pds2, axis=0) # or pds1/pds2\n",
        "print(pds_div)"
      ],
      "execution_count": null,
      "outputs": [
        {
          "output_type": "stream",
          "name": "stdout",
          "text": [
            "0    2.000000\n",
            "1    1.333333\n",
            "2    1.200000\n",
            "3    1.142857\n",
            "4    1.111111\n",
            "dtype: float64\n"
          ]
        }
      ]
    },
    {
      "cell_type": "markdown",
      "metadata": {
        "id": "b9DwScTtBSr8"
      },
      "source": [
        "## 4- Write a Pandas program to compare the elements of the two Pandas Series.\n"
      ]
    },
    {
      "cell_type": "code",
      "metadata": {
        "id": "_O7PAN8OBzPT"
      },
      "source": [
        "#Sample Series: [2, 4, 6, 8, 10], [1, 3, 5, 7, 10]"
      ],
      "execution_count": null,
      "outputs": []
    },
    {
      "cell_type": "code",
      "metadata": {
        "id": "LsVbewpSB0BH"
      },
      "source": [
        "pds1 = pd.Series(data=[2, 4, 6, 8, 10])\n",
        "pds2 = pd.Series(data=[1, 3, 5, 7, 10])"
      ],
      "execution_count": null,
      "outputs": []
    },
    {
      "cell_type": "code",
      "metadata": {
        "colab": {
          "base_uri": "https://localhost:8080/"
        },
        "id": "ulTkx402B8qO",
        "outputId": "28d593ee-2461-408c-e12b-5de754c8f30e"
      },
      "source": [
        "print(pds1 == pds2)"
      ],
      "execution_count": null,
      "outputs": [
        {
          "output_type": "stream",
          "name": "stdout",
          "text": [
            "0    False\n",
            "1    False\n",
            "2    False\n",
            "3    False\n",
            "4     True\n",
            "dtype: bool\n"
          ]
        }
      ]
    },
    {
      "cell_type": "code",
      "metadata": {
        "colab": {
          "base_uri": "https://localhost:8080/"
        },
        "id": "_x7AxaVtCBeu",
        "outputId": "711a47fc-886c-410f-a203-e5a97f55b866"
      },
      "source": [
        "print(pds1 > pds2)"
      ],
      "execution_count": null,
      "outputs": [
        {
          "output_type": "stream",
          "name": "stdout",
          "text": [
            "0     True\n",
            "1     True\n",
            "2     True\n",
            "3     True\n",
            "4    False\n",
            "dtype: bool\n"
          ]
        }
      ]
    },
    {
      "cell_type": "code",
      "metadata": {
        "colab": {
          "base_uri": "https://localhost:8080/"
        },
        "id": "iYGyGI0xCIpJ",
        "outputId": "7f697fb8-2c4e-4fee-ae60-d31ddf8108d3"
      },
      "source": [
        "print(pds1 < pds2)"
      ],
      "execution_count": null,
      "outputs": [
        {
          "output_type": "stream",
          "name": "stdout",
          "text": [
            "0    False\n",
            "1    False\n",
            "2    False\n",
            "3    False\n",
            "4    False\n",
            "dtype: bool\n"
          ]
        }
      ]
    },
    {
      "cell_type": "markdown",
      "metadata": {
        "id": "iIhGMHIHCenB"
      },
      "source": [
        "## 5- Write a Pandas program to convert a dictionary to a Pandas series. "
      ]
    },
    {
      "cell_type": "code",
      "metadata": {
        "colab": {
          "base_uri": "https://localhost:8080/"
        },
        "id": "Az7lDzDdC4xq",
        "outputId": "92feb1fa-8981-4f4a-bd7d-a1010226f720"
      },
      "source": [
        "\"\"\"\n",
        "Sample Series:\n",
        "Original dictionary:\n",
        "{'a': 100, 'b': 200, 'c': 300, 'd': 400, 'e': 800}\n",
        "Converted series:\n",
        "a 100\n",
        "b 200\n",
        "c 300\n",
        "d 400\n",
        "e 800\n",
        "dtype: int64\n",
        "\"\"\""
      ],
      "execution_count": null,
      "outputs": [
        {
          "output_type": "execute_result",
          "data": {
            "application/vnd.google.colaboratory.intrinsic+json": {
              "type": "string"
            },
            "text/plain": [
              "\"\\nSample Series:\\nOriginal dictionary:\\n{'a': 100, 'b': 200, 'c': 300, 'd': 400, 'e': 800}\\nConverted series:\\na 100\\nb 200\\nc 300\\nd 400\\ne 800\\ndtype: int64\\n\""
            ]
          },
          "metadata": {},
          "execution_count": 16
        }
      ]
    },
    {
      "cell_type": "code",
      "metadata": {
        "colab": {
          "base_uri": "https://localhost:8080/"
        },
        "id": "8TAMytiqC-sw",
        "outputId": "fe6b1e57-cea0-4d6c-bcb0-2c61f6bb3b1e"
      },
      "source": [
        "pds = pd.Series(data={'a': 100, 'b': 200, 'c': 300, 'd': 400, 'e': 800})\n",
        "print(pds)"
      ],
      "execution_count": null,
      "outputs": [
        {
          "output_type": "stream",
          "name": "stdout",
          "text": [
            "a    100\n",
            "b    200\n",
            "c    300\n",
            "d    400\n",
            "e    800\n",
            "dtype: int64\n"
          ]
        }
      ]
    },
    {
      "cell_type": "markdown",
      "metadata": {
        "id": "0A5h-2qaDKFh"
      },
      "source": [
        "## 6- Write a Pandas program to convert a NumPy array to a Pandas series."
      ]
    },
    {
      "cell_type": "code",
      "metadata": {
        "colab": {
          "base_uri": "https://localhost:8080/"
        },
        "id": "SmLWF8f-DS3U",
        "outputId": "066f799d-ea56-4f91-aac1-f18550b98f80"
      },
      "source": [
        "\"\"\"\n",
        "Sample Series:\n",
        "NumPy array:\n",
        "[10 20 30 40 50]\n",
        "Converted Pandas series:\n",
        "0 10\n",
        "1 20\n",
        "2 30\n",
        "3 40\n",
        "4 50\n",
        "dtype: int64\n",
        "\"\"\""
      ],
      "execution_count": null,
      "outputs": [
        {
          "output_type": "execute_result",
          "data": {
            "application/vnd.google.colaboratory.intrinsic+json": {
              "type": "string"
            },
            "text/plain": [
              "'\\nSample Series:\\nNumPy array:\\n[10 20 30 40 50]\\nConverted Pandas series:\\n0 10\\n1 20\\n2 30\\n3 40\\n4 50\\ndtype: int64\\n'"
            ]
          },
          "metadata": {},
          "execution_count": 18
        }
      ]
    },
    {
      "cell_type": "code",
      "metadata": {
        "colab": {
          "base_uri": "https://localhost:8080/"
        },
        "id": "EzWGKeN6DYOR",
        "outputId": "2c46cad0-26f9-4959-d1dc-b37456c357ff"
      },
      "source": [
        "npa = np.array([10, 20, 30, 40, 50])\n",
        "print(npa)\n",
        "print(type(npa))"
      ],
      "execution_count": null,
      "outputs": [
        {
          "output_type": "stream",
          "name": "stdout",
          "text": [
            "[10 20 30 40 50]\n",
            "<class 'numpy.ndarray'>\n"
          ]
        }
      ]
    },
    {
      "cell_type": "code",
      "metadata": {
        "colab": {
          "base_uri": "https://localhost:8080/"
        },
        "id": "IPbZFQLiDho1",
        "outputId": "036d3bd4-9d2e-4442-8c7f-16bd276cb941"
      },
      "source": [
        "pdn = pd.Series(data=npa)\n",
        "print(pdn)"
      ],
      "execution_count": null,
      "outputs": [
        {
          "output_type": "stream",
          "name": "stdout",
          "text": [
            "0    10\n",
            "1    20\n",
            "2    30\n",
            "3    40\n",
            "4    50\n",
            "dtype: int64\n"
          ]
        }
      ]
    },
    {
      "cell_type": "markdown",
      "metadata": {
        "id": "kJs9R62bEJwt"
      },
      "source": [
        "## !!7- Write a Pandas program to change the data type of given a column or a Series. "
      ]
    },
    {
      "cell_type": "code",
      "metadata": {
        "colab": {
          "base_uri": "https://localhost:8080/"
        },
        "id": "RJFAgAIRENKh",
        "outputId": "dfcda951-d7b7-46dd-fd06-7277daa1bfec"
      },
      "source": [
        "\"\"\"\n",
        "Sample Series:\n",
        "Original Data Series:\n",
        "0 100\n",
        "1 200\n",
        "2 python\n",
        "3 300.12\n",
        "4 400\n",
        "dtype: object\n",
        "Change the said data type to numeric:\n",
        "0 100.00\n",
        "1 200.00\n",
        "2 NaN\n",
        "3 300.12\n",
        "4 400.00\n",
        "dtype: float64\n",
        "\"\"\""
      ],
      "execution_count": null,
      "outputs": [
        {
          "output_type": "execute_result",
          "data": {
            "application/vnd.google.colaboratory.intrinsic+json": {
              "type": "string"
            },
            "text/plain": [
              "'\\nSample Series:\\nOriginal Data Series:\\n0 100\\n1 200\\n2 python\\n3 300.12\\n4 400\\ndtype: object\\nChange the said data type to numeric:\\n0 100.00\\n1 200.00\\n2 NaN\\n3 300.12\\n4 400.00\\ndtype: float64\\n'"
            ]
          },
          "metadata": {},
          "execution_count": 21
        }
      ]
    },
    {
      "cell_type": "code",
      "metadata": {
        "colab": {
          "base_uri": "https://localhost:8080/"
        },
        "id": "K6RT9xQ-ERua",
        "outputId": "fdfe8735-594e-4c32-e909-a0576261ee56"
      },
      "source": [
        "pds = pd.Series(data=[100,200,'python',300.12,400])\n",
        "print(pds)"
      ],
      "execution_count": null,
      "outputs": [
        {
          "output_type": "stream",
          "name": "stdout",
          "text": [
            "0       100\n",
            "1       200\n",
            "2    python\n",
            "3    300.12\n",
            "4       400\n",
            "dtype: object\n"
          ]
        }
      ]
    },
    {
      "cell_type": "code",
      "metadata": {
        "colab": {
          "base_uri": "https://localhost:8080/"
        },
        "id": "2zTx01SVEqS9",
        "outputId": "570bd5c8-db08-42a2-b329-71297d8da42f"
      },
      "source": [
        "pd.to_numeric(pds, errors='coerce')"
      ],
      "execution_count": null,
      "outputs": [
        {
          "output_type": "execute_result",
          "data": {
            "text/plain": [
              "0    100.00\n",
              "1    200.00\n",
              "2       NaN\n",
              "3    300.12\n",
              "4    400.00\n",
              "dtype: float64"
            ]
          },
          "metadata": {},
          "execution_count": 23
        }
      ]
    },
    {
      "cell_type": "markdown",
      "metadata": {
        "id": "CSeUZv2EE0NS"
      },
      "source": [
        "## 8- Write a Pandas program to convert the first column of a DataFrame as a Series."
      ]
    },
    {
      "cell_type": "code",
      "metadata": {
        "colab": {
          "base_uri": "https://localhost:8080/"
        },
        "id": "qU-vs90tF6nn",
        "outputId": "1d16804e-c56d-4ac9-a4f8-325548d32b1e"
      },
      "source": [
        "\"\"\"\n",
        "Sample Output:\n",
        "Original DataFrame\n",
        "col1 col2 col3\n",
        "0 1 4 7\n",
        "1 2 5 5\n",
        "2 3 6 8\n",
        "3 4 9 12\n",
        "4 7 5 1\n",
        "5 11 0 11\n",
        "1st column as a Series:\n",
        "0 1\n",
        "1 2\n",
        "2 3\n",
        "3 4\n",
        "4 7\n",
        "5 11\n",
        "Name: col1, dtype: int64\n",
        "<class 'pandas.core.series.Series'>\n",
        "\"\"\""
      ],
      "execution_count": null,
      "outputs": [
        {
          "output_type": "execute_result",
          "data": {
            "application/vnd.google.colaboratory.intrinsic+json": {
              "type": "string"
            },
            "text/plain": [
              "\"\\nSample Output:\\nOriginal DataFrame\\ncol1 col2 col3\\n0 1 4 7\\n1 2 5 5\\n2 3 6 8\\n3 4 9 12\\n4 7 5 1\\n5 11 0 11\\n1st column as a Series:\\n0 1\\n1 2\\n2 3\\n3 4\\n4 7\\n5 11\\nName: col1, dtype: int64\\n<class 'pandas.core.series.Series'>\\n\""
            ]
          },
          "metadata": {},
          "execution_count": 24
        }
      ]
    },
    {
      "cell_type": "code",
      "metadata": {
        "id": "FUWr3H30GA9Q"
      },
      "source": [
        "arrays = [[1 ,4 ,7], [2 ,5 ,5],\n",
        "          [3 ,6 ,8], [4 ,9 ,12],\n",
        "          [7 ,5 ,1], [11, 0, 11]]"
      ],
      "execution_count": null,
      "outputs": []
    },
    {
      "cell_type": "code",
      "metadata": {
        "colab": {
          "base_uri": "https://localhost:8080/"
        },
        "id": "7IsCxug-GVp8",
        "outputId": "cb4c85dd-2c20-4755-c75c-c25d09772700"
      },
      "source": [
        "pdf = pd.DataFrame(data=arrays, columns=['col1','col2','col3'])\n",
        "pdf"
      ],
      "execution_count": null,
      "outputs": [
        {
          "output_type": "execute_result",
          "data": {
            "text/html": [
              "<div>\n",
              "<style scoped>\n",
              "    .dataframe tbody tr th:only-of-type {\n",
              "        vertical-align: middle;\n",
              "    }\n",
              "\n",
              "    .dataframe tbody tr th {\n",
              "        vertical-align: top;\n",
              "    }\n",
              "\n",
              "    .dataframe thead th {\n",
              "        text-align: right;\n",
              "    }\n",
              "</style>\n",
              "<table border=\"1\" class=\"dataframe\">\n",
              "  <thead>\n",
              "    <tr style=\"text-align: right;\">\n",
              "      <th></th>\n",
              "      <th>col1</th>\n",
              "      <th>col2</th>\n",
              "      <th>col3</th>\n",
              "    </tr>\n",
              "  </thead>\n",
              "  <tbody>\n",
              "    <tr>\n",
              "      <th>0</th>\n",
              "      <td>1</td>\n",
              "      <td>4</td>\n",
              "      <td>7</td>\n",
              "    </tr>\n",
              "    <tr>\n",
              "      <th>1</th>\n",
              "      <td>2</td>\n",
              "      <td>5</td>\n",
              "      <td>5</td>\n",
              "    </tr>\n",
              "    <tr>\n",
              "      <th>2</th>\n",
              "      <td>3</td>\n",
              "      <td>6</td>\n",
              "      <td>8</td>\n",
              "    </tr>\n",
              "    <tr>\n",
              "      <th>3</th>\n",
              "      <td>4</td>\n",
              "      <td>9</td>\n",
              "      <td>12</td>\n",
              "    </tr>\n",
              "    <tr>\n",
              "      <th>4</th>\n",
              "      <td>7</td>\n",
              "      <td>5</td>\n",
              "      <td>1</td>\n",
              "    </tr>\n",
              "    <tr>\n",
              "      <th>5</th>\n",
              "      <td>11</td>\n",
              "      <td>0</td>\n",
              "      <td>11</td>\n",
              "    </tr>\n",
              "  </tbody>\n",
              "</table>\n",
              "</div>"
            ],
            "text/plain": [
              "   col1  col2  col3\n",
              "0     1     4     7\n",
              "1     2     5     5\n",
              "2     3     6     8\n",
              "3     4     9    12\n",
              "4     7     5     1\n",
              "5    11     0    11"
            ]
          },
          "metadata": {},
          "execution_count": 26
        }
      ]
    },
    {
      "cell_type": "code",
      "metadata": {
        "colab": {
          "base_uri": "https://localhost:8080/"
        },
        "id": "sydoR7oVGdcv",
        "outputId": "ef3d8979-70fd-45d0-fb02-b7dc4516e620"
      },
      "source": [
        "print(pdf['col1'])\n",
        "print(type(pdf['col1']))"
      ],
      "execution_count": null,
      "outputs": [
        {
          "output_type": "stream",
          "name": "stdout",
          "text": [
            "0     1\n",
            "1     2\n",
            "2     3\n",
            "3     4\n",
            "4     7\n",
            "5    11\n",
            "Name: col1, dtype: int64\n",
            "<class 'pandas.core.series.Series'>\n"
          ]
        }
      ]
    },
    {
      "cell_type": "markdown",
      "metadata": {
        "id": "kTHaj7PoHQIg"
      },
      "source": [
        "## !!9- Write a Pandas program to convert a given Series to an array."
      ]
    },
    {
      "cell_type": "code",
      "metadata": {
        "colab": {
          "base_uri": "https://localhost:8080/"
        },
        "id": "7EbbrYCxHl25",
        "outputId": "e3d06e75-00e2-4e7f-c1a3-e91e866cb0be"
      },
      "source": [
        "\"\"\"\n",
        "Sample Output:\n",
        "Original Data Series:\n",
        "0 100\n",
        "1 200\n",
        "2 python\n",
        "3 300.12\n",
        "4 400\n",
        "dtype: object\n",
        "Series to an array\n",
        "['100' '200' 'python' '300.12' '400']\n",
        "\"\"\""
      ],
      "execution_count": null,
      "outputs": [
        {
          "output_type": "execute_result",
          "data": {
            "application/vnd.google.colaboratory.intrinsic+json": {
              "type": "string"
            },
            "text/plain": [
              "\"\\nSample Output:\\nOriginal Data Series:\\n0 100\\n1 200\\n2 python\\n3 300.12\\n4 400\\ndtype: object\\nSeries to an array\\n['100' '200' 'python' '300.12' '400']\\n\""
            ]
          },
          "metadata": {},
          "execution_count": 28
        }
      ]
    },
    {
      "cell_type": "code",
      "metadata": {
        "colab": {
          "base_uri": "https://localhost:8080/"
        },
        "id": "F-cx_uMNHnc5",
        "outputId": "30adf5d7-d8b3-46b1-f19b-3804d16f91e7"
      },
      "source": [
        "pds = pd.Series(data=[100,200,'python',300.12,400])\n",
        "print(pds)"
      ],
      "execution_count": null,
      "outputs": [
        {
          "output_type": "stream",
          "name": "stdout",
          "text": [
            "0       100\n",
            "1       200\n",
            "2    python\n",
            "3    300.12\n",
            "4       400\n",
            "dtype: object\n"
          ]
        }
      ]
    },
    {
      "cell_type": "code",
      "metadata": {
        "colab": {
          "base_uri": "https://localhost:8080/"
        },
        "id": "Zaxg9MvyHwuX",
        "outputId": "111676f4-e3e6-407b-ab40-cd78599fdb05"
      },
      "source": [
        "pds.to_list()"
      ],
      "execution_count": null,
      "outputs": [
        {
          "output_type": "execute_result",
          "data": {
            "text/plain": [
              "[100, 200, 'python', 300.12, 400]"
            ]
          },
          "metadata": {},
          "execution_count": 30
        }
      ]
    },
    {
      "cell_type": "markdown",
      "metadata": {
        "id": "Q_68CLQ9H25o"
      },
      "source": [
        "## ?10- Write a Pandas program to convert Series of lists to one Series."
      ]
    },
    {
      "cell_type": "code",
      "metadata": {
        "colab": {
          "base_uri": "https://localhost:8080/"
        },
        "id": "Dq4krXKoIq-V",
        "outputId": "dc9f4f3f-f80c-44a3-81e8-85bf78721056"
      },
      "source": [
        "\"\"\"\n",
        "Sample Output:\n",
        "Original Series of list\n",
        "0 [Red, Green, White]\n",
        "1 [Red, Black]\n",
        "2 [Yellow]\n",
        "dtype: object\n",
        "One Series\n",
        "0 Red\n",
        "1 Green\n",
        "2 White\n",
        "3 Red\n",
        "4 Black\n",
        "5 Yellow\n",
        "dtype: object\n",
        "\"\"\""
      ],
      "execution_count": null,
      "outputs": [
        {
          "output_type": "execute_result",
          "data": {
            "application/vnd.google.colaboratory.intrinsic+json": {
              "type": "string"
            },
            "text/plain": [
              "'\\nSample Output:\\nOriginal Series of list\\n0 [Red, Green, White]\\n1 [Red, Black]\\n2 [Yellow]\\ndtype: object\\nOne Series\\n0 Red\\n1 Green\\n2 White\\n3 Red\\n4 Black\\n5 Yellow\\ndtype: object\\n'"
            ]
          },
          "metadata": {},
          "execution_count": 31
        }
      ]
    },
    {
      "cell_type": "markdown",
      "metadata": {
        "id": "xQiAyYaKIuQ1"
      },
      "source": [
        "## 11 - Write a Pandas program to sort a given Series"
      ]
    },
    {
      "cell_type": "code",
      "metadata": {
        "colab": {
          "base_uri": "https://localhost:8080/"
        },
        "id": "ehGp1RnOMNtH",
        "outputId": "209822bc-dae5-4d01-b6e4-d844876dc639"
      },
      "source": [
        "\"\"\"\n",
        "Sample Output:\n",
        "Original Data Series: \n",
        "0 100\n",
        "1 200\n",
        "2 python\n",
        "3 300.12\n",
        "4 400\n",
        "dtype: object\n",
        "0 100\n",
        "1 200\n",
        "3 300.12\n",
        "4 400\n",
        "2 python\n",
        "dtype: object\n",
        "\"\"\""
      ],
      "execution_count": null,
      "outputs": [
        {
          "output_type": "execute_result",
          "data": {
            "application/vnd.google.colaboratory.intrinsic+json": {
              "type": "string"
            },
            "text/plain": [
              "'\\nSample Output:\\nOriginal Data Series: \\n0 100\\n1 200\\n2 python\\n3 300.12\\n4 400\\ndtype: object\\n0 100\\n1 200\\n3 300.12\\n4 400\\n2 python\\ndtype: object\\n'"
            ]
          },
          "metadata": {},
          "execution_count": 32
        }
      ]
    },
    {
      "cell_type": "code",
      "metadata": {
        "colab": {
          "base_uri": "https://localhost:8080/"
        },
        "id": "5FKk4i80MRRF",
        "outputId": "0fd8e0b4-0194-4a1d-f583-28c0e369bb83"
      },
      "source": [
        "pds = pd.Series(['100', '200', 'python', '300.12', '400'])\n",
        "pds"
      ],
      "execution_count": null,
      "outputs": [
        {
          "output_type": "execute_result",
          "data": {
            "text/plain": [
              "0       100\n",
              "1       200\n",
              "2    python\n",
              "3    300.12\n",
              "4       400\n",
              "dtype: object"
            ]
          },
          "metadata": {},
          "execution_count": 33
        }
      ]
    },
    {
      "cell_type": "code",
      "metadata": {
        "colab": {
          "base_uri": "https://localhost:8080/"
        },
        "id": "qxmMu3rNNzZb",
        "outputId": "4a6d77b9-c0a4-4a53-a7fd-caaa05351b87"
      },
      "source": [
        "pds.sort_values()"
      ],
      "execution_count": null,
      "outputs": [
        {
          "output_type": "execute_result",
          "data": {
            "text/plain": [
              "0       100\n",
              "1       200\n",
              "3    300.12\n",
              "4       400\n",
              "2    python\n",
              "dtype: object"
            ]
          },
          "metadata": {},
          "execution_count": 34
        }
      ]
    },
    {
      "cell_type": "markdown",
      "metadata": {
        "id": "W0y7G-eKMyTQ"
      },
      "source": [
        "# OCT-02-2021"
      ]
    },
    {
      "cell_type": "markdown",
      "metadata": {
        "id": "DFEdB4xWPGfN"
      },
      "source": [
        "## !!12- Write a Pandas program to add some data to an existing Series. \n",
        "\n",
        "\n"
      ]
    },
    {
      "cell_type": "code",
      "metadata": {
        "colab": {
          "base_uri": "https://localhost:8080/"
        },
        "id": "hid1OPTDPY0C",
        "outputId": "ddbe2352-9889-494a-c47a-c3f9d74cdd75"
      },
      "source": [
        "\"\"\"\n",
        "Sample Output:\n",
        "Original Data Series:\n",
        "0 100\n",
        "1 200\n",
        "2 python\n",
        "3 300.12\n",
        "4 400\n",
        "dtype: object\n",
        "Data Series after adding some data:\n",
        "0 100\n",
        "1 200\n",
        "2 python\n",
        "3 300.12\n",
        "4 400\n",
        "0 500\n",
        "1 php\n",
        "dtype: object\n",
        "\"\"\""
      ],
      "execution_count": null,
      "outputs": [
        {
          "output_type": "execute_result",
          "data": {
            "application/vnd.google.colaboratory.intrinsic+json": {
              "type": "string"
            },
            "text/plain": [
              "'\\nSample Output:\\nOriginal Data Series:\\n0 100\\n1 200\\n2 python\\n3 300.12\\n4 400\\ndtype: object\\nData Series after adding some data:\\n0 100\\n1 200\\n2 python\\n3 300.12\\n4 400\\n0 500\\n1 php\\ndtype: object\\n'"
            ]
          },
          "metadata": {},
          "execution_count": 35
        }
      ]
    },
    {
      "cell_type": "code",
      "metadata": {
        "colab": {
          "base_uri": "https://localhost:8080/"
        },
        "id": "jr-g4UqaPczR",
        "outputId": "fffe4469-0d3f-4a03-8e2b-f7cba18c3f05"
      },
      "source": [
        "pds = pd.Series(['100', '200', 'python', '300.12', '400'])\n",
        "pds"
      ],
      "execution_count": null,
      "outputs": [
        {
          "output_type": "execute_result",
          "data": {
            "text/plain": [
              "0       100\n",
              "1       200\n",
              "2    python\n",
              "3    300.12\n",
              "4       400\n",
              "dtype: object"
            ]
          },
          "metadata": {},
          "execution_count": 36
        }
      ]
    },
    {
      "cell_type": "code",
      "metadata": {
        "colab": {
          "base_uri": "https://localhost:8080/"
        },
        "id": "MBsqVcZdPjD2",
        "outputId": "fdaaf559-bbeb-4a75-bc89-a0ff1e78fcf5"
      },
      "source": [
        "pds.append(to_append=pd.Series(['500', 'php']))"
      ],
      "execution_count": null,
      "outputs": [
        {
          "output_type": "execute_result",
          "data": {
            "text/plain": [
              "0       100\n",
              "1       200\n",
              "2    python\n",
              "3    300.12\n",
              "4       400\n",
              "0       500\n",
              "1       php\n",
              "dtype: object"
            ]
          },
          "metadata": {},
          "execution_count": 37
        }
      ]
    },
    {
      "cell_type": "markdown",
      "metadata": {
        "id": "0akHeJ6uPpru"
      },
      "source": [
        "## 13- Write a Pandas program to create a subset of a given series based on value and condition."
      ]
    },
    {
      "cell_type": "code",
      "metadata": {
        "id": "QBAT1zPSQR_X",
        "colab": {
          "base_uri": "https://localhost:8080/"
        },
        "outputId": "85659f99-de1c-40d5-8752-9cd89827c234"
      },
      "source": [
        "\"\"\"\n",
        "Sample Output:\n",
        "Original Data Series:\n",
        "0 0\n",
        "1 1\n",
        "2 2\n",
        "3 3\n",
        "4 4\n",
        "5 5\n",
        "6 6\n",
        "7 7\n",
        "8 8\n",
        "9 9\n",
        "10 10\n",
        "dtype: int64\n",
        "Subset of the above Data Series:\n",
        "0 0\n",
        "1 1\n",
        "2 2\n",
        "3 3\n",
        "4 4\n",
        "5 5\n",
        "dtype: int64\n",
        "\"\"\""
      ],
      "execution_count": null,
      "outputs": [
        {
          "output_type": "execute_result",
          "data": {
            "application/vnd.google.colaboratory.intrinsic+json": {
              "type": "string"
            },
            "text/plain": [
              "'\\nSample Output:\\nOriginal Data Series:\\n0 0\\n1 1\\n2 2\\n3 3\\n4 4\\n5 5\\n6 6\\n7 7\\n8 8\\n9 9\\n10 10\\ndtype: int64\\nSubset of the above Data Series:\\n0 0\\n1 1\\n2 2\\n3 3\\n4 4\\n5 5\\ndtype: int64\\n'"
            ]
          },
          "metadata": {},
          "execution_count": 38
        }
      ]
    },
    {
      "cell_type": "code",
      "metadata": {
        "id": "fQn0wEUTQVHu"
      },
      "source": [
        "var = [0,1,2,3,4,5,6,7,8,9,10]"
      ],
      "execution_count": null,
      "outputs": []
    },
    {
      "cell_type": "code",
      "metadata": {
        "colab": {
          "base_uri": "https://localhost:8080/"
        },
        "id": "1SA7RJVFQcnL",
        "outputId": "aeafae69-2188-4f0c-e51c-bb56a0d4dc31"
      },
      "source": [
        "pds = pd.Series(data=var)\n",
        "pds"
      ],
      "execution_count": null,
      "outputs": [
        {
          "output_type": "execute_result",
          "data": {
            "text/plain": [
              "0      0\n",
              "1      1\n",
              "2      2\n",
              "3      3\n",
              "4      4\n",
              "5      5\n",
              "6      6\n",
              "7      7\n",
              "8      8\n",
              "9      9\n",
              "10    10\n",
              "dtype: int64"
            ]
          },
          "metadata": {},
          "execution_count": 40
        }
      ]
    },
    {
      "cell_type": "code",
      "metadata": {
        "colab": {
          "base_uri": "https://localhost:8080/"
        },
        "id": "oc2ibprwQhEd",
        "outputId": "caeb16d7-a42a-40b0-f6f8-a900281d52ec"
      },
      "source": [
        "pds.iloc[0:6]"
      ],
      "execution_count": null,
      "outputs": [
        {
          "output_type": "execute_result",
          "data": {
            "text/plain": [
              "0    0\n",
              "1    1\n",
              "2    2\n",
              "3    3\n",
              "4    4\n",
              "5    5\n",
              "dtype: int64"
            ]
          },
          "metadata": {},
          "execution_count": 41
        }
      ]
    },
    {
      "cell_type": "markdown",
      "metadata": {
        "id": "DVv2n84mQmLR"
      },
      "source": [
        "## !!14- Write a Pandas program to change the order of index of a given series. "
      ]
    },
    {
      "cell_type": "code",
      "metadata": {
        "colab": {
          "base_uri": "https://localhost:8080/"
        },
        "id": "iYg5hTRURL-S",
        "outputId": "6f55a6f5-4363-4554-c06c-fc5a4e45c802"
      },
      "source": [
        "\"\"\"\n",
        "Sample Output:\n",
        "Original Data Series:\n",
        "A 1\n",
        "B 2\n",
        "C 3\n",
        "D 4\n",
        "E 5\n",
        "dtype: int64\n",
        "Data Series after changing the order of index:\n",
        "B 2\n",
        "A 1\n",
        "C 3\n",
        "D 4\n",
        "E 5\n",
        "dtype: int64\n",
        "\"\"\""
      ],
      "execution_count": null,
      "outputs": [
        {
          "output_type": "execute_result",
          "data": {
            "application/vnd.google.colaboratory.intrinsic+json": {
              "type": "string"
            },
            "text/plain": [
              "'\\nSample Output:\\nOriginal Data Series:\\nA 1\\nB 2\\nC 3\\nD 4\\nE 5\\ndtype: int64\\nData Series after changing the order of index:\\nB 2\\nA 1\\nC 3\\nD 4\\nE 5\\ndtype: int64\\n'"
            ]
          },
          "metadata": {},
          "execution_count": 42
        }
      ]
    },
    {
      "cell_type": "code",
      "metadata": {
        "id": "DAJMPA-MRUTj"
      },
      "source": [
        "var = [1,2,3,4,5]\n",
        "idx = ['A', 'B', 'C', 'D', 'E']"
      ],
      "execution_count": null,
      "outputs": []
    },
    {
      "cell_type": "code",
      "metadata": {
        "colab": {
          "base_uri": "https://localhost:8080/"
        },
        "id": "XpnVuJfGRktO",
        "outputId": "e29a30d7-71d0-40f2-b700-db9780264183"
      },
      "source": [
        "pds = pd.Series(var, index=idx)\n",
        "pds"
      ],
      "execution_count": null,
      "outputs": [
        {
          "output_type": "execute_result",
          "data": {
            "text/plain": [
              "A    1\n",
              "B    2\n",
              "C    3\n",
              "D    4\n",
              "E    5\n",
              "dtype: int64"
            ]
          },
          "metadata": {},
          "execution_count": 44
        }
      ]
    },
    {
      "cell_type": "code",
      "metadata": {
        "id": "Gda5ps0yRz7P"
      },
      "source": [
        "idx2 = ['B', 'A', 'C', 'D', 'E']"
      ],
      "execution_count": null,
      "outputs": []
    },
    {
      "cell_type": "code",
      "metadata": {
        "colab": {
          "base_uri": "https://localhost:8080/"
        },
        "id": "VoRYsaX6R46D",
        "outputId": "4b6c6e2d-4f98-4a99-df40-7049ad6d16da"
      },
      "source": [
        "pds.reindex(index=idx2)"
      ],
      "execution_count": null,
      "outputs": [
        {
          "output_type": "execute_result",
          "data": {
            "text/plain": [
              "B    2\n",
              "A    1\n",
              "C    3\n",
              "D    4\n",
              "E    5\n",
              "dtype: int64"
            ]
          },
          "metadata": {},
          "execution_count": 46
        }
      ]
    },
    {
      "cell_type": "markdown",
      "metadata": {
        "id": "kDSqDwe9SApE"
      },
      "source": [
        "## 15- Write a Pandas program to create the mean and standard deviation of the data of a given Series."
      ]
    },
    {
      "cell_type": "code",
      "metadata": {
        "colab": {
          "base_uri": "https://localhost:8080/"
        },
        "id": "nt9wipGmSqDY",
        "outputId": "34fef5f6-e147-4818-9e1d-17ecf95ee819"
      },
      "source": [
        "\"\"\"\n",
        "Sample Output:\n",
        "Original Data Series:\n",
        "0 1\n",
        "1 2\n",
        "2 3\n",
        "3 4\n",
        "4 5\n",
        "5 6\n",
        "6 7\n",
        "7 8\n",
        "8 9\n",
        "9 5\n",
        "10 3\n",
        "dtype: int64\n",
        "Mean of the said Data Series:\n",
        "4.818181818181818\n",
        "Standard deviation of the said Data Series:\n",
        "2.522624895547565\n",
        "\"\"\""
      ],
      "execution_count": null,
      "outputs": [
        {
          "output_type": "execute_result",
          "data": {
            "application/vnd.google.colaboratory.intrinsic+json": {
              "type": "string"
            },
            "text/plain": [
              "'\\nSample Output:\\nOriginal Data Series:\\n0 1\\n1 2\\n2 3\\n3 4\\n4 5\\n5 6\\n6 7\\n7 8\\n8 9\\n9 5\\n10 3\\ndtype: int64\\nMean of the said Data Series:\\n4.818181818181818\\nStandard deviation of the said Data Series:\\n2.522624895547565\\n'"
            ]
          },
          "metadata": {},
          "execution_count": 47
        }
      ]
    },
    {
      "cell_type": "code",
      "metadata": {
        "id": "Z_ZK_zidSrgW"
      },
      "source": [
        "var = [1,2,3,4,5,6,7,8,9,5,3]"
      ],
      "execution_count": null,
      "outputs": []
    },
    {
      "cell_type": "code",
      "metadata": {
        "id": "uwWkEcUlS0rF"
      },
      "source": [
        "pds = pd.Series(data=var)"
      ],
      "execution_count": null,
      "outputs": []
    },
    {
      "cell_type": "code",
      "metadata": {
        "colab": {
          "base_uri": "https://localhost:8080/"
        },
        "id": "Nm-rSIbLS42H",
        "outputId": "15a87eea-4333-45cb-c86c-d2060f5bd9aa"
      },
      "source": [
        "pds.mean()"
      ],
      "execution_count": null,
      "outputs": [
        {
          "output_type": "execute_result",
          "data": {
            "text/plain": [
              "4.818181818181818"
            ]
          },
          "metadata": {},
          "execution_count": 50
        }
      ]
    },
    {
      "cell_type": "code",
      "metadata": {
        "colab": {
          "base_uri": "https://localhost:8080/"
        },
        "id": "16x92hCOS7NH",
        "outputId": "b124572d-3523-4c4e-916e-30ddb461284c"
      },
      "source": [
        "pds.std()"
      ],
      "execution_count": null,
      "outputs": [
        {
          "output_type": "execute_result",
          "data": {
            "text/plain": [
              "2.522624895547565"
            ]
          },
          "metadata": {},
          "execution_count": 51
        }
      ]
    },
    {
      "cell_type": "markdown",
      "metadata": {
        "id": "E_bnKVMuMst7"
      },
      "source": [
        "# OCT-07-2021"
      ]
    },
    {
      "cell_type": "markdown",
      "metadata": {
        "id": "fMFJnUnlS89I"
      },
      "source": [
        "### !!16- Write a Pandas program to get the items of a given series not present in another given serieS"
      ]
    },
    {
      "cell_type": "code",
      "metadata": {
        "colab": {
          "base_uri": "https://localhost:8080/"
        },
        "id": "jWnyX-wMrewn",
        "outputId": "7c777fa5-ad33-465c-cf15-9b33d04dc09b"
      },
      "source": [
        "\"\"\"\n",
        "Original Series:\n",
        "sr1:\n",
        "0 1\n",
        "1 2\n",
        "2 3\n",
        "3 4\n",
        "4 5\n",
        "dtype: int64\n",
        "sr2:\n",
        "0 2\n",
        "1 4\n",
        "2 6\n",
        "3 8\n",
        "4 10\n",
        "dtype: int64\n",
        "Items of sr1 not present in sr2:\n",
        "0 1\n",
        "2 3\n",
        "4 5\n",
        "dtype: int64\n",
        "\"\"\""
      ],
      "execution_count": null,
      "outputs": [
        {
          "output_type": "execute_result",
          "data": {
            "application/vnd.google.colaboratory.intrinsic+json": {
              "type": "string"
            },
            "text/plain": [
              "'\\nOriginal Series:\\nsr1:\\n0 1\\n1 2\\n2 3\\n3 4\\n4 5\\ndtype: int64\\nsr2:\\n0 2\\n1 4\\n2 6\\n3 8\\n4 10\\ndtype: int64\\nItems of sr1 not present in sr2:\\n0 1\\n2 3\\n4 5\\ndtype: int64\\n'"
            ]
          },
          "metadata": {},
          "execution_count": 52
        }
      ]
    },
    {
      "cell_type": "code",
      "metadata": {
        "id": "m95Nu_B1r3Ib"
      },
      "source": [
        "sr1 = [1,2,3,4,5]\n",
        "sr2 = [2,4,6,8,10]"
      ],
      "execution_count": null,
      "outputs": []
    },
    {
      "cell_type": "code",
      "metadata": {
        "id": "G-QlXUXnsAqm"
      },
      "source": [
        "pd_sr1 = pd.Series(data=sr1)\n",
        "pd_sr2 = pd.Series(data=sr2)"
      ],
      "execution_count": null,
      "outputs": []
    },
    {
      "cell_type": "code",
      "metadata": {
        "colab": {
          "base_uri": "https://localhost:8080/"
        },
        "id": "v0TB25rTvto-",
        "outputId": "cd2be449-b210-4275-e985-b1024d91da4e"
      },
      "source": [
        "pd_sr1[~pd_sr1.isin(pd_sr2)]"
      ],
      "execution_count": null,
      "outputs": [
        {
          "output_type": "execute_result",
          "data": {
            "text/plain": [
              "0    1\n",
              "2    3\n",
              "4    5\n",
              "dtype: int64"
            ]
          },
          "metadata": {},
          "execution_count": 55
        }
      ]
    },
    {
      "cell_type": "code",
      "metadata": {
        "colab": {
          "base_uri": "https://localhost:8080/"
        },
        "id": "Ck5iTBMKxP28",
        "outputId": "79535844-c2dc-4273-a012-55ed8b2d0c7f"
      },
      "source": [
        "pd_sr1[pd_sr1.isin(pd_sr2) == False]"
      ],
      "execution_count": null,
      "outputs": [
        {
          "output_type": "execute_result",
          "data": {
            "text/plain": [
              "0    1\n",
              "2    3\n",
              "4    5\n",
              "dtype: int64"
            ]
          },
          "metadata": {},
          "execution_count": 56
        }
      ]
    },
    {
      "cell_type": "markdown",
      "metadata": {
        "id": "2iYIvhbSx4rS"
      },
      "source": [
        "## ?17- Write a Pandas program to get the items which are not common of two given series."
      ]
    },
    {
      "cell_type": "code",
      "metadata": {
        "colab": {
          "base_uri": "https://localhost:8080/"
        },
        "id": "gg4UXxXYEY8L",
        "outputId": "6b8ad12b-3f29-42e7-a1a5-a4b7c08dca51"
      },
      "source": [
        "\"\"\"\n",
        "Sample Output:\n",
        "Original Series:\n",
        "sr1:\n",
        "0 1\n",
        "1 2\n",
        "2 3\n",
        "3 4\n",
        "4 5\n",
        "dtype: int64\n",
        "sr2:\n",
        "0 2\n",
        "1 4\n",
        "2 6\n",
        "3 8\n",
        "4 10\n",
        "dtype: int64\n",
        "Items of a given series not present in another given series:\n",
        "0 1\n",
        "2 3\n",
        "4 5\n",
        "5 6\n",
        "6 8\n",
        "7 10\n",
        "dtype: int64\n",
        "\"\"\""
      ],
      "execution_count": null,
      "outputs": [
        {
          "output_type": "execute_result",
          "data": {
            "application/vnd.google.colaboratory.intrinsic+json": {
              "type": "string"
            },
            "text/plain": [
              "'\\nSample Output:\\nOriginal Series:\\nsr1:\\n0 1\\n1 2\\n2 3\\n3 4\\n4 5\\ndtype: int64\\nsr2:\\n0 2\\n1 4\\n2 6\\n3 8\\n4 10\\ndtype: int64\\nItems of a given series not present in another given series:\\n0 1\\n2 3\\n4 5\\n5 6\\n6 8\\n7 10\\ndtype: int64\\n'"
            ]
          },
          "metadata": {},
          "execution_count": 57
        }
      ]
    },
    {
      "cell_type": "code",
      "metadata": {
        "id": "ri3YEuaaE0Z3"
      },
      "source": [
        "sr1 = [1,2,3,4,5]\n",
        "sr2 = [2,4,6,8,10]"
      ],
      "execution_count": null,
      "outputs": []
    },
    {
      "cell_type": "code",
      "metadata": {
        "id": "6tzv57aBH1ju"
      },
      "source": [
        "pd_sr1 = pd.Series(data=sr1)\n",
        "pd_sr2 = pd.Series(data=sr2)"
      ],
      "execution_count": null,
      "outputs": []
    },
    {
      "cell_type": "markdown",
      "metadata": {
        "id": "Knw4MMUtIHq8"
      },
      "source": [
        "## !!18- Write a Pandas program to compute the minimum, 25th percentile, median, 75th, and maximum of a given series."
      ]
    },
    {
      "cell_type": "code",
      "metadata": {
        "id": "6mmeN6RvJoZF",
        "colab": {
          "base_uri": "https://localhost:8080/"
        },
        "outputId": "006add1c-d295-43bb-8aa9-2acf528e74f8"
      },
      "source": [
        "\"\"\"\n",
        "Sample Output:\n",
        "Original Series:\n",
        "0 3.000938\n",
        "1 11.370722\n",
        "2 14.612143\n",
        "3 8.990256\n",
        "4 13.925283\n",
        "5 12.056875\n",
        ".... 17 14.118931\n",
        "18 8.247458\n",
        "19 5.526727\n",
        "dtype: float64\n",
        "Minimum, 25th percentile, median, 75th, and maximum of a given series:\n",
        "[ 3.00093811 8.09463867 10.23353705 12.21537733 14.61214321]\n",
        "\"\"\""
      ],
      "execution_count": null,
      "outputs": [
        {
          "output_type": "execute_result",
          "data": {
            "application/vnd.google.colaboratory.intrinsic+json": {
              "type": "string"
            },
            "text/plain": [
              "'\\nSample Output:\\nOriginal Series:\\n0 3.000938\\n1 11.370722\\n2 14.612143\\n3 8.990256\\n4 13.925283\\n5 12.056875\\n.... 17 14.118931\\n18 8.247458\\n19 5.526727\\ndtype: float64\\nMinimum, 25th percentile, median, 75th, and maximum of a given series:\\n[ 3.00093811 8.09463867 10.23353705 12.21537733 14.61214321]\\n'"
            ]
          },
          "metadata": {},
          "execution_count": 60
        }
      ]
    },
    {
      "cell_type": "code",
      "metadata": {
        "id": "DFO52ty5Jtz0"
      },
      "source": [
        "sr = [3.000938,11.370722,14.612143,8.990256,13.925283,12.056875]"
      ],
      "execution_count": null,
      "outputs": []
    },
    {
      "cell_type": "code",
      "metadata": {
        "colab": {
          "base_uri": "https://localhost:8080/"
        },
        "id": "cLpamtnFJ5Fh",
        "outputId": "3ba77c5c-e872-4890-fcad-c9e3b8dadc08"
      },
      "source": [
        "pd_sr = pd.Series(data=sr)\n",
        "pd_sr"
      ],
      "execution_count": null,
      "outputs": [
        {
          "output_type": "execute_result",
          "data": {
            "text/plain": [
              "0     3.000938\n",
              "1    11.370722\n",
              "2    14.612143\n",
              "3     8.990256\n",
              "4    13.925283\n",
              "5    12.056875\n",
              "dtype: float64"
            ]
          },
          "metadata": {},
          "execution_count": 62
        }
      ]
    },
    {
      "cell_type": "code",
      "metadata": {
        "colab": {
          "base_uri": "https://localhost:8080/"
        },
        "id": "x4wjNpfKJ9sp",
        "outputId": "dee8d1c8-6bf7-4d88-a404-93555982920a"
      },
      "source": [
        "print(pd_sr.min())\n",
        "print(pd_sr.median())\n",
        "print(pd_sr.max())"
      ],
      "execution_count": null,
      "outputs": [
        {
          "output_type": "stream",
          "name": "stdout",
          "text": [
            "3.000938\n",
            "11.7137985\n",
            "14.612143\n"
          ]
        }
      ]
    },
    {
      "cell_type": "code",
      "metadata": {
        "colab": {
          "base_uri": "https://localhost:8080/"
        },
        "id": "glgtGKtAKBtq",
        "outputId": "ce4629f4-da28-44f1-fbe7-bfa22de30a16"
      },
      "source": [
        "np.percentile(pd_sr, q=[0,25,50,100])"
      ],
      "execution_count": null,
      "outputs": [
        {
          "output_type": "execute_result",
          "data": {
            "text/plain": [
              "array([ 3.000938 ,  9.5853725, 11.7137985, 14.612143 ])"
            ]
          },
          "metadata": {},
          "execution_count": 64
        }
      ]
    },
    {
      "cell_type": "code",
      "metadata": {
        "colab": {
          "base_uri": "https://localhost:8080/"
        },
        "id": "uu8l65boKw5X",
        "outputId": "07c3c241-f93a-4b8c-9b2d-d8d3595be49f"
      },
      "source": [
        "result = np.percentile(pd_sr, q=[0,25,50,75,100])\n",
        "print(f'Min. value: {result[0]}')\n",
        "print(f\"25th percentile: {result[1]}\")\n",
        "print(f\"median: {result[2]}\")\n",
        "print(f\"75th percentile: {result[3]}\")\n",
        "print(f\"max value: {result[4]}\")"
      ],
      "execution_count": null,
      "outputs": [
        {
          "output_type": "stream",
          "name": "stdout",
          "text": [
            "Min. value: 3.000938\n",
            "25th percentile: 9.5853725\n",
            "median: 11.7137985\n",
            "75th percentile: 13.458181\n",
            "max value: 14.612143\n"
          ]
        }
      ]
    },
    {
      "cell_type": "markdown",
      "metadata": {
        "id": "u1JXkRfBxIl0"
      },
      "source": [
        "# OCT-08-2021\n"
      ]
    },
    {
      "cell_type": "markdown",
      "metadata": {
        "id": "EPAsxm7kOLqD"
      },
      "source": [
        "## 19- Write a Pandas program to calculate the frequency counts of each unique value of a given series."
      ]
    },
    {
      "cell_type": "code",
      "metadata": {
        "colab": {
          "base_uri": "https://localhost:8080/"
        },
        "id": "F14QJGxSurkI",
        "outputId": "03f42c8e-9440-4586-9204-5c9336ff8ee8"
      },
      "source": [
        "\"\"\"\n",
        "Sample Output:\n",
        "Original Series:\n",
        "0 1\n",
        "1 7\n",
        "2 1\n",
        "3 6\n",
        "4 9\n",
        "5 1\n",
        "... 29 2\n",
        "30 9\n",
        "31 1\n",
        "32 2\n",
        "33 9\n",
        "34 2\n",
        "35 9\n",
        "36 0\n",
        "37 0\n",
        "38 4\n",
        "39 8\n",
        "dtype: object\n",
        "Frequency of each unique value of the said series.\n",
        "0 9\n",
        "2 7\n",
        "9 6\n",
        "1 5\n",
        "6 3\n",
        "8 3\n",
        "7 3\n",
        "3 2\n",
        "4 1\n",
        "5 1\n",
        "dtype: int64s\n",
        "\"\"\""
      ],
      "execution_count": null,
      "outputs": [
        {
          "output_type": "execute_result",
          "data": {
            "application/vnd.google.colaboratory.intrinsic+json": {
              "type": "string"
            },
            "text/plain": [
              "'\\nSample Output:\\nOriginal Series:\\n0 1\\n1 7\\n2 1\\n3 6\\n4 9\\n5 1\\n... 29 2\\n30 9\\n31 1\\n32 2\\n33 9\\n34 2\\n35 9\\n36 0\\n37 0\\n38 4\\n39 8\\ndtype: object\\nFrequency of each unique value of the said series.\\n0 9\\n2 7\\n9 6\\n1 5\\n6 3\\n8 3\\n7 3\\n3 2\\n4 1\\n5 1\\ndtype: int64s\\n'"
            ]
          },
          "metadata": {},
          "execution_count": 66
        }
      ]
    },
    {
      "cell_type": "code",
      "metadata": {
        "id": "VPEIZeFZu9F9"
      },
      "source": [
        "sr = [1,16,5,1,8,4,18,4,8,7,9,4,5,1,6,8,76,1,56,49,8]"
      ],
      "execution_count": null,
      "outputs": []
    },
    {
      "cell_type": "code",
      "metadata": {
        "id": "4PGGwQjRvB6C"
      },
      "source": [
        "pd_sr = pd.Series(data=sr)"
      ],
      "execution_count": null,
      "outputs": []
    },
    {
      "cell_type": "code",
      "metadata": {
        "colab": {
          "base_uri": "https://localhost:8080/"
        },
        "id": "K3PkOC6JvwlT",
        "outputId": "366fdfa5-b4fe-403a-b59a-c17747556769"
      },
      "source": [
        "pd_sr.value_counts() "
      ],
      "execution_count": null,
      "outputs": [
        {
          "output_type": "execute_result",
          "data": {
            "text/plain": [
              "8     4\n",
              "1     4\n",
              "4     3\n",
              "5     2\n",
              "56    1\n",
              "18    1\n",
              "49    1\n",
              "16    1\n",
              "76    1\n",
              "9     1\n",
              "7     1\n",
              "6     1\n",
              "dtype: int64"
            ]
          },
          "metadata": {},
          "execution_count": 69
        }
      ]
    },
    {
      "cell_type": "markdown",
      "metadata": {
        "id": "xL9JmtFywGiu"
      },
      "source": [
        "## 20- Write a Pandas program to display most frequent value in a given series and replace everything else as 'Other' in the series. "
      ]
    },
    {
      "cell_type": "code",
      "metadata": {
        "id": "FckujfD7xOkH"
      },
      "source": [
        "sr = np.random.randint(1,20,[20])"
      ],
      "execution_count": null,
      "outputs": []
    },
    {
      "cell_type": "code",
      "metadata": {
        "id": "DE4pKw4nxYoS"
      },
      "source": [
        "pd_sr = pd.Series(data=sr)"
      ],
      "execution_count": null,
      "outputs": []
    },
    {
      "cell_type": "code",
      "metadata": {
        "colab": {
          "base_uri": "https://localhost:8080/"
        },
        "id": "CmTjpFL0xpVZ",
        "outputId": "99f684da-f7e3-4fa1-ef48-35763d7190c8"
      },
      "source": [
        "value_frequency = pd_sr.value_counts()\n",
        "value_frequency"
      ],
      "execution_count": null,
      "outputs": [
        {
          "output_type": "execute_result",
          "data": {
            "text/plain": [
              "13    3\n",
              "10    3\n",
              "3     3\n",
              "18    2\n",
              "8     2\n",
              "4     2\n",
              "2     2\n",
              "1     2\n",
              "11    1\n",
              "dtype: int64"
            ]
          },
          "metadata": {},
          "execution_count": 72
        }
      ]
    },
    {
      "cell_type": "code",
      "metadata": {
        "colab": {
          "base_uri": "https://localhost:8080/"
        },
        "id": "bZ1Fy73_x5xz",
        "outputId": "d6b46095-b70f-487e-fe92-d02ac55e3af7"
      },
      "source": [
        "value_frequency.replace()"
      ],
      "execution_count": null,
      "outputs": [
        {
          "output_type": "execute_result",
          "data": {
            "text/plain": [
              "13    3\n",
              "10    3\n",
              "3     3\n",
              "18    2\n",
              "8     2\n",
              "4     2\n",
              "2     2\n",
              "1     2\n",
              "11    1\n",
              "dtype: int64"
            ]
          },
          "metadata": {},
          "execution_count": 73
        }
      ]
    },
    {
      "cell_type": "code",
      "metadata": {
        "colab": {
          "base_uri": "https://localhost:8080/"
        },
        "id": "SEMe5x41yBMO",
        "outputId": "f12f2bcb-a88b-4cf9-8879-974cfe0f42d4"
      },
      "source": [
        "pd_sr[pd_sr.isin(value_frequency)]"
      ],
      "execution_count": null,
      "outputs": [
        {
          "output_type": "execute_result",
          "data": {
            "text/plain": [
              "2     3\n",
              "8     2\n",
              "9     3\n",
              "10    1\n",
              "13    1\n",
              "15    3\n",
              "18    2\n",
              "dtype: int64"
            ]
          },
          "metadata": {},
          "execution_count": 74
        }
      ]
    },
    {
      "cell_type": "code",
      "metadata": {
        "colab": {
          "base_uri": "https://localhost:8080/"
        },
        "id": "UdjDUe46zM2o",
        "outputId": "9723c6be-a9aa-4f74-fb0e-3f4279b71f27"
      },
      "source": [
        "pd_sr"
      ],
      "execution_count": null,
      "outputs": [
        {
          "output_type": "execute_result",
          "data": {
            "text/plain": [
              "0     13\n",
              "1     11\n",
              "2      3\n",
              "3      4\n",
              "4      4\n",
              "5     10\n",
              "6      8\n",
              "7     13\n",
              "8      2\n",
              "9      3\n",
              "10     1\n",
              "11    18\n",
              "12    10\n",
              "13     1\n",
              "14    13\n",
              "15     3\n",
              "16    10\n",
              "17     8\n",
              "18     2\n",
              "19    18\n",
              "dtype: int64"
            ]
          },
          "metadata": {},
          "execution_count": 75
        }
      ]
    },
    {
      "cell_type": "code",
      "metadata": {
        "colab": {
          "base_uri": "https://localhost:8080/"
        },
        "id": "sIn2TULfzRXu",
        "outputId": "439c9b78-ca94-4415-fb29-17656618ac7e"
      },
      "source": [
        "value_frequency"
      ],
      "execution_count": null,
      "outputs": [
        {
          "output_type": "execute_result",
          "data": {
            "text/plain": [
              "13    3\n",
              "10    3\n",
              "3     3\n",
              "18    2\n",
              "8     2\n",
              "4     2\n",
              "2     2\n",
              "1     2\n",
              "11    1\n",
              "dtype: int64"
            ]
          },
          "metadata": {},
          "execution_count": 76
        }
      ]
    },
    {
      "cell_type": "code",
      "metadata": {
        "id": "s9tH-paazTXC"
      },
      "source": [
        ""
      ],
      "execution_count": null,
      "outputs": []
    },
    {
      "cell_type": "markdown",
      "metadata": {
        "id": "gMSym9FLVUqe"
      },
      "source": [
        "# OCT-11-2021\n"
      ]
    },
    {
      "cell_type": "markdown",
      "metadata": {
        "id": "qMfFLv21VZ58"
      },
      "source": [
        "## !!21- Write a Pandas program to find the positions of numbers that are multiples of 5 of a given series"
      ]
    },
    {
      "cell_type": "code",
      "metadata": {
        "id": "2lPFCKqVVuNV"
      },
      "source": [
        "\"\"\"\n",
        "Original Series:\n",
        "0 1\n",
        "1 9\n",
        "2 8\n",
        "3 6\n",
        "4 9\n",
        "5 7\n",
        "6 1\n",
        "7 1\n",
        "8 1\n",
        "dtype: int64\n",
        "Positions of numbers that are multiples of 5:\n",
        "[]\n",
        "\"\"\""
      ],
      "execution_count": null,
      "outputs": []
    },
    {
      "cell_type": "code",
      "metadata": {
        "id": "EsMKTVpPWAQf"
      },
      "source": [
        "sr = [9,1,8,5,9,7,1,1,1]"
      ],
      "execution_count": null,
      "outputs": []
    },
    {
      "cell_type": "code",
      "metadata": {
        "colab": {
          "base_uri": "https://localhost:8080/"
        },
        "id": "cXAF6KpsWEIC",
        "outputId": "11421c60-5c78-4f90-f4ac-ff48df5cd3ee"
      },
      "source": [
        "pd_sr = pd.Series(data=sr)\n",
        "pd_sr"
      ],
      "execution_count": null,
      "outputs": [
        {
          "output_type": "execute_result",
          "data": {
            "text/plain": [
              "0    9\n",
              "1    1\n",
              "2    8\n",
              "3    5\n",
              "4    9\n",
              "5    7\n",
              "6    1\n",
              "7    1\n",
              "8    1\n",
              "dtype: int64"
            ]
          },
          "metadata": {},
          "execution_count": 89
        }
      ]
    },
    {
      "cell_type": "markdown",
      "metadata": {
        "id": "DRwLUUDUWiHw"
      },
      "source": [
        "Find the indices of array elements that are non-zero, grouped by element."
      ]
    },
    {
      "cell_type": "code",
      "metadata": {
        "colab": {
          "base_uri": "https://localhost:8080/"
        },
        "id": "vbp6qIT-WO8t",
        "outputId": "f7534b8c-b6fa-4f41-b087-05a74fef2afe"
      },
      "source": [
        "pd_sr[pd_sr%5==0].index"
      ],
      "execution_count": null,
      "outputs": [
        {
          "output_type": "execute_result",
          "data": {
            "text/plain": [
              "Int64Index([3], dtype='int64')"
            ]
          },
          "metadata": {},
          "execution_count": 96
        }
      ]
    },
    {
      "cell_type": "markdown",
      "metadata": {
        "id": "KqASy8WnY4PZ"
      },
      "source": [
        "OR"
      ]
    },
    {
      "cell_type": "code",
      "metadata": {
        "colab": {
          "base_uri": "https://localhost:8080/"
        },
        "id": "d7HAQkeeXipS",
        "outputId": "ed1f3afb-8339-47b2-fe9c-431671273dad"
      },
      "source": [
        "values = np.random.randint(1,20,15)\n",
        "pd_np_sr = pd.Series(values)\n",
        "print(pd_np_sr)\n",
        "print(np.argwhere(values%5==0))"
      ],
      "execution_count": null,
      "outputs": [
        {
          "output_type": "stream",
          "name": "stdout",
          "text": [
            "0      8\n",
            "1      3\n",
            "2     19\n",
            "3     19\n",
            "4      9\n",
            "5      8\n",
            "6     10\n",
            "7      4\n",
            "8      7\n",
            "9     18\n",
            "10     1\n",
            "11    16\n",
            "12    10\n",
            "13     5\n",
            "14    15\n",
            "dtype: int64\n",
            "[[ 6]\n",
            " [12]\n",
            " [13]\n",
            " [14]]\n"
          ]
        }
      ]
    },
    {
      "cell_type": "code",
      "metadata": {
        "colab": {
          "base_uri": "https://localhost:8080/"
        },
        "id": "0xzAOdK5YUtc",
        "outputId": "f309ac44-5f73-4a22-e03f-4e37cb45d3b5"
      },
      "source": [
        ""
      ],
      "execution_count": null,
      "outputs": [
        {
          "output_type": "execute_result",
          "data": {
            "text/plain": [
              "array([[0],\n",
              "       [1],\n",
              "       [7]])"
            ]
          },
          "metadata": {},
          "execution_count": 102
        }
      ]
    },
    {
      "cell_type": "markdown",
      "metadata": {
        "id": "Hd-Y1LHDY-pR"
      },
      "source": [
        "## !!22- Write a Pandas program to extract items at given positions of a given series."
      ]
    },
    {
      "cell_type": "code",
      "metadata": {
        "id": "TBRExtzPZBJ1"
      },
      "source": [
        "\"\"\"\n",
        "Sample Output:\n",
        "Original Series:\n",
        "0 2\n",
        "1 3\n",
        "2 9\n",
        "3 0\n",
        "4 2\n",
        "5 3\n",
        "... 19 0\n",
        "20 2\n",
        "21 3\n",
        "dtype: object\n",
        "Extract items at given positions of the said series:\n",
        "0 2\n",
        "2 9\n",
        "6 8\n",
        "11 0\n",
        "21 3\n",
        "dtype: object\n",
        "\"\"\""
      ],
      "execution_count": null,
      "outputs": []
    },
    {
      "cell_type": "code",
      "metadata": {
        "id": "46uxnn2jZIyB"
      },
      "source": [
        "values = np.random.randint(1, 20, 15)"
      ],
      "execution_count": null,
      "outputs": []
    },
    {
      "cell_type": "code",
      "metadata": {
        "id": "BCvYjO_xZM3N"
      },
      "source": [
        "pd_sr = pd.Series(values)"
      ],
      "execution_count": null,
      "outputs": []
    },
    {
      "cell_type": "code",
      "metadata": {
        "colab": {
          "base_uri": "https://localhost:8080/"
        },
        "id": "Za3yQGSKZU7h",
        "outputId": "61dac998-08bb-48b0-9688-5ba954fe4057"
      },
      "source": [
        "pd_sr.take([0,2,6,11])"
      ],
      "execution_count": null,
      "outputs": [
        {
          "output_type": "execute_result",
          "data": {
            "text/plain": [
              "0     12\n",
              "2      6\n",
              "6     19\n",
              "11    16\n",
              "dtype: int64"
            ]
          },
          "metadata": {},
          "execution_count": 109
        }
      ]
    },
    {
      "cell_type": "code",
      "metadata": {
        "colab": {
          "base_uri": "https://localhost:8080/"
        },
        "id": "VRbLPR8WZ7lw",
        "outputId": "9824f798-b9fd-4acc-a3f2-50c1d5af43ff"
      },
      "source": [
        "pd_sr[0:12]"
      ],
      "execution_count": null,
      "outputs": [
        {
          "output_type": "execute_result",
          "data": {
            "text/plain": [
              "0     12\n",
              "1      7\n",
              "2      6\n",
              "3      1\n",
              "4      8\n",
              "5     11\n",
              "6     19\n",
              "7     15\n",
              "8     19\n",
              "9      8\n",
              "10    18\n",
              "11    16\n",
              "dtype: int64"
            ]
          },
          "metadata": {},
          "execution_count": 111
        }
      ]
    },
    {
      "cell_type": "markdown",
      "metadata": {
        "id": "1Ltppb56Ztxf"
      },
      "source": [
        "### 23. Write a Pandas program to get the positions of items of a given series in another given series."
      ]
    },
    {
      "cell_type": "code",
      "metadata": {
        "colab": {
          "base_uri": "https://localhost:8080/",
          "height": 53
        },
        "id": "KkC6yZ7maN9b",
        "outputId": "a0bdcbd5-b634-4922-da8b-3f5b38852d52"
      },
      "source": [
        "\"\"\"\n",
        "Sample Output:\n",
        "Original Series:\n",
        "0 1\n",
        "1 2\n",
        "2 3\n",
        "3 4\n",
        "4 5\n",
        "5 6\n",
        "6 7\n",
        "7 8\n",
        "8 9\n",
        "9 10\n",
        "dtype: int64\n",
        "0 1\n",
        "1 3\n",
        "2 5\n",
        "3 7\n",
        "4 10\n",
        "dtype: int64\n",
        "Positions of items of series2 in series1:\n",
        "[0, 2, 4, 6, 9]\n",
        "\"\"\""
      ],
      "execution_count": null,
      "outputs": [
        {
          "output_type": "execute_result",
          "data": {
            "application/vnd.google.colaboratory.intrinsic+json": {
              "type": "string"
            },
            "text/plain": [
              "'\\nSample Output:\\nOriginal Series:\\n0 1\\n1 2\\n2 3\\n3 4\\n4 5\\n5 6\\n6 7\\n7 8\\n8 9\\n9 10\\ndtype: int64\\n0 1\\n1 3\\n2 5\\n3 7\\n4 10\\ndtype: int64\\nPositions of items of series2 in series1:\\n[0, 2, 4, 6, 9]\\n'"
            ]
          },
          "metadata": {},
          "execution_count": 112
        }
      ]
    },
    {
      "cell_type": "code",
      "metadata": {
        "id": "D9rdNo4LaTEC"
      },
      "source": [
        "sr1 = [1,2,3,4,5,6,7,8,9,10]\n",
        "sr2 = [1,3,5,7]"
      ],
      "execution_count": null,
      "outputs": []
    },
    {
      "cell_type": "code",
      "metadata": {
        "id": "Oz-4EUiOfSAL"
      },
      "source": [
        "pd_sr1 = pd.Series(sr1)\n",
        "pd_sr2 = pd.Series(sr2)"
      ],
      "execution_count": null,
      "outputs": []
    }
  ]
}