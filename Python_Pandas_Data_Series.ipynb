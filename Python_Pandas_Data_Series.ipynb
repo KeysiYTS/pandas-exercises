{
  "nbformat": 4,
  "nbformat_minor": 0,
  "metadata": {
    "colab": {
      "name": "Python Pandas Data Series.ipynb",
      "provenance": [],
      "collapsed_sections": [
        "TXE9UE2_JDo5",
        "1y16whTGLBQ9",
        "pgQNSLKeOWb-",
        "BkBBymd-SEsB",
        "iBAbr9cfT1fH",
        "RMOX7Wr9Xxb8",
        "A8n9vvJOXxPp",
        "pwl04AqgWtqm"
      ],
      "toc_visible": true,
      "mount_file_id": "1jXkllZ5x1uG8ecnocPsJJQghIx23YG3L",
      "authorship_tag": "ABX9TyNA0JJeh9ansf1305bEWVi6",
      "include_colab_link": true
    },
    "kernelspec": {
      "name": "python3",
      "display_name": "Python 3"
    },
    "language_info": {
      "name": "python"
    }
  },
  "cells": [
    {
      "cell_type": "markdown",
      "metadata": {
        "id": "view-in-github",
        "colab_type": "text"
      },
      "source": [
        "<a href=\"https://colab.research.google.com/github/KeysiYTS/pandas-exercises/blob/main/Python_Pandas_Data_Series.ipynb\" target=\"_parent\"><img src=\"https://colab.research.google.com/assets/colab-badge.svg\" alt=\"Open In Colab\"/></a>"
      ]
    },
    {
      "cell_type": "markdown",
      "metadata": {
        "id": "lXU3uSG3-gtz"
      },
      "source": [
        "[W3 Resources](https://www.w3resource.com/python-exercises/pandas/index-data-series.php)\n"
      ]
    },
    {
      "cell_type": "code",
      "metadata": {
        "id": "7hRGYXqd9nsv"
      },
      "source": [
        "import pandas as pd\n",
        "import numpy as np"
      ],
      "execution_count": 1,
      "outputs": []
    },
    {
      "cell_type": "markdown",
      "metadata": {
        "id": "Nu1LA31oNE8P"
      },
      "source": [
        "# OCT-01-2021"
      ]
    },
    {
      "cell_type": "markdown",
      "metadata": {
        "id": "Ox9ZTJno-Xot"
      },
      "source": [
        "## 1- Write a Pandas program to create and display a one-dimensional array-like object containing an array of data using Pandas module."
      ]
    },
    {
      "cell_type": "markdown",
      "metadata": {
        "id": "ArPwhxpiQ-0f"
      },
      "source": [
        "oct-01-2021"
      ]
    },
    {
      "cell_type": "code",
      "metadata": {
        "colab": {
          "base_uri": "https://localhost:8080/"
        },
        "id": "OZ-PicM0-aiZ",
        "outputId": "50d92ac0-9293-431d-93aa-4245b40e7885"
      },
      "source": [
        "pds = pd.Series(data=[1,2,3,4,5])\n",
        "print(pds)"
      ],
      "execution_count": null,
      "outputs": [
        {
          "output_type": "stream",
          "name": "stdout",
          "text": [
            "0    1\n",
            "1    2\n",
            "2    3\n",
            "3    4\n",
            "4    5\n",
            "dtype: int64\n"
          ]
        }
      ]
    },
    {
      "cell_type": "markdown",
      "metadata": {
        "id": "gcF59beL-uV2"
      },
      "source": [
        "##2- Write a Pandas program to convert a Panda module Series to Python list and it's type"
      ]
    },
    {
      "cell_type": "code",
      "metadata": {
        "colab": {
          "base_uri": "https://localhost:8080/"
        },
        "id": "RZLHhhIF_oYB",
        "outputId": "18bcb01f-f25e-48a6-afa8-4450be069707"
      },
      "source": [
        "python_list = pds.to_list()\n",
        "print(python_list)"
      ],
      "execution_count": null,
      "outputs": [
        {
          "output_type": "stream",
          "name": "stdout",
          "text": [
            "[1, 2, 3, 4, 5]\n"
          ]
        }
      ]
    },
    {
      "cell_type": "code",
      "metadata": {
        "colab": {
          "base_uri": "https://localhost:8080/"
        },
        "id": "77xBJ2MY_tD6",
        "outputId": "f4621528-e6b9-4348-bfef-2836dd0f8349"
      },
      "source": [
        "print(type(pds.to_list()))"
      ],
      "execution_count": null,
      "outputs": [
        {
          "output_type": "stream",
          "name": "stdout",
          "text": [
            "<class 'list'>\n"
          ]
        }
      ]
    },
    {
      "cell_type": "markdown",
      "metadata": {
        "id": "dL05RL9g_5f5"
      },
      "source": [
        "## 3- Write a Pandas program to add, subtract, multiple and divide two Pandas Series. \n"
      ]
    },
    {
      "cell_type": "code",
      "metadata": {
        "id": "svcRRFY-AOuq"
      },
      "source": [
        "# Sample Series: [2, 4, 6, 8, 10], [1, 3, 5, 7, 9]"
      ],
      "execution_count": null,
      "outputs": []
    },
    {
      "cell_type": "code",
      "metadata": {
        "id": "CIQIL9yUAREh"
      },
      "source": [
        "pds1 = pd.Series(data=[2, 4, 6, 8, 10])\n",
        "pds2 = pd.Series(data=[1, 3, 5, 7, 9])"
      ],
      "execution_count": null,
      "outputs": []
    },
    {
      "cell_type": "code",
      "metadata": {
        "colab": {
          "base_uri": "https://localhost:8080/"
        },
        "id": "Ac1ShKFnAfzo",
        "outputId": "ec5188a0-e6c9-4155-aa88-783b14d3d72c"
      },
      "source": [
        "pds_add = pds1.add(pds2, axis=0) # or pds1 + pds2\n",
        "print(pds_add)"
      ],
      "execution_count": null,
      "outputs": [
        {
          "output_type": "stream",
          "name": "stdout",
          "text": [
            "0     3\n",
            "1     7\n",
            "2    11\n",
            "3    15\n",
            "4    19\n",
            "dtype: int64\n"
          ]
        }
      ]
    },
    {
      "cell_type": "code",
      "metadata": {
        "colab": {
          "base_uri": "https://localhost:8080/"
        },
        "id": "x5Sc0cfAAsO3",
        "outputId": "c788f333-2070-4367-82c6-be3f0b6cd99f"
      },
      "source": [
        "pds_sub = pds1.subtract(pds2, axis=0) # or pds1 - pds2\n",
        "print(pds_sub)"
      ],
      "execution_count": null,
      "outputs": [
        {
          "output_type": "stream",
          "name": "stdout",
          "text": [
            "0    1\n",
            "1    1\n",
            "2    1\n",
            "3    1\n",
            "4    1\n",
            "dtype: int64\n"
          ]
        }
      ]
    },
    {
      "cell_type": "code",
      "metadata": {
        "colab": {
          "base_uri": "https://localhost:8080/"
        },
        "id": "nBfUQO7fA9uI",
        "outputId": "2b6f5c7c-9041-41c4-f1b4-0c53f66e09c9"
      },
      "source": [
        "pds_mul = pds1.multiply(pds2, axis=0) # or pds1 * pds2\n",
        "print(pds_mul)"
      ],
      "execution_count": null,
      "outputs": [
        {
          "output_type": "stream",
          "name": "stdout",
          "text": [
            "0     2\n",
            "1    12\n",
            "2    30\n",
            "3    56\n",
            "4    90\n",
            "dtype: int64\n"
          ]
        }
      ]
    },
    {
      "cell_type": "code",
      "metadata": {
        "colab": {
          "base_uri": "https://localhost:8080/"
        },
        "id": "-DhDzItqBIvf",
        "outputId": "0dfa7a96-1f7b-4b80-9cac-c3bb910e9413"
      },
      "source": [
        "pds_div = pds1.divide(pds2, axis=0) # or pds1/pds2\n",
        "print(pds_div)"
      ],
      "execution_count": null,
      "outputs": [
        {
          "output_type": "stream",
          "name": "stdout",
          "text": [
            "0    2.000000\n",
            "1    1.333333\n",
            "2    1.200000\n",
            "3    1.142857\n",
            "4    1.111111\n",
            "dtype: float64\n"
          ]
        }
      ]
    },
    {
      "cell_type": "markdown",
      "metadata": {
        "id": "b9DwScTtBSr8"
      },
      "source": [
        "## 4- Write a Pandas program to compare the elements of the two Pandas Series.\n"
      ]
    },
    {
      "cell_type": "code",
      "metadata": {
        "id": "_O7PAN8OBzPT"
      },
      "source": [
        "#Sample Series: [2, 4, 6, 8, 10], [1, 3, 5, 7, 10]"
      ],
      "execution_count": null,
      "outputs": []
    },
    {
      "cell_type": "code",
      "metadata": {
        "id": "LsVbewpSB0BH"
      },
      "source": [
        "pds1 = pd.Series(data=[2, 4, 6, 8, 10])\n",
        "pds2 = pd.Series(data=[1, 3, 5, 7, 10])"
      ],
      "execution_count": null,
      "outputs": []
    },
    {
      "cell_type": "code",
      "metadata": {
        "colab": {
          "base_uri": "https://localhost:8080/"
        },
        "id": "ulTkx402B8qO",
        "outputId": "02319232-c519-48ee-bd6b-3ac8894d3de2"
      },
      "source": [
        "print(pds1 == pds2)"
      ],
      "execution_count": null,
      "outputs": [
        {
          "output_type": "stream",
          "name": "stdout",
          "text": [
            "0    False\n",
            "1    False\n",
            "2    False\n",
            "3    False\n",
            "4     True\n",
            "dtype: bool\n"
          ]
        }
      ]
    },
    {
      "cell_type": "code",
      "metadata": {
        "colab": {
          "base_uri": "https://localhost:8080/"
        },
        "id": "_x7AxaVtCBeu",
        "outputId": "796c9b16-3778-4e4c-9f7b-1794e7015045"
      },
      "source": [
        "print(pds1 > pds2)"
      ],
      "execution_count": null,
      "outputs": [
        {
          "output_type": "stream",
          "name": "stdout",
          "text": [
            "0     True\n",
            "1     True\n",
            "2     True\n",
            "3     True\n",
            "4    False\n",
            "dtype: bool\n"
          ]
        }
      ]
    },
    {
      "cell_type": "code",
      "metadata": {
        "id": "CB7Jg79QkvEa"
      },
      "source": [
        ""
      ],
      "execution_count": null,
      "outputs": []
    },
    {
      "cell_type": "code",
      "metadata": {
        "colab": {
          "base_uri": "https://localhost:8080/"
        },
        "id": "iYGyGI0xCIpJ",
        "outputId": "e52e0205-dd31-4f96-b030-3991de7edbc6"
      },
      "source": [
        "print(pds1 < pds2)"
      ],
      "execution_count": null,
      "outputs": [
        {
          "output_type": "stream",
          "name": "stdout",
          "text": [
            "0    False\n",
            "1    False\n",
            "2    False\n",
            "3    False\n",
            "4    False\n",
            "dtype: bool\n"
          ]
        }
      ]
    },
    {
      "cell_type": "markdown",
      "metadata": {
        "id": "iIhGMHIHCenB"
      },
      "source": [
        "## 5- Write a Pandas program to convert a dictionary to a Pandas series. "
      ]
    },
    {
      "cell_type": "code",
      "metadata": {
        "colab": {
          "base_uri": "https://localhost:8080/"
        },
        "id": "Az7lDzDdC4xq",
        "outputId": "541d0a89-cc22-4e18-d0fa-e71568682cb8"
      },
      "source": [
        "\"\"\"\n",
        "Sample Series:\n",
        "Original dictionary:\n",
        "{'a': 100, 'b': 200, 'c': 300, 'd': 400, 'e': 800}\n",
        "Converted series:\n",
        "a 100\n",
        "b 200\n",
        "c 300\n",
        "d 400\n",
        "e 800\n",
        "dtype: int64\n",
        "\"\"\""
      ],
      "execution_count": null,
      "outputs": [
        {
          "output_type": "execute_result",
          "data": {
            "application/vnd.google.colaboratory.intrinsic+json": {
              "type": "string"
            },
            "text/plain": [
              "\"\\nSample Series:\\nOriginal dictionary:\\n{'a': 100, 'b': 200, 'c': 300, 'd': 400, 'e': 800}\\nConverted series:\\na 100\\nb 200\\nc 300\\nd 400\\ne 800\\ndtype: int64\\n\""
            ]
          },
          "metadata": {},
          "execution_count": 16
        }
      ]
    },
    {
      "cell_type": "code",
      "metadata": {
        "colab": {
          "base_uri": "https://localhost:8080/"
        },
        "id": "8TAMytiqC-sw",
        "outputId": "a4cbc1aa-bd9a-446f-debb-d1a444adacd0"
      },
      "source": [
        "pds = pd.Series(data={'a': 100, 'b': 200, 'c': 300, 'd': 400, 'e': 800})\n",
        "print(pds)"
      ],
      "execution_count": null,
      "outputs": [
        {
          "output_type": "stream",
          "name": "stdout",
          "text": [
            "a    100\n",
            "b    200\n",
            "c    300\n",
            "d    400\n",
            "e    800\n",
            "dtype: int64\n"
          ]
        }
      ]
    },
    {
      "cell_type": "markdown",
      "metadata": {
        "id": "0A5h-2qaDKFh"
      },
      "source": [
        "## 6- Write a Pandas program to convert a NumPy array to a Pandas series."
      ]
    },
    {
      "cell_type": "code",
      "metadata": {
        "colab": {
          "base_uri": "https://localhost:8080/"
        },
        "id": "SmLWF8f-DS3U",
        "outputId": "d909169f-049f-47da-cc83-8d454f124912"
      },
      "source": [
        "\"\"\"\n",
        "Sample Series:\n",
        "NumPy array:\n",
        "[10 20 30 40 50]\n",
        "Converted Pandas series:\n",
        "0 10\n",
        "1 20\n",
        "2 30\n",
        "3 40\n",
        "4 50\n",
        "dtype: int64\n",
        "\"\"\""
      ],
      "execution_count": null,
      "outputs": [
        {
          "output_type": "execute_result",
          "data": {
            "application/vnd.google.colaboratory.intrinsic+json": {
              "type": "string"
            },
            "text/plain": [
              "'\\nSample Series:\\nNumPy array:\\n[10 20 30 40 50]\\nConverted Pandas series:\\n0 10\\n1 20\\n2 30\\n3 40\\n4 50\\ndtype: int64\\n'"
            ]
          },
          "metadata": {},
          "execution_count": 18
        }
      ]
    },
    {
      "cell_type": "code",
      "metadata": {
        "colab": {
          "base_uri": "https://localhost:8080/"
        },
        "id": "EzWGKeN6DYOR",
        "outputId": "5da6a002-17f0-4ec7-d23e-1a89ac894962"
      },
      "source": [
        "npa = np.array([10, 20, 30, 40, 50])\n",
        "print(npa)\n",
        "print(type(npa))"
      ],
      "execution_count": null,
      "outputs": [
        {
          "output_type": "stream",
          "name": "stdout",
          "text": [
            "[10 20 30 40 50]\n",
            "<class 'numpy.ndarray'>\n"
          ]
        }
      ]
    },
    {
      "cell_type": "code",
      "metadata": {
        "colab": {
          "base_uri": "https://localhost:8080/"
        },
        "id": "IPbZFQLiDho1",
        "outputId": "22a411d4-e7b6-4a11-d7dd-2b083420b022"
      },
      "source": [
        "pdn = pd.Series(data=npa)\n",
        "print(pdn)"
      ],
      "execution_count": null,
      "outputs": [
        {
          "output_type": "stream",
          "name": "stdout",
          "text": [
            "0    10\n",
            "1    20\n",
            "2    30\n",
            "3    40\n",
            "4    50\n",
            "dtype: int64\n"
          ]
        }
      ]
    },
    {
      "cell_type": "markdown",
      "metadata": {
        "id": "kJs9R62bEJwt"
      },
      "source": [
        "## !!7- Write a Pandas program to change the data type of given a column or a Series. "
      ]
    },
    {
      "cell_type": "code",
      "metadata": {
        "colab": {
          "base_uri": "https://localhost:8080/"
        },
        "id": "RJFAgAIRENKh",
        "outputId": "1009249b-8b7b-47ad-8f6d-08cdf365588a"
      },
      "source": [
        "\"\"\"\n",
        "Sample Series:\n",
        "Original Data Series:\n",
        "0 100\n",
        "1 200\n",
        "2 python\n",
        "3 300.12\n",
        "4 400\n",
        "dtype: object\n",
        "Change the said data type to numeric:\n",
        "0 100.00\n",
        "1 200.00\n",
        "2 NaN\n",
        "3 300.12\n",
        "4 400.00\n",
        "dtype: float64\n",
        "\"\"\""
      ],
      "execution_count": null,
      "outputs": [
        {
          "output_type": "execute_result",
          "data": {
            "application/vnd.google.colaboratory.intrinsic+json": {
              "type": "string"
            },
            "text/plain": [
              "'\\nSample Series:\\nOriginal Data Series:\\n0 100\\n1 200\\n2 python\\n3 300.12\\n4 400\\ndtype: object\\nChange the said data type to numeric:\\n0 100.00\\n1 200.00\\n2 NaN\\n3 300.12\\n4 400.00\\ndtype: float64\\n'"
            ]
          },
          "metadata": {},
          "execution_count": 21
        }
      ]
    },
    {
      "cell_type": "code",
      "metadata": {
        "colab": {
          "base_uri": "https://localhost:8080/"
        },
        "id": "K6RT9xQ-ERua",
        "outputId": "6506f3f9-c2b6-4925-c1a5-ea522ae4ebfa"
      },
      "source": [
        "pds = pd.Series(data=[100,200,'python',300.12,400])\n",
        "print(pds)"
      ],
      "execution_count": null,
      "outputs": [
        {
          "output_type": "stream",
          "name": "stdout",
          "text": [
            "0       100\n",
            "1       200\n",
            "2    python\n",
            "3    300.12\n",
            "4       400\n",
            "dtype: object\n"
          ]
        }
      ]
    },
    {
      "cell_type": "code",
      "metadata": {
        "colab": {
          "base_uri": "https://localhost:8080/"
        },
        "id": "2zTx01SVEqS9",
        "outputId": "39c4aaec-c8c2-455d-8137-1ef4c42fe5fd"
      },
      "source": [
        "pd.to_numeric(pds, errors='coerce')"
      ],
      "execution_count": null,
      "outputs": [
        {
          "output_type": "execute_result",
          "data": {
            "text/plain": [
              "0    100.00\n",
              "1    200.00\n",
              "2       NaN\n",
              "3    300.12\n",
              "4    400.00\n",
              "dtype: float64"
            ]
          },
          "metadata": {},
          "execution_count": 23
        }
      ]
    },
    {
      "cell_type": "markdown",
      "metadata": {
        "id": "CSeUZv2EE0NS"
      },
      "source": [
        "## 8- Write a Pandas program to convert the first column of a DataFrame as a Series."
      ]
    },
    {
      "cell_type": "code",
      "metadata": {
        "colab": {
          "base_uri": "https://localhost:8080/"
        },
        "id": "qU-vs90tF6nn",
        "outputId": "63ab0d73-bff8-4078-9fec-f4dd19f70966"
      },
      "source": [
        "\"\"\"\n",
        "Sample Output:\n",
        "Original DataFrame\n",
        "col1 col2 col3\n",
        "0 1 4 7\n",
        "1 2 5 5\n",
        "2 3 6 8\n",
        "3 4 9 12\n",
        "4 7 5 1\n",
        "5 11 0 11\n",
        "1st column as a Series:\n",
        "0 1\n",
        "1 2\n",
        "2 3\n",
        "3 4\n",
        "4 7\n",
        "5 11\n",
        "Name: col1, dtype: int64\n",
        "<class 'pandas.core.series.Series'>\n",
        "\"\"\""
      ],
      "execution_count": null,
      "outputs": [
        {
          "output_type": "execute_result",
          "data": {
            "application/vnd.google.colaboratory.intrinsic+json": {
              "type": "string"
            },
            "text/plain": [
              "\"\\nSample Output:\\nOriginal DataFrame\\ncol1 col2 col3\\n0 1 4 7\\n1 2 5 5\\n2 3 6 8\\n3 4 9 12\\n4 7 5 1\\n5 11 0 11\\n1st column as a Series:\\n0 1\\n1 2\\n2 3\\n3 4\\n4 7\\n5 11\\nName: col1, dtype: int64\\n<class 'pandas.core.series.Series'>\\n\""
            ]
          },
          "metadata": {},
          "execution_count": 24
        }
      ]
    },
    {
      "cell_type": "code",
      "metadata": {
        "id": "FUWr3H30GA9Q"
      },
      "source": [
        "arrays = [[1 ,4 ,7], [2 ,5 ,5],\n",
        "          [3 ,6 ,8], [4 ,9 ,12],\n",
        "          [7 ,5 ,1], [11, 0, 11]]"
      ],
      "execution_count": null,
      "outputs": []
    },
    {
      "cell_type": "code",
      "metadata": {
        "colab": {
          "base_uri": "https://localhost:8080/"
        },
        "id": "7IsCxug-GVp8",
        "outputId": "0141c907-8923-4734-fd9e-5356256d98ac"
      },
      "source": [
        "pdf = pd.DataFrame(data=arrays, columns=['col1','col2','col3'])\n",
        "pdf"
      ],
      "execution_count": null,
      "outputs": [
        {
          "output_type": "execute_result",
          "data": {
            "text/html": [
              "<div>\n",
              "<style scoped>\n",
              "    .dataframe tbody tr th:only-of-type {\n",
              "        vertical-align: middle;\n",
              "    }\n",
              "\n",
              "    .dataframe tbody tr th {\n",
              "        vertical-align: top;\n",
              "    }\n",
              "\n",
              "    .dataframe thead th {\n",
              "        text-align: right;\n",
              "    }\n",
              "</style>\n",
              "<table border=\"1\" class=\"dataframe\">\n",
              "  <thead>\n",
              "    <tr style=\"text-align: right;\">\n",
              "      <th></th>\n",
              "      <th>col1</th>\n",
              "      <th>col2</th>\n",
              "      <th>col3</th>\n",
              "    </tr>\n",
              "  </thead>\n",
              "  <tbody>\n",
              "    <tr>\n",
              "      <th>0</th>\n",
              "      <td>1</td>\n",
              "      <td>4</td>\n",
              "      <td>7</td>\n",
              "    </tr>\n",
              "    <tr>\n",
              "      <th>1</th>\n",
              "      <td>2</td>\n",
              "      <td>5</td>\n",
              "      <td>5</td>\n",
              "    </tr>\n",
              "    <tr>\n",
              "      <th>2</th>\n",
              "      <td>3</td>\n",
              "      <td>6</td>\n",
              "      <td>8</td>\n",
              "    </tr>\n",
              "    <tr>\n",
              "      <th>3</th>\n",
              "      <td>4</td>\n",
              "      <td>9</td>\n",
              "      <td>12</td>\n",
              "    </tr>\n",
              "    <tr>\n",
              "      <th>4</th>\n",
              "      <td>7</td>\n",
              "      <td>5</td>\n",
              "      <td>1</td>\n",
              "    </tr>\n",
              "    <tr>\n",
              "      <th>5</th>\n",
              "      <td>11</td>\n",
              "      <td>0</td>\n",
              "      <td>11</td>\n",
              "    </tr>\n",
              "  </tbody>\n",
              "</table>\n",
              "</div>"
            ],
            "text/plain": [
              "   col1  col2  col3\n",
              "0     1     4     7\n",
              "1     2     5     5\n",
              "2     3     6     8\n",
              "3     4     9    12\n",
              "4     7     5     1\n",
              "5    11     0    11"
            ]
          },
          "metadata": {},
          "execution_count": 26
        }
      ]
    },
    {
      "cell_type": "code",
      "metadata": {
        "colab": {
          "base_uri": "https://localhost:8080/"
        },
        "id": "sydoR7oVGdcv",
        "outputId": "e08593f2-13aa-406f-9842-ca5e6c308c8d"
      },
      "source": [
        "print(pdf['col1'])\n",
        "print(type(pdf['col1']))"
      ],
      "execution_count": null,
      "outputs": [
        {
          "output_type": "stream",
          "name": "stdout",
          "text": [
            "0     1\n",
            "1     2\n",
            "2     3\n",
            "3     4\n",
            "4     7\n",
            "5    11\n",
            "Name: col1, dtype: int64\n",
            "<class 'pandas.core.series.Series'>\n"
          ]
        }
      ]
    },
    {
      "cell_type": "markdown",
      "metadata": {
        "id": "kTHaj7PoHQIg"
      },
      "source": [
        "## !!9- Write a Pandas program to convert a given Series to an array."
      ]
    },
    {
      "cell_type": "code",
      "metadata": {
        "colab": {
          "base_uri": "https://localhost:8080/"
        },
        "id": "7EbbrYCxHl25",
        "outputId": "6a37abda-71e0-4174-d951-a13955316c44"
      },
      "source": [
        "\"\"\"\n",
        "Sample Output:\n",
        "Original Data Series:\n",
        "0 100\n",
        "1 200\n",
        "2 python\n",
        "3 300.12\n",
        "4 400\n",
        "dtype: object\n",
        "Series to an array\n",
        "['100' '200' 'python' '300.12' '400']\n",
        "\"\"\""
      ],
      "execution_count": null,
      "outputs": [
        {
          "output_type": "execute_result",
          "data": {
            "application/vnd.google.colaboratory.intrinsic+json": {
              "type": "string"
            },
            "text/plain": [
              "\"\\nSample Output:\\nOriginal Data Series:\\n0 100\\n1 200\\n2 python\\n3 300.12\\n4 400\\ndtype: object\\nSeries to an array\\n['100' '200' 'python' '300.12' '400']\\n\""
            ]
          },
          "metadata": {},
          "execution_count": 28
        }
      ]
    },
    {
      "cell_type": "code",
      "metadata": {
        "colab": {
          "base_uri": "https://localhost:8080/"
        },
        "id": "F-cx_uMNHnc5",
        "outputId": "98382088-8a7b-41e6-ee4b-d2a8102dc065"
      },
      "source": [
        "pds = pd.Series(data=[100,200,'python',300.12,400])\n",
        "print(pds)"
      ],
      "execution_count": null,
      "outputs": [
        {
          "output_type": "stream",
          "name": "stdout",
          "text": [
            "0       100\n",
            "1       200\n",
            "2    python\n",
            "3    300.12\n",
            "4       400\n",
            "dtype: object\n"
          ]
        }
      ]
    },
    {
      "cell_type": "code",
      "metadata": {
        "colab": {
          "base_uri": "https://localhost:8080/"
        },
        "id": "Zaxg9MvyHwuX",
        "outputId": "43317d1f-84a6-4f2d-e19b-3188aeba7576"
      },
      "source": [
        "pds.to_list()"
      ],
      "execution_count": null,
      "outputs": [
        {
          "output_type": "execute_result",
          "data": {
            "text/plain": [
              "[100, 200, 'python', 300.12, 400]"
            ]
          },
          "metadata": {},
          "execution_count": 30
        }
      ]
    },
    {
      "cell_type": "markdown",
      "metadata": {
        "id": "Q_68CLQ9H25o"
      },
      "source": [
        "## ?10- Write a Pandas program to convert Series of lists to one Series."
      ]
    },
    {
      "cell_type": "code",
      "metadata": {
        "colab": {
          "base_uri": "https://localhost:8080/"
        },
        "id": "Dq4krXKoIq-V",
        "outputId": "44e4d467-0219-4c98-eef3-d051638bc1ce"
      },
      "source": [
        "\"\"\"\n",
        "Sample Output:\n",
        "Original Series of list\n",
        "0 [Red, Green, White]\n",
        "1 [Red, Black]\n",
        "2 [Yellow]\n",
        "dtype: object\n",
        "One Series\n",
        "0 Red\n",
        "1 Green\n",
        "2 White\n",
        "3 Red\n",
        "4 Black\n",
        "5 Yellow\n",
        "dtype: object\n",
        "\"\"\""
      ],
      "execution_count": null,
      "outputs": [
        {
          "output_type": "execute_result",
          "data": {
            "application/vnd.google.colaboratory.intrinsic+json": {
              "type": "string"
            },
            "text/plain": [
              "'\\nSample Output:\\nOriginal Series of list\\n0 [Red, Green, White]\\n1 [Red, Black]\\n2 [Yellow]\\ndtype: object\\nOne Series\\n0 Red\\n1 Green\\n2 White\\n3 Red\\n4 Black\\n5 Yellow\\ndtype: object\\n'"
            ]
          },
          "metadata": {},
          "execution_count": 31
        }
      ]
    },
    {
      "cell_type": "markdown",
      "metadata": {
        "id": "xQiAyYaKIuQ1"
      },
      "source": [
        "## 11 - Write a Pandas program to sort a given Series"
      ]
    },
    {
      "cell_type": "code",
      "metadata": {
        "colab": {
          "base_uri": "https://localhost:8080/"
        },
        "id": "ehGp1RnOMNtH",
        "outputId": "a4afefa2-255a-495b-949d-efe11e1085d7"
      },
      "source": [
        "\"\"\"\n",
        "Sample Output:\n",
        "Original Data Series: \n",
        "0 100\n",
        "1 200\n",
        "2 python\n",
        "3 300.12\n",
        "4 400\n",
        "dtype: object\n",
        "0 100\n",
        "1 200\n",
        "3 300.12\n",
        "4 400\n",
        "2 python\n",
        "dtype: object\n",
        "\"\"\""
      ],
      "execution_count": null,
      "outputs": [
        {
          "output_type": "execute_result",
          "data": {
            "application/vnd.google.colaboratory.intrinsic+json": {
              "type": "string"
            },
            "text/plain": [
              "'\\nSample Output:\\nOriginal Data Series: \\n0 100\\n1 200\\n2 python\\n3 300.12\\n4 400\\ndtype: object\\n0 100\\n1 200\\n3 300.12\\n4 400\\n2 python\\ndtype: object\\n'"
            ]
          },
          "metadata": {},
          "execution_count": 32
        }
      ]
    },
    {
      "cell_type": "code",
      "metadata": {
        "colab": {
          "base_uri": "https://localhost:8080/"
        },
        "id": "5FKk4i80MRRF",
        "outputId": "221788a1-3fc8-4561-fbff-1e5696f0ffbf"
      },
      "source": [
        "pds = pd.Series(['100', '200', 'python', '300.12', '400'])\n",
        "pds"
      ],
      "execution_count": null,
      "outputs": [
        {
          "output_type": "execute_result",
          "data": {
            "text/plain": [
              "0       100\n",
              "1       200\n",
              "2    python\n",
              "3    300.12\n",
              "4       400\n",
              "dtype: object"
            ]
          },
          "metadata": {},
          "execution_count": 33
        }
      ]
    },
    {
      "cell_type": "code",
      "metadata": {
        "colab": {
          "base_uri": "https://localhost:8080/"
        },
        "id": "qxmMu3rNNzZb",
        "outputId": "e87942da-7d50-4f75-bc7b-b1f671a21613"
      },
      "source": [
        "pds.sort_values()"
      ],
      "execution_count": null,
      "outputs": [
        {
          "output_type": "execute_result",
          "data": {
            "text/plain": [
              "0       100\n",
              "1       200\n",
              "3    300.12\n",
              "4       400\n",
              "2    python\n",
              "dtype: object"
            ]
          },
          "metadata": {},
          "execution_count": 34
        }
      ]
    },
    {
      "cell_type": "markdown",
      "metadata": {
        "id": "W0y7G-eKMyTQ"
      },
      "source": [
        "# OCT-02-2021"
      ]
    },
    {
      "cell_type": "markdown",
      "metadata": {
        "id": "DFEdB4xWPGfN"
      },
      "source": [
        "## !!12- Write a Pandas program to add some data to an existing Series. \n",
        "\n",
        "\n"
      ]
    },
    {
      "cell_type": "code",
      "metadata": {
        "colab": {
          "base_uri": "https://localhost:8080/"
        },
        "id": "hid1OPTDPY0C",
        "outputId": "01d95e72-64fb-4346-c8bb-cfc6ecb1df6d"
      },
      "source": [
        "\"\"\"\n",
        "Sample Output:\n",
        "Original Data Series:\n",
        "0 100\n",
        "1 200\n",
        "2 python\n",
        "3 300.12\n",
        "4 400\n",
        "dtype: object\n",
        "Data Series after adding some data:\n",
        "0 100\n",
        "1 200\n",
        "2 python\n",
        "3 300.12\n",
        "4 400\n",
        "0 500\n",
        "1 php\n",
        "dtype: object\n",
        "\"\"\""
      ],
      "execution_count": null,
      "outputs": [
        {
          "output_type": "execute_result",
          "data": {
            "application/vnd.google.colaboratory.intrinsic+json": {
              "type": "string"
            },
            "text/plain": [
              "'\\nSample Output:\\nOriginal Data Series:\\n0 100\\n1 200\\n2 python\\n3 300.12\\n4 400\\ndtype: object\\nData Series after adding some data:\\n0 100\\n1 200\\n2 python\\n3 300.12\\n4 400\\n0 500\\n1 php\\ndtype: object\\n'"
            ]
          },
          "metadata": {},
          "execution_count": 35
        }
      ]
    },
    {
      "cell_type": "code",
      "metadata": {
        "colab": {
          "base_uri": "https://localhost:8080/"
        },
        "id": "jr-g4UqaPczR",
        "outputId": "2f1dcc0a-4294-4cba-8802-d9ec7103168e"
      },
      "source": [
        "pds = pd.Series(['100', '200', 'python', '300.12', '400'])\n",
        "pds"
      ],
      "execution_count": null,
      "outputs": [
        {
          "output_type": "execute_result",
          "data": {
            "text/plain": [
              "0       100\n",
              "1       200\n",
              "2    python\n",
              "3    300.12\n",
              "4       400\n",
              "dtype: object"
            ]
          },
          "metadata": {},
          "execution_count": 36
        }
      ]
    },
    {
      "cell_type": "code",
      "metadata": {
        "colab": {
          "base_uri": "https://localhost:8080/"
        },
        "id": "MBsqVcZdPjD2",
        "outputId": "235f067a-2dfe-4430-b6bd-7f80648d4465"
      },
      "source": [
        "pds.append(to_append=pd.Series(['500', 'php']))"
      ],
      "execution_count": null,
      "outputs": [
        {
          "output_type": "execute_result",
          "data": {
            "text/plain": [
              "0       100\n",
              "1       200\n",
              "2    python\n",
              "3    300.12\n",
              "4       400\n",
              "0       500\n",
              "1       php\n",
              "dtype: object"
            ]
          },
          "metadata": {},
          "execution_count": 37
        }
      ]
    },
    {
      "cell_type": "markdown",
      "metadata": {
        "id": "0akHeJ6uPpru"
      },
      "source": [
        "## 13- Write a Pandas program to create a subset of a given series based on value and condition."
      ]
    },
    {
      "cell_type": "code",
      "metadata": {
        "id": "QBAT1zPSQR_X",
        "colab": {
          "base_uri": "https://localhost:8080/"
        },
        "outputId": "b545609d-8c0c-4ebe-ebda-64ed22b30be8"
      },
      "source": [
        "\"\"\"\n",
        "Sample Output:\n",
        "Original Data Series:\n",
        "0 0\n",
        "1 1\n",
        "2 2\n",
        "3 3\n",
        "4 4\n",
        "5 5\n",
        "6 6\n",
        "7 7\n",
        "8 8\n",
        "9 9\n",
        "10 10\n",
        "dtype: int64\n",
        "Subset of the above Data Series:\n",
        "0 0\n",
        "1 1\n",
        "2 2\n",
        "3 3\n",
        "4 4\n",
        "5 5\n",
        "dtype: int64\n",
        "\"\"\""
      ],
      "execution_count": null,
      "outputs": [
        {
          "output_type": "execute_result",
          "data": {
            "application/vnd.google.colaboratory.intrinsic+json": {
              "type": "string"
            },
            "text/plain": [
              "'\\nSample Output:\\nOriginal Data Series:\\n0 0\\n1 1\\n2 2\\n3 3\\n4 4\\n5 5\\n6 6\\n7 7\\n8 8\\n9 9\\n10 10\\ndtype: int64\\nSubset of the above Data Series:\\n0 0\\n1 1\\n2 2\\n3 3\\n4 4\\n5 5\\ndtype: int64\\n'"
            ]
          },
          "metadata": {},
          "execution_count": 38
        }
      ]
    },
    {
      "cell_type": "code",
      "metadata": {
        "id": "fQn0wEUTQVHu"
      },
      "source": [
        "var = [0,1,2,3,4,5,6,7,8,9,10]"
      ],
      "execution_count": null,
      "outputs": []
    },
    {
      "cell_type": "code",
      "metadata": {
        "colab": {
          "base_uri": "https://localhost:8080/"
        },
        "id": "1SA7RJVFQcnL",
        "outputId": "ffda21ab-cbdb-416f-8f78-b1c11c0d3d2b"
      },
      "source": [
        "pds = pd.Series(data=var)\n",
        "pds"
      ],
      "execution_count": null,
      "outputs": [
        {
          "output_type": "execute_result",
          "data": {
            "text/plain": [
              "0      0\n",
              "1      1\n",
              "2      2\n",
              "3      3\n",
              "4      4\n",
              "5      5\n",
              "6      6\n",
              "7      7\n",
              "8      8\n",
              "9      9\n",
              "10    10\n",
              "dtype: int64"
            ]
          },
          "metadata": {},
          "execution_count": 40
        }
      ]
    },
    {
      "cell_type": "code",
      "metadata": {
        "colab": {
          "base_uri": "https://localhost:8080/"
        },
        "id": "oc2ibprwQhEd",
        "outputId": "99ec7531-c6ec-4eae-fea6-059247ac3696"
      },
      "source": [
        "pds.iloc[0:6]"
      ],
      "execution_count": null,
      "outputs": [
        {
          "output_type": "execute_result",
          "data": {
            "text/plain": [
              "0    0\n",
              "1    1\n",
              "2    2\n",
              "3    3\n",
              "4    4\n",
              "5    5\n",
              "dtype: int64"
            ]
          },
          "metadata": {},
          "execution_count": 41
        }
      ]
    },
    {
      "cell_type": "markdown",
      "metadata": {
        "id": "DVv2n84mQmLR"
      },
      "source": [
        "## !!14- Write a Pandas program to change the order of index of a given series. "
      ]
    },
    {
      "cell_type": "code",
      "metadata": {
        "colab": {
          "base_uri": "https://localhost:8080/"
        },
        "id": "iYg5hTRURL-S",
        "outputId": "87058b8b-cf21-411e-f06f-b43531b5dbb8"
      },
      "source": [
        "\"\"\"\n",
        "Sample Output:\n",
        "Original Data Series:\n",
        "A 1\n",
        "B 2\n",
        "C 3\n",
        "D 4\n",
        "E 5\n",
        "dtype: int64\n",
        "Data Series after changing the order of index:\n",
        "B 2\n",
        "A 1\n",
        "C 3\n",
        "D 4\n",
        "E 5\n",
        "dtype: int64\n",
        "\"\"\""
      ],
      "execution_count": null,
      "outputs": [
        {
          "output_type": "execute_result",
          "data": {
            "application/vnd.google.colaboratory.intrinsic+json": {
              "type": "string"
            },
            "text/plain": [
              "'\\nSample Output:\\nOriginal Data Series:\\nA 1\\nB 2\\nC 3\\nD 4\\nE 5\\ndtype: int64\\nData Series after changing the order of index:\\nB 2\\nA 1\\nC 3\\nD 4\\nE 5\\ndtype: int64\\n'"
            ]
          },
          "metadata": {},
          "execution_count": 42
        }
      ]
    },
    {
      "cell_type": "code",
      "metadata": {
        "id": "DAJMPA-MRUTj"
      },
      "source": [
        "var = [1,2,3,4,5]\n",
        "idx = ['A', 'B', 'C', 'D', 'E']"
      ],
      "execution_count": null,
      "outputs": []
    },
    {
      "cell_type": "code",
      "metadata": {
        "colab": {
          "base_uri": "https://localhost:8080/"
        },
        "id": "XpnVuJfGRktO",
        "outputId": "ced85c6d-a7ba-4c2a-8bab-ea2c5f8a7608"
      },
      "source": [
        "pds = pd.Series(var, index=idx)\n",
        "pds"
      ],
      "execution_count": null,
      "outputs": [
        {
          "output_type": "execute_result",
          "data": {
            "text/plain": [
              "A    1\n",
              "B    2\n",
              "C    3\n",
              "D    4\n",
              "E    5\n",
              "dtype: int64"
            ]
          },
          "metadata": {},
          "execution_count": 44
        }
      ]
    },
    {
      "cell_type": "code",
      "metadata": {
        "id": "Gda5ps0yRz7P"
      },
      "source": [
        "idx2 = ['B', 'A', 'C', 'D', 'E']"
      ],
      "execution_count": null,
      "outputs": []
    },
    {
      "cell_type": "code",
      "metadata": {
        "colab": {
          "base_uri": "https://localhost:8080/"
        },
        "id": "VoRYsaX6R46D",
        "outputId": "f1d1fade-e1b8-44b8-ba38-b11e75b2b8fb"
      },
      "source": [
        "pds.reindex(index=idx2)"
      ],
      "execution_count": null,
      "outputs": [
        {
          "output_type": "execute_result",
          "data": {
            "text/plain": [
              "B    2\n",
              "A    1\n",
              "C    3\n",
              "D    4\n",
              "E    5\n",
              "dtype: int64"
            ]
          },
          "metadata": {},
          "execution_count": 46
        }
      ]
    },
    {
      "cell_type": "markdown",
      "metadata": {
        "id": "kDSqDwe9SApE"
      },
      "source": [
        "## 15- Write a Pandas program to create the mean and standard deviation of the data of a given Series."
      ]
    },
    {
      "cell_type": "code",
      "metadata": {
        "colab": {
          "base_uri": "https://localhost:8080/"
        },
        "id": "nt9wipGmSqDY",
        "outputId": "041a55dd-f043-4ada-9069-e1a062b8f36a"
      },
      "source": [
        "\"\"\"\n",
        "Sample Output:\n",
        "Original Data Series:\n",
        "0 1\n",
        "1 2\n",
        "2 3\n",
        "3 4\n",
        "4 5\n",
        "5 6\n",
        "6 7\n",
        "7 8\n",
        "8 9\n",
        "9 5\n",
        "10 3\n",
        "dtype: int64\n",
        "Mean of the said Data Series:\n",
        "4.818181818181818\n",
        "Standard deviation of the said Data Series:\n",
        "2.522624895547565\n",
        "\"\"\""
      ],
      "execution_count": null,
      "outputs": [
        {
          "output_type": "execute_result",
          "data": {
            "application/vnd.google.colaboratory.intrinsic+json": {
              "type": "string"
            },
            "text/plain": [
              "'\\nSample Output:\\nOriginal Data Series:\\n0 1\\n1 2\\n2 3\\n3 4\\n4 5\\n5 6\\n6 7\\n7 8\\n8 9\\n9 5\\n10 3\\ndtype: int64\\nMean of the said Data Series:\\n4.818181818181818\\nStandard deviation of the said Data Series:\\n2.522624895547565\\n'"
            ]
          },
          "metadata": {},
          "execution_count": 47
        }
      ]
    },
    {
      "cell_type": "code",
      "metadata": {
        "id": "Z_ZK_zidSrgW"
      },
      "source": [
        "var = [1,2,3,4,5,6,7,8,9,5,3]"
      ],
      "execution_count": null,
      "outputs": []
    },
    {
      "cell_type": "code",
      "metadata": {
        "id": "uwWkEcUlS0rF"
      },
      "source": [
        "pds = pd.Series(data=var)"
      ],
      "execution_count": null,
      "outputs": []
    },
    {
      "cell_type": "code",
      "metadata": {
        "colab": {
          "base_uri": "https://localhost:8080/"
        },
        "id": "Nm-rSIbLS42H",
        "outputId": "e4856165-e3a7-4dfd-a059-06587c095667"
      },
      "source": [
        "pds.mean()"
      ],
      "execution_count": null,
      "outputs": [
        {
          "output_type": "execute_result",
          "data": {
            "text/plain": [
              "4.818181818181818"
            ]
          },
          "metadata": {},
          "execution_count": 50
        }
      ]
    },
    {
      "cell_type": "code",
      "metadata": {
        "colab": {
          "base_uri": "https://localhost:8080/"
        },
        "id": "16x92hCOS7NH",
        "outputId": "c140622b-af27-4160-902f-891fb3600ebb"
      },
      "source": [
        "pds.std()"
      ],
      "execution_count": null,
      "outputs": [
        {
          "output_type": "execute_result",
          "data": {
            "text/plain": [
              "2.522624895547565"
            ]
          },
          "metadata": {},
          "execution_count": 51
        }
      ]
    },
    {
      "cell_type": "markdown",
      "metadata": {
        "id": "E_bnKVMuMst7"
      },
      "source": [
        "# OCT-07-2021"
      ]
    },
    {
      "cell_type": "markdown",
      "metadata": {
        "id": "fMFJnUnlS89I"
      },
      "source": [
        "### !!16- Write a Pandas program to get the items of a given series not present in another given serieS"
      ]
    },
    {
      "cell_type": "code",
      "metadata": {
        "colab": {
          "base_uri": "https://localhost:8080/"
        },
        "id": "jWnyX-wMrewn",
        "outputId": "bb0114fe-593c-49ed-865c-50cd0dec1bc7"
      },
      "source": [
        "\"\"\"\n",
        "Original Series:\n",
        "sr1:\n",
        "0 1\n",
        "1 2\n",
        "2 3\n",
        "3 4\n",
        "4 5\n",
        "dtype: int64\n",
        "sr2:\n",
        "0 2\n",
        "1 4\n",
        "2 6\n",
        "3 8\n",
        "4 10\n",
        "dtype: int64\n",
        "Items of sr1 not present in sr2:\n",
        "0 1\n",
        "2 3\n",
        "4 5\n",
        "dtype: int64\n",
        "\"\"\""
      ],
      "execution_count": null,
      "outputs": [
        {
          "output_type": "execute_result",
          "data": {
            "application/vnd.google.colaboratory.intrinsic+json": {
              "type": "string"
            },
            "text/plain": [
              "'\\nOriginal Series:\\nsr1:\\n0 1\\n1 2\\n2 3\\n3 4\\n4 5\\ndtype: int64\\nsr2:\\n0 2\\n1 4\\n2 6\\n3 8\\n4 10\\ndtype: int64\\nItems of sr1 not present in sr2:\\n0 1\\n2 3\\n4 5\\ndtype: int64\\n'"
            ]
          },
          "metadata": {},
          "execution_count": 52
        }
      ]
    },
    {
      "cell_type": "code",
      "metadata": {
        "id": "m95Nu_B1r3Ib"
      },
      "source": [
        "sr1 = [1,2,3,4,5]\n",
        "sr2 = [2,4,6,8,10]"
      ],
      "execution_count": null,
      "outputs": []
    },
    {
      "cell_type": "code",
      "metadata": {
        "id": "G-QlXUXnsAqm"
      },
      "source": [
        "pd_sr1 = pd.Series(data=sr1)\n",
        "pd_sr2 = pd.Series(data=sr2)"
      ],
      "execution_count": null,
      "outputs": []
    },
    {
      "cell_type": "code",
      "metadata": {
        "colab": {
          "base_uri": "https://localhost:8080/"
        },
        "id": "v0TB25rTvto-",
        "outputId": "b810f3d9-08ce-483b-aead-6d87b1e44290"
      },
      "source": [
        "pd_sr1[~pd_sr1.isin(pd_sr2)]"
      ],
      "execution_count": null,
      "outputs": [
        {
          "output_type": "execute_result",
          "data": {
            "text/plain": [
              "0    1\n",
              "2    3\n",
              "4    5\n",
              "dtype: int64"
            ]
          },
          "metadata": {},
          "execution_count": 55
        }
      ]
    },
    {
      "cell_type": "code",
      "metadata": {
        "colab": {
          "base_uri": "https://localhost:8080/"
        },
        "id": "Ck5iTBMKxP28",
        "outputId": "f8bc8602-e4e6-4cff-e127-1e18b4024f83"
      },
      "source": [
        "pd_sr1[pd_sr1.isin(pd_sr2) == False]"
      ],
      "execution_count": null,
      "outputs": [
        {
          "output_type": "execute_result",
          "data": {
            "text/plain": [
              "0    1\n",
              "2    3\n",
              "4    5\n",
              "dtype: int64"
            ]
          },
          "metadata": {},
          "execution_count": 56
        }
      ]
    },
    {
      "cell_type": "markdown",
      "metadata": {
        "id": "2iYIvhbSx4rS"
      },
      "source": [
        "## ?17- Write a Pandas program to get the items which are not common of two given series."
      ]
    },
    {
      "cell_type": "code",
      "metadata": {
        "colab": {
          "base_uri": "https://localhost:8080/"
        },
        "id": "gg4UXxXYEY8L",
        "outputId": "98b55213-f14e-4d42-edc4-a4763984a4db"
      },
      "source": [
        "\"\"\"\n",
        "Sample Output:\n",
        "Original Series:\n",
        "sr1:\n",
        "0 1\n",
        "1 2\n",
        "2 3\n",
        "3 4\n",
        "4 5\n",
        "dtype: int64\n",
        "sr2:\n",
        "0 2\n",
        "1 4\n",
        "2 6\n",
        "3 8\n",
        "4 10\n",
        "dtype: int64\n",
        "Items of a given series not present in another given series:\n",
        "0 1\n",
        "2 3\n",
        "4 5\n",
        "5 6\n",
        "6 8\n",
        "7 10\n",
        "dtype: int64\n",
        "\"\"\""
      ],
      "execution_count": null,
      "outputs": [
        {
          "output_type": "execute_result",
          "data": {
            "application/vnd.google.colaboratory.intrinsic+json": {
              "type": "string"
            },
            "text/plain": [
              "'\\nSample Output:\\nOriginal Series:\\nsr1:\\n0 1\\n1 2\\n2 3\\n3 4\\n4 5\\ndtype: int64\\nsr2:\\n0 2\\n1 4\\n2 6\\n3 8\\n4 10\\ndtype: int64\\nItems of a given series not present in another given series:\\n0 1\\n2 3\\n4 5\\n5 6\\n6 8\\n7 10\\ndtype: int64\\n'"
            ]
          },
          "metadata": {},
          "execution_count": 57
        }
      ]
    },
    {
      "cell_type": "code",
      "metadata": {
        "id": "ri3YEuaaE0Z3"
      },
      "source": [
        "sr1 = [1,2,3,4,5]\n",
        "sr2 = [2,4,6,8,10]"
      ],
      "execution_count": null,
      "outputs": []
    },
    {
      "cell_type": "code",
      "metadata": {
        "id": "6tzv57aBH1ju"
      },
      "source": [
        "pd_sr1 = pd.Series(data=sr1)\n",
        "pd_sr2 = pd.Series(data=sr2)"
      ],
      "execution_count": null,
      "outputs": []
    },
    {
      "cell_type": "markdown",
      "metadata": {
        "id": "Knw4MMUtIHq8"
      },
      "source": [
        "## !!18- Write a Pandas program to compute the minimum, 25th percentile, median, 75th, and maximum of a given series."
      ]
    },
    {
      "cell_type": "code",
      "metadata": {
        "id": "6mmeN6RvJoZF",
        "colab": {
          "base_uri": "https://localhost:8080/"
        },
        "outputId": "c0638339-8a58-4d03-b44e-fcbf6dad23e7"
      },
      "source": [
        "\"\"\"\n",
        "Sample Output:\n",
        "Original Series:\n",
        "0 3.000938\n",
        "1 11.370722\n",
        "2 14.612143\n",
        "3 8.990256\n",
        "4 13.925283\n",
        "5 12.056875\n",
        ".... 17 14.118931\n",
        "18 8.247458\n",
        "19 5.526727\n",
        "dtype: float64\n",
        "Minimum, 25th percentile, median, 75th, and maximum of a given series:\n",
        "[ 3.00093811 8.09463867 10.23353705 12.21537733 14.61214321]\n",
        "\"\"\""
      ],
      "execution_count": null,
      "outputs": [
        {
          "output_type": "execute_result",
          "data": {
            "application/vnd.google.colaboratory.intrinsic+json": {
              "type": "string"
            },
            "text/plain": [
              "'\\nSample Output:\\nOriginal Series:\\n0 3.000938\\n1 11.370722\\n2 14.612143\\n3 8.990256\\n4 13.925283\\n5 12.056875\\n.... 17 14.118931\\n18 8.247458\\n19 5.526727\\ndtype: float64\\nMinimum, 25th percentile, median, 75th, and maximum of a given series:\\n[ 3.00093811 8.09463867 10.23353705 12.21537733 14.61214321]\\n'"
            ]
          },
          "metadata": {},
          "execution_count": 60
        }
      ]
    },
    {
      "cell_type": "code",
      "metadata": {
        "id": "DFO52ty5Jtz0"
      },
      "source": [
        "sr = [3.000938,11.370722,14.612143,8.990256,13.925283,12.056875]"
      ],
      "execution_count": null,
      "outputs": []
    },
    {
      "cell_type": "code",
      "metadata": {
        "colab": {
          "base_uri": "https://localhost:8080/"
        },
        "id": "cLpamtnFJ5Fh",
        "outputId": "9a0a2c77-d322-47aa-ebfb-23dcb5c8b8ac"
      },
      "source": [
        "pd_sr = pd.Series(data=sr)\n",
        "pd_sr"
      ],
      "execution_count": null,
      "outputs": [
        {
          "output_type": "execute_result",
          "data": {
            "text/plain": [
              "0     3.000938\n",
              "1    11.370722\n",
              "2    14.612143\n",
              "3     8.990256\n",
              "4    13.925283\n",
              "5    12.056875\n",
              "dtype: float64"
            ]
          },
          "metadata": {},
          "execution_count": 62
        }
      ]
    },
    {
      "cell_type": "code",
      "metadata": {
        "colab": {
          "base_uri": "https://localhost:8080/"
        },
        "id": "x4wjNpfKJ9sp",
        "outputId": "9424d816-906d-42bc-8303-55b61a4f61b0"
      },
      "source": [
        "print(pd_sr.min())\n",
        "print(pd_sr.median())\n",
        "print(pd_sr.max())"
      ],
      "execution_count": null,
      "outputs": [
        {
          "output_type": "stream",
          "name": "stdout",
          "text": [
            "3.000938\n",
            "11.7137985\n",
            "14.612143\n"
          ]
        }
      ]
    },
    {
      "cell_type": "code",
      "metadata": {
        "colab": {
          "base_uri": "https://localhost:8080/"
        },
        "id": "glgtGKtAKBtq",
        "outputId": "49e65142-b179-4a6c-8655-8e87e4985faa"
      },
      "source": [
        "np.percentile(pd_sr, q=[0,25,50,100])"
      ],
      "execution_count": null,
      "outputs": [
        {
          "output_type": "execute_result",
          "data": {
            "text/plain": [
              "array([ 3.000938 ,  9.5853725, 11.7137985, 14.612143 ])"
            ]
          },
          "metadata": {},
          "execution_count": 64
        }
      ]
    },
    {
      "cell_type": "code",
      "metadata": {
        "colab": {
          "base_uri": "https://localhost:8080/"
        },
        "id": "uu8l65boKw5X",
        "outputId": "40a3f8a3-876d-4db1-a26e-a637bcaccd06"
      },
      "source": [
        "result = np.percentile(pd_sr, q=[0,25,50,75,100])\n",
        "print(f'Min. value: {result[0]}')\n",
        "print(f\"25th percentile: {result[1]}\")\n",
        "print(f\"median: {result[2]}\")\n",
        "print(f\"75th percentile: {result[3]}\")\n",
        "print(f\"max value: {result[4]}\")"
      ],
      "execution_count": null,
      "outputs": [
        {
          "output_type": "stream",
          "name": "stdout",
          "text": [
            "Min. value: 3.000938\n",
            "25th percentile: 9.5853725\n",
            "median: 11.7137985\n",
            "75th percentile: 13.458181\n",
            "max value: 14.612143\n"
          ]
        }
      ]
    },
    {
      "cell_type": "markdown",
      "metadata": {
        "id": "u1JXkRfBxIl0"
      },
      "source": [
        "# OCT-08-2021\n"
      ]
    },
    {
      "cell_type": "markdown",
      "metadata": {
        "id": "EPAsxm7kOLqD"
      },
      "source": [
        "## 19- Write a Pandas program to calculate the frequency counts of each unique value of a given series."
      ]
    },
    {
      "cell_type": "code",
      "metadata": {
        "colab": {
          "base_uri": "https://localhost:8080/",
          "height": 70
        },
        "id": "F14QJGxSurkI",
        "outputId": "031a5b6f-05a9-453d-e12c-ddeda52b2e99"
      },
      "source": [
        "\"\"\"\n",
        "Sample Output:\n",
        "Original Series:\n",
        "0 1\n",
        "1 7\n",
        "2 1\n",
        "3 6\n",
        "4 9\n",
        "5 1\n",
        "... 29 2\n",
        "30 9\n",
        "31 1\n",
        "32 2\n",
        "33 9\n",
        "34 2\n",
        "35 9\n",
        "36 0\n",
        "37 0\n",
        "38 4\n",
        "39 8\n",
        "dtype: object\n",
        "Frequency of each unique value of the said series.\n",
        "0 9\n",
        "2 7\n",
        "9 6\n",
        "1 5\n",
        "6 3\n",
        "8 3\n",
        "7 3\n",
        "3 2\n",
        "4 1\n",
        "5 1\n",
        "dtype: int64s\n",
        "\"\"\""
      ],
      "execution_count": null,
      "outputs": [
        {
          "output_type": "execute_result",
          "data": {
            "application/vnd.google.colaboratory.intrinsic+json": {
              "type": "string"
            },
            "text/plain": [
              "'\\nSample Output:\\nOriginal Series:\\n0 1\\n1 7\\n2 1\\n3 6\\n4 9\\n5 1\\n... 29 2\\n30 9\\n31 1\\n32 2\\n33 9\\n34 2\\n35 9\\n36 0\\n37 0\\n38 4\\n39 8\\ndtype: object\\nFrequency of each unique value of the said series.\\n0 9\\n2 7\\n9 6\\n1 5\\n6 3\\n8 3\\n7 3\\n3 2\\n4 1\\n5 1\\ndtype: int64s\\n'"
            ]
          },
          "metadata": {},
          "execution_count": 66
        }
      ]
    },
    {
      "cell_type": "code",
      "metadata": {
        "id": "VPEIZeFZu9F9"
      },
      "source": [
        "sr = [1,16,5,1,8,4,18,4,8,7,9,4,5,1,6,8,76,1,56,49,8]"
      ],
      "execution_count": null,
      "outputs": []
    },
    {
      "cell_type": "code",
      "metadata": {
        "id": "4PGGwQjRvB6C"
      },
      "source": [
        "pd_sr = pd.Series(data=sr)"
      ],
      "execution_count": null,
      "outputs": []
    },
    {
      "cell_type": "code",
      "metadata": {
        "colab": {
          "base_uri": "https://localhost:8080/"
        },
        "id": "K3PkOC6JvwlT",
        "outputId": "549fcad5-c101-43a6-d1b4-f87b92b17d5a"
      },
      "source": [
        "pd_sr.value_counts() "
      ],
      "execution_count": null,
      "outputs": [
        {
          "output_type": "execute_result",
          "data": {
            "text/plain": [
              "8     4\n",
              "1     4\n",
              "4     3\n",
              "5     2\n",
              "56    1\n",
              "18    1\n",
              "49    1\n",
              "16    1\n",
              "76    1\n",
              "9     1\n",
              "7     1\n",
              "6     1\n",
              "dtype: int64"
            ]
          },
          "metadata": {},
          "execution_count": 69
        }
      ]
    },
    {
      "cell_type": "markdown",
      "metadata": {
        "id": "xL9JmtFywGiu"
      },
      "source": [
        "## ??20- Write a Pandas program to display most frequent value in a given series and replace everything else as 'Other' in the series. "
      ]
    },
    {
      "cell_type": "code",
      "metadata": {
        "id": "FckujfD7xOkH"
      },
      "source": [
        "sr = np.random.randint(1,20,[20])"
      ],
      "execution_count": null,
      "outputs": []
    },
    {
      "cell_type": "code",
      "metadata": {
        "id": "DE4pKw4nxYoS"
      },
      "source": [
        "pd_sr = pd.Series(data=sr)"
      ],
      "execution_count": null,
      "outputs": []
    },
    {
      "cell_type": "code",
      "metadata": {
        "colab": {
          "base_uri": "https://localhost:8080/"
        },
        "id": "CmTjpFL0xpVZ",
        "outputId": "e42f0a0e-4587-4205-874b-beb43f04a0ce"
      },
      "source": [
        "value_frequency = pd_sr.value_counts()\n",
        "value_frequency"
      ],
      "execution_count": null,
      "outputs": [
        {
          "output_type": "execute_result",
          "data": {
            "text/plain": [
              "9     4\n",
              "4     3\n",
              "17    2\n",
              "11    2\n",
              "10    2\n",
              "1     2\n",
              "16    1\n",
              "15    1\n",
              "12    1\n",
              "3     1\n",
              "2     1\n",
              "dtype: int64"
            ]
          },
          "metadata": {},
          "execution_count": 72
        }
      ]
    },
    {
      "cell_type": "code",
      "metadata": {
        "colab": {
          "base_uri": "https://localhost:8080/"
        },
        "id": "bZ1Fy73_x5xz",
        "outputId": "81fb6311-87dd-419d-a0b2-a24240a4cfa3"
      },
      "source": [
        "value_frequency.replace()"
      ],
      "execution_count": null,
      "outputs": [
        {
          "output_type": "execute_result",
          "data": {
            "text/plain": [
              "9     4\n",
              "4     3\n",
              "17    2\n",
              "11    2\n",
              "10    2\n",
              "1     2\n",
              "16    1\n",
              "15    1\n",
              "12    1\n",
              "3     1\n",
              "2     1\n",
              "dtype: int64"
            ]
          },
          "metadata": {},
          "execution_count": 73
        }
      ]
    },
    {
      "cell_type": "code",
      "metadata": {
        "colab": {
          "base_uri": "https://localhost:8080/"
        },
        "id": "SEMe5x41yBMO",
        "outputId": "8662995f-5ff0-43c8-be76-4f666fb3305e"
      },
      "source": [
        "pd_sr[pd_sr.isin(value_frequency)]"
      ],
      "execution_count": null,
      "outputs": [
        {
          "output_type": "execute_result",
          "data": {
            "text/plain": [
              "0     1\n",
              "5     4\n",
              "7     3\n",
              "10    2\n",
              "14    4\n",
              "15    4\n",
              "19    1\n",
              "dtype: int64"
            ]
          },
          "metadata": {},
          "execution_count": 74
        }
      ]
    },
    {
      "cell_type": "code",
      "metadata": {
        "colab": {
          "base_uri": "https://localhost:8080/"
        },
        "id": "UdjDUe46zM2o",
        "outputId": "27a5042b-db9e-440e-9267-2fa14469a257"
      },
      "source": [
        "pd_sr"
      ],
      "execution_count": null,
      "outputs": [
        {
          "output_type": "execute_result",
          "data": {
            "text/plain": [
              "0      1\n",
              "1     11\n",
              "2      9\n",
              "3     12\n",
              "4      9\n",
              "5      4\n",
              "6      9\n",
              "7      3\n",
              "8     11\n",
              "9     16\n",
              "10     2\n",
              "11    17\n",
              "12    15\n",
              "13    17\n",
              "14     4\n",
              "15     4\n",
              "16    10\n",
              "17    10\n",
              "18     9\n",
              "19     1\n",
              "dtype: int64"
            ]
          },
          "metadata": {},
          "execution_count": 75
        }
      ]
    },
    {
      "cell_type": "code",
      "metadata": {
        "colab": {
          "base_uri": "https://localhost:8080/"
        },
        "id": "sIn2TULfzRXu",
        "outputId": "997ec4af-c79f-409e-9c87-88c998be4450"
      },
      "source": [
        "value_frequency"
      ],
      "execution_count": null,
      "outputs": [
        {
          "output_type": "execute_result",
          "data": {
            "text/plain": [
              "9     4\n",
              "4     3\n",
              "17    2\n",
              "11    2\n",
              "10    2\n",
              "1     2\n",
              "16    1\n",
              "15    1\n",
              "12    1\n",
              "3     1\n",
              "2     1\n",
              "dtype: int64"
            ]
          },
          "metadata": {},
          "execution_count": 76
        }
      ]
    },
    {
      "cell_type": "code",
      "metadata": {
        "id": "s9tH-paazTXC"
      },
      "source": [
        ""
      ],
      "execution_count": null,
      "outputs": []
    },
    {
      "cell_type": "markdown",
      "metadata": {
        "id": "gMSym9FLVUqe"
      },
      "source": [
        "# OCT-11-2021\n"
      ]
    },
    {
      "cell_type": "markdown",
      "metadata": {
        "id": "qMfFLv21VZ58"
      },
      "source": [
        "## !!21- Write a Pandas program to find the positions of numbers that are multiples of 5 of a given series"
      ]
    },
    {
      "cell_type": "code",
      "metadata": {
        "id": "2lPFCKqVVuNV",
        "colab": {
          "base_uri": "https://localhost:8080/"
        },
        "outputId": "beff78cd-fb19-461b-9470-d3d5746e4167"
      },
      "source": [
        "\"\"\"\n",
        "Original Series:\n",
        "0 1\n",
        "1 9\n",
        "2 8\n",
        "3 6\n",
        "4 9\n",
        "5 7\n",
        "6 1\n",
        "7 1\n",
        "8 1\n",
        "dtype: int64\n",
        "Positions of numbers that are multiples of 5:\n",
        "[]\n",
        "\"\"\""
      ],
      "execution_count": null,
      "outputs": [
        {
          "output_type": "execute_result",
          "data": {
            "application/vnd.google.colaboratory.intrinsic+json": {
              "type": "string"
            },
            "text/plain": [
              "'\\nOriginal Series:\\n0 1\\n1 9\\n2 8\\n3 6\\n4 9\\n5 7\\n6 1\\n7 1\\n8 1\\ndtype: int64\\nPositions of numbers that are multiples of 5:\\n[]\\n'"
            ]
          },
          "metadata": {},
          "execution_count": 77
        }
      ]
    },
    {
      "cell_type": "code",
      "metadata": {
        "id": "EsMKTVpPWAQf"
      },
      "source": [
        "sr = [9,1,8,5,9,7,1,1,1]"
      ],
      "execution_count": null,
      "outputs": []
    },
    {
      "cell_type": "code",
      "metadata": {
        "colab": {
          "base_uri": "https://localhost:8080/"
        },
        "id": "cXAF6KpsWEIC",
        "outputId": "74b16d72-f551-4ef5-ae96-da48de44cadf"
      },
      "source": [
        "pd_sr = pd.Series(data=sr)\n",
        "pd_sr"
      ],
      "execution_count": null,
      "outputs": [
        {
          "output_type": "execute_result",
          "data": {
            "text/plain": [
              "0    9\n",
              "1    1\n",
              "2    8\n",
              "3    5\n",
              "4    9\n",
              "5    7\n",
              "6    1\n",
              "7    1\n",
              "8    1\n",
              "dtype: int64"
            ]
          },
          "metadata": {},
          "execution_count": 79
        }
      ]
    },
    {
      "cell_type": "markdown",
      "metadata": {
        "id": "DRwLUUDUWiHw"
      },
      "source": [
        "Find the indices of array elements that are non-zero, grouped by element."
      ]
    },
    {
      "cell_type": "code",
      "metadata": {
        "colab": {
          "base_uri": "https://localhost:8080/"
        },
        "id": "vbp6qIT-WO8t",
        "outputId": "b553549e-a50e-49d0-a38f-f31b5c6f7618"
      },
      "source": [
        "pd_sr[pd_sr%5==0].index"
      ],
      "execution_count": null,
      "outputs": [
        {
          "output_type": "execute_result",
          "data": {
            "text/plain": [
              "Int64Index([3], dtype='int64')"
            ]
          },
          "metadata": {},
          "execution_count": 80
        }
      ]
    },
    {
      "cell_type": "markdown",
      "metadata": {
        "id": "KqASy8WnY4PZ"
      },
      "source": [
        "OR"
      ]
    },
    {
      "cell_type": "code",
      "metadata": {
        "colab": {
          "base_uri": "https://localhost:8080/"
        },
        "id": "d7HAQkeeXipS",
        "outputId": "7e7f8487-e613-45c7-c49a-349de625c83a"
      },
      "source": [
        "values = np.random.randint(1,20,15)\n",
        "pd_np_sr = pd.Series(values)\n",
        "print(pd_np_sr)\n",
        "print(np.argwhere(values%5==0))"
      ],
      "execution_count": null,
      "outputs": [
        {
          "output_type": "stream",
          "name": "stdout",
          "text": [
            "0     14\n",
            "1     17\n",
            "2     13\n",
            "3      8\n",
            "4      5\n",
            "5     19\n",
            "6      2\n",
            "7     13\n",
            "8     10\n",
            "9      3\n",
            "10    16\n",
            "11    18\n",
            "12     1\n",
            "13    18\n",
            "14     3\n",
            "dtype: int64\n",
            "[[4]\n",
            " [8]]\n"
          ]
        }
      ]
    },
    {
      "cell_type": "code",
      "metadata": {
        "id": "0xzAOdK5YUtc"
      },
      "source": [
        ""
      ],
      "execution_count": null,
      "outputs": []
    },
    {
      "cell_type": "markdown",
      "metadata": {
        "id": "Hd-Y1LHDY-pR"
      },
      "source": [
        "## !!22- Write a Pandas program to extract items at given positions of a given series."
      ]
    },
    {
      "cell_type": "code",
      "metadata": {
        "id": "TBRExtzPZBJ1",
        "colab": {
          "base_uri": "https://localhost:8080/",
          "height": 53
        },
        "outputId": "f6e19035-e0f6-4372-a699-ff6cfa2e89e9"
      },
      "source": [
        "\"\"\"\n",
        "Sample Output:\n",
        "Original Series:\n",
        "0 2\n",
        "1 3\n",
        "2 9\n",
        "3 0\n",
        "4 2\n",
        "5 3\n",
        "... 19 0\n",
        "20 2\n",
        "21 3\n",
        "dtype: object\n",
        "Extract items at given positions of the said series:\n",
        "0 2\n",
        "2 9\n",
        "6 8\n",
        "11 0\n",
        "21 3\n",
        "dtype: object\n",
        "\"\"\""
      ],
      "execution_count": null,
      "outputs": [
        {
          "output_type": "execute_result",
          "data": {
            "application/vnd.google.colaboratory.intrinsic+json": {
              "type": "string"
            },
            "text/plain": [
              "'\\nSample Output:\\nOriginal Series:\\n0 2\\n1 3\\n2 9\\n3 0\\n4 2\\n5 3\\n... 19 0\\n20 2\\n21 3\\ndtype: object\\nExtract items at given positions of the said series:\\n0 2\\n2 9\\n6 8\\n11 0\\n21 3\\ndtype: object\\n'"
            ]
          },
          "metadata": {},
          "execution_count": 82
        }
      ]
    },
    {
      "cell_type": "code",
      "metadata": {
        "id": "46uxnn2jZIyB"
      },
      "source": [
        "values = np.random.randint(1, 20, 15)"
      ],
      "execution_count": null,
      "outputs": []
    },
    {
      "cell_type": "code",
      "metadata": {
        "id": "BCvYjO_xZM3N"
      },
      "source": [
        "pd_sr = pd.Series(values)"
      ],
      "execution_count": null,
      "outputs": []
    },
    {
      "cell_type": "code",
      "metadata": {
        "colab": {
          "base_uri": "https://localhost:8080/"
        },
        "id": "Za3yQGSKZU7h",
        "outputId": "a106bcc1-ff6c-470a-c41d-375b7e048622"
      },
      "source": [
        "pd_sr.take([0,2,6,11])"
      ],
      "execution_count": null,
      "outputs": [
        {
          "output_type": "execute_result",
          "data": {
            "text/plain": [
              "0     17\n",
              "2      5\n",
              "6      7\n",
              "11     6\n",
              "dtype: int64"
            ]
          },
          "metadata": {},
          "execution_count": 85
        }
      ]
    },
    {
      "cell_type": "code",
      "metadata": {
        "colab": {
          "base_uri": "https://localhost:8080/"
        },
        "id": "VRbLPR8WZ7lw",
        "outputId": "c5d50263-799f-435d-fd5c-f6d9a5c336b6"
      },
      "source": [
        "pd_sr[0:12]"
      ],
      "execution_count": null,
      "outputs": [
        {
          "output_type": "execute_result",
          "data": {
            "text/plain": [
              "0     17\n",
              "1     15\n",
              "2      5\n",
              "3     18\n",
              "4     11\n",
              "5     11\n",
              "6      7\n",
              "7      5\n",
              "8      7\n",
              "9      8\n",
              "10    10\n",
              "11     6\n",
              "dtype: int64"
            ]
          },
          "metadata": {},
          "execution_count": 86
        }
      ]
    },
    {
      "cell_type": "markdown",
      "metadata": {
        "id": "1Ltppb56Ztxf"
      },
      "source": [
        "## 23- Write a Pandas program to get the positions of items of a given series in another given series."
      ]
    },
    {
      "cell_type": "code",
      "metadata": {
        "colab": {
          "base_uri": "https://localhost:8080/",
          "height": 53
        },
        "id": "KkC6yZ7maN9b",
        "outputId": "84a1069c-f0cb-4f89-8229-2c37e9aa3484"
      },
      "source": [
        "\"\"\"\n",
        "Sample Output:\n",
        "Original Series:\n",
        "0 1\n",
        "1 2\n",
        "2 3\n",
        "3 4\n",
        "4 5\n",
        "5 6\n",
        "6 7\n",
        "7 8\n",
        "8 9\n",
        "9 10\n",
        "dtype: int64\n",
        "0 1\n",
        "1 3\n",
        "2 5\n",
        "3 7\n",
        "4 10\n",
        "dtype: int64\n",
        "Positions of items of series2 in series1:\n",
        "[0, 2, 4, 6, 9]\n",
        "\"\"\""
      ],
      "execution_count": null,
      "outputs": [
        {
          "output_type": "execute_result",
          "data": {
            "application/vnd.google.colaboratory.intrinsic+json": {
              "type": "string"
            },
            "text/plain": [
              "'\\nSample Output:\\nOriginal Series:\\n0 1\\n1 2\\n2 3\\n3 4\\n4 5\\n5 6\\n6 7\\n7 8\\n8 9\\n9 10\\ndtype: int64\\n0 1\\n1 3\\n2 5\\n3 7\\n4 10\\ndtype: int64\\nPositions of items of series2 in series1:\\n[0, 2, 4, 6, 9]\\n'"
            ]
          },
          "metadata": {},
          "execution_count": 87
        }
      ]
    },
    {
      "cell_type": "code",
      "metadata": {
        "id": "D9rdNo4LaTEC"
      },
      "source": [
        "sr1 = [1,2,3,4,5,6,7,8,9,10]\n",
        "sr2 = [1,3,5,7]"
      ],
      "execution_count": null,
      "outputs": []
    },
    {
      "cell_type": "code",
      "metadata": {
        "id": "Oz-4EUiOfSAL"
      },
      "source": [
        "pd_sr1 = pd.Series(sr1)\n",
        "pd_sr2 = pd.Series(sr2)"
      ],
      "execution_count": null,
      "outputs": []
    },
    {
      "cell_type": "code",
      "metadata": {
        "colab": {
          "base_uri": "https://localhost:8080/"
        },
        "id": "YBFYP3K4fYBV",
        "outputId": "3845ef19-2bce-4ddf-dd35-c91af95091f2"
      },
      "source": [
        "pd_sr2[pd_sr2 == 3].index[0]"
      ],
      "execution_count": null,
      "outputs": [
        {
          "output_type": "execute_result",
          "data": {
            "text/plain": [
              "1"
            ]
          },
          "metadata": {},
          "execution_count": 90
        }
      ]
    },
    {
      "cell_type": "code",
      "metadata": {
        "id": "YXPmQ5tgeqdn"
      },
      "source": [
        "indexes = []\n",
        "for value in pd_sr2:\n",
        "  if value in pd_sr1:\n",
        "    index  = pd_sr1[pd_sr1 == value].index[0]\n",
        "    indexes.append(index)"
      ],
      "execution_count": null,
      "outputs": []
    },
    {
      "cell_type": "code",
      "metadata": {
        "id": "QrqehvXef7Th"
      },
      "source": [
        "indexss = [pd_sr1[pd_sr1 == value].index[0] for value in pd_sr2 if value in pd_sr1]"
      ],
      "execution_count": null,
      "outputs": []
    },
    {
      "cell_type": "code",
      "metadata": {
        "colab": {
          "base_uri": "https://localhost:8080/"
        },
        "id": "peft5g_Qfiyc",
        "outputId": "1e897fad-0e56-474d-e151-a582610774c8"
      },
      "source": [
        "indexes"
      ],
      "execution_count": null,
      "outputs": [
        {
          "output_type": "execute_result",
          "data": {
            "text/plain": [
              "[0, 2, 4, 6]"
            ]
          },
          "metadata": {},
          "execution_count": 93
        }
      ]
    },
    {
      "cell_type": "code",
      "metadata": {
        "colab": {
          "base_uri": "https://localhost:8080/"
        },
        "id": "Q4y_lhengG7l",
        "outputId": "53337698-7d30-4aca-f960-530eb53743ef"
      },
      "source": [
        "indexss"
      ],
      "execution_count": null,
      "outputs": [
        {
          "output_type": "execute_result",
          "data": {
            "text/plain": [
              "[0, 2, 4, 6]"
            ]
          },
          "metadata": {},
          "execution_count": 94
        }
      ]
    },
    {
      "cell_type": "markdown",
      "metadata": {
        "id": "ueyA-5h-ehuG"
      },
      "source": [
        "# OCT-13-2021"
      ]
    },
    {
      "cell_type": "markdown",
      "metadata": {
        "id": "ochpiEiQelSp"
      },
      "source": [
        "## ??24- Write a Pandas program convert the first and last character of each word to upper case in each word of a given series."
      ]
    },
    {
      "cell_type": "code",
      "metadata": {
        "colab": {
          "base_uri": "https://localhost:8080/",
          "height": 53
        },
        "id": "xGXdLoFxge8P",
        "outputId": "c6febb52-bb53-408a-fedb-bfadee4c05ff"
      },
      "source": [
        "\"\"\"\n",
        "Sample Output:\n",
        "Original Series:\n",
        "0 php\n",
        "1 python\n",
        "2 java\n",
        "3 c#\n",
        "dtype: object\n",
        "First and last character of each word to upper case:\n",
        "0 PhP\n",
        "1 PythoN\n",
        "2 JavA\n",
        "3 C#\n",
        "dtype: object\n",
        "\"\"\""
      ],
      "execution_count": null,
      "outputs": [
        {
          "output_type": "execute_result",
          "data": {
            "application/vnd.google.colaboratory.intrinsic+json": {
              "type": "string"
            },
            "text/plain": [
              "'\\nSample Output:\\nOriginal Series:\\n0 php\\n1 python\\n2 java\\n3 c#\\ndtype: object\\nFirst and last character of each word to upper case:\\n0 PhP\\n1 PythoN\\n2 JavA\\n3 C#\\ndtype: object\\n'"
            ]
          },
          "metadata": {},
          "execution_count": 95
        }
      ]
    },
    {
      "cell_type": "code",
      "metadata": {
        "id": "fQa4dmjGgmRB"
      },
      "source": [
        "sr = ['php','python','java','c#']\n",
        "pd_sr = pd.Series(data=sr)"
      ],
      "execution_count": null,
      "outputs": []
    },
    {
      "cell_type": "code",
      "metadata": {
        "colab": {
          "base_uri": "https://localhost:8080/"
        },
        "id": "tmLqlXICjWqe",
        "outputId": "37c92b76-fae2-45e6-dbcf-21684c6fae0c"
      },
      "source": [
        "pd_sr"
      ],
      "execution_count": null,
      "outputs": [
        {
          "output_type": "execute_result",
          "data": {
            "text/plain": [
              "0       php\n",
              "1    python\n",
              "2      java\n",
              "3        c#\n",
              "dtype: object"
            ]
          },
          "metadata": {},
          "execution_count": 97
        }
      ]
    },
    {
      "cell_type": "markdown",
      "metadata": {
        "id": "zvCBKCAfnUfw"
      },
      "source": [
        "## !!25- Write a Pandas program to calculate the number of characters in each word in a given series."
      ]
    },
    {
      "cell_type": "code",
      "metadata": {
        "id": "leLzvyVJnV-c"
      },
      "source": [
        "sr = ['php','python','java','c#']\n",
        "pd_sr = pd.Series(data=sr)"
      ],
      "execution_count": null,
      "outputs": []
    },
    {
      "cell_type": "code",
      "metadata": {
        "colab": {
          "base_uri": "https://localhost:8080/"
        },
        "id": "QiSSxhNfnblz",
        "outputId": "0b8f07b9-bb00-4d9a-b5d2-bcf7bdd07142"
      },
      "source": [
        "pd_sr.map(lambda x: len(x))"
      ],
      "execution_count": null,
      "outputs": [
        {
          "output_type": "execute_result",
          "data": {
            "text/plain": [
              "0    3\n",
              "1    6\n",
              "2    4\n",
              "3    2\n",
              "dtype: int64"
            ]
          },
          "metadata": {},
          "execution_count": 99
        }
      ]
    },
    {
      "cell_type": "markdown",
      "metadata": {
        "id": "-2H6it_5dDmP"
      },
      "source": [
        "## !!26- Write a Pandas program to compute difference of differences between consecutive numbers of a given series. "
      ]
    },
    {
      "cell_type": "code",
      "metadata": {
        "id": "mZREy_Nmd83s"
      },
      "source": [
        "\"\"\"\n",
        "Sample Output:\n",
        "Original Series:\n",
        "0 1\n",
        "1 3\n",
        "2 5\n",
        "3 8\n",
        "4 10\n",
        "5 11\n",
        "6 15\n",
        "dtype: int64\n",
        "Difference of differences between consecutive numbers of the said series:\n",
        "[nan, 2.0, 2.0, 3.0, 2.0, 1.0, 4.0]\n",
        "[nan, nan, 0.0, 1.0, -1.0, -1.0, 3.0]\n",
        "\"\"\""
      ],
      "execution_count": null,
      "outputs": []
    },
    {
      "cell_type": "code",
      "metadata": {
        "id": "ju9Efv7HeeaD"
      },
      "source": [
        "sr = [1,3,5,8,10,11,15]"
      ],
      "execution_count": null,
      "outputs": []
    },
    {
      "cell_type": "code",
      "metadata": {
        "id": "NO0ocBxdeobN"
      },
      "source": [
        "pd_sr = pd.Series(data=sr)"
      ],
      "execution_count": null,
      "outputs": []
    },
    {
      "cell_type": "code",
      "metadata": {
        "colab": {
          "base_uri": "https://localhost:8080/"
        },
        "id": "z3W7kMbDlFRZ",
        "outputId": "fd9f5bf7-746d-4f94-960d-63bd4a901690"
      },
      "source": [
        "pd_sr.diff()"
      ],
      "execution_count": null,
      "outputs": [
        {
          "output_type": "execute_result",
          "data": {
            "text/plain": [
              "0    NaN\n",
              "1    2.0\n",
              "2    2.0\n",
              "3    3.0\n",
              "4    2.0\n",
              "5    1.0\n",
              "6    4.0\n",
              "dtype: float64"
            ]
          },
          "metadata": {},
          "execution_count": 133
        }
      ]
    },
    {
      "cell_type": "code",
      "metadata": {
        "colab": {
          "base_uri": "https://localhost:8080/"
        },
        "id": "j7y4cZpAxWZc",
        "outputId": "f248a070-f2dc-4f9e-d48c-ba94e842a526"
      },
      "source": [
        "pd_sr.diff().diff()"
      ],
      "execution_count": null,
      "outputs": [
        {
          "output_type": "execute_result",
          "data": {
            "text/plain": [
              "0    NaN\n",
              "1    NaN\n",
              "2    0.0\n",
              "3    1.0\n",
              "4   -1.0\n",
              "5   -1.0\n",
              "6    3.0\n",
              "dtype: float64"
            ]
          },
          "metadata": {},
          "execution_count": 134
        }
      ]
    },
    {
      "cell_type": "markdown",
      "metadata": {
        "id": "9reQ7LAox19Y"
      },
      "source": [
        "## 27- Write a Pandas program to convert a series of date strings to a timeseries"
      ]
    },
    {
      "cell_type": "code",
      "metadata": {
        "colab": {
          "base_uri": "https://localhost:8080/",
          "height": 70
        },
        "id": "GXf0APhLx6vZ",
        "outputId": "ba4edc87-caf6-439e-d2f9-e9ac3a4f7377"
      },
      "source": [
        "\"\"\"\n",
        "Original Series:\n",
        "0 01 Jan 2015\n",
        "1 10-02-2016\n",
        "2 20180307\n",
        "3 2014/05/06\n",
        "4 2016-04-12\n",
        "5 2019-04-06T11:20\n",
        "dtype: object\n",
        "Series of date strings to a timeseries:\n",
        "0 2015-01-01 00:00:00\n",
        "1 2016-10-02 00:00:00\n",
        "2 2018-03-07 00:00:00\n",
        "3 2014-05-06 00:00:00\n",
        "4 2016-04-12 00:00:00\n",
        "5 2019-04-06 11:20:00\n",
        "dtype: datetime64[ns]\n",
        "\"\"\""
      ],
      "execution_count": null,
      "outputs": [
        {
          "output_type": "execute_result",
          "data": {
            "application/vnd.google.colaboratory.intrinsic+json": {
              "type": "string"
            },
            "text/plain": [
              "'\\nOriginal Series:\\n0 01 Jan 2015\\n1 10-02-2016\\n2 20180307\\n3 2014/05/06\\n4 2016-04-12\\n5 2019-04-06T11:20\\ndtype: object\\nSeries of date strings to a timeseries:\\n0 2015-01-01 00:00:00\\n1 2016-10-02 00:00:00\\n2 2018-03-07 00:00:00\\n3 2014-05-06 00:00:00\\n4 2016-04-12 00:00:00\\n5 2019-04-06 11:20:00\\ndtype: datetime64[ns]\\n'"
            ]
          },
          "metadata": {},
          "execution_count": 139
        }
      ]
    },
    {
      "cell_type": "code",
      "metadata": {
        "id": "FMtiZ_RLyGaU"
      },
      "source": [
        "sr = [\"01 Jan 2015\", \"10-02-2016\", \"20180307\", \"2014/05/06\", \"2016-04-12\", \"2019-04-06T11:20\"]"
      ],
      "execution_count": null,
      "outputs": []
    },
    {
      "cell_type": "code",
      "metadata": {
        "id": "4_ed7_7RzKR1"
      },
      "source": [
        "pd_sr = pd.Series(data=sr)"
      ],
      "execution_count": null,
      "outputs": []
    },
    {
      "cell_type": "code",
      "metadata": {
        "colab": {
          "base_uri": "https://localhost:8080/"
        },
        "id": "lp-VrRYpz-U9",
        "outputId": "7f0e1e0c-3803-4ed7-a8c9-d140dcbd9074"
      },
      "source": [
        "pd_sr"
      ],
      "execution_count": null,
      "outputs": [
        {
          "output_type": "execute_result",
          "data": {
            "text/plain": [
              "0         01 Jan 2015\n",
              "1          10-02-2016\n",
              "2            20180307\n",
              "3          2014/05/06\n",
              "4          2016-04-12\n",
              "5    2019-04-06T11:20\n",
              "dtype: object"
            ]
          },
          "metadata": {},
          "execution_count": 145
        }
      ]
    },
    {
      "cell_type": "code",
      "metadata": {
        "colab": {
          "base_uri": "https://localhost:8080/"
        },
        "id": "bn_H-mYAzO2i",
        "outputId": "ed12ab7f-ec49-4b44-8d28-f861c5fde2a3"
      },
      "source": [
        "pd_sr = pd.to_datetime(pd_sr)\n",
        "pd_sr"
      ],
      "execution_count": null,
      "outputs": [
        {
          "output_type": "execute_result",
          "data": {
            "text/plain": [
              "0   2015-01-01 00:00:00\n",
              "1   2016-10-02 00:00:00\n",
              "2   2018-03-07 00:00:00\n",
              "3   2014-05-06 00:00:00\n",
              "4   2016-04-12 00:00:00\n",
              "5   2019-04-06 11:20:00\n",
              "dtype: datetime64[ns]"
            ]
          },
          "metadata": {},
          "execution_count": 147
        }
      ]
    },
    {
      "cell_type": "markdown",
      "metadata": {
        "id": "L-1r50uWnixO"
      },
      "source": [
        "# OCT-14-2021"
      ]
    },
    {
      "cell_type": "markdown",
      "metadata": {
        "id": "P_lBMJAn0JvG"
      },
      "source": [
        "## !!28- Write a Pandas program to get the day of month, day of year, week number and day of week from a given series of date strings. "
      ]
    },
    {
      "cell_type": "code",
      "metadata": {
        "id": "q_VXv3Ob0P4x"
      },
      "source": [
        "\"\"\"\n",
        "Sample Output:\n",
        "Original Series:\n",
        "0 01 Jan 2015\n",
        "1 10-02-2016\n",
        "2 20180307\n",
        "3 2014/05/06\n",
        "4 2016-04-12\n",
        "5 2019-04-06T11:20\n",
        "dtype: object\n",
        "Day of month:\n",
        "[1, 2, 7, 6, 12, 6]\n",
        "Day of year:\n",
        "[1, 276, 66, 126, 103, 96]\n",
        "Week number:\n",
        "[1, 39, 10, 19, 15, 14]\n",
        "Day of week:\n",
        "['Thursday', 'Sunday', 'Wednesday', 'Tuesday', 'Tuesday', 'Saturday']\n",
        "\"\"\""
      ],
      "execution_count": null,
      "outputs": []
    },
    {
      "cell_type": "code",
      "metadata": {
        "id": "M8UUBNk5np0S"
      },
      "source": [
        "sr = [\"01 Jan 2015\", \"10-02-2016\", \"20180307\", \"2014/05/06\", \"2016-04-12\", \"2019-04-06T11:20\"]"
      ],
      "execution_count": null,
      "outputs": []
    },
    {
      "cell_type": "code",
      "metadata": {
        "id": "LYooW5kOnt8u"
      },
      "source": [
        "pd_sr = pd.Series(data=sr)"
      ],
      "execution_count": null,
      "outputs": []
    },
    {
      "cell_type": "code",
      "metadata": {
        "id": "-LPMpa3VnxdD"
      },
      "source": [
        "pd_sr_date = pd.to_datetime(pd_sr)"
      ],
      "execution_count": null,
      "outputs": []
    },
    {
      "cell_type": "code",
      "metadata": {
        "colab": {
          "base_uri": "https://localhost:8080/"
        },
        "id": "zpwlxD38nxSG",
        "outputId": "ece39c5a-6eb4-4241-d719-0e15a25186bf"
      },
      "source": [
        "pd_sr_date"
      ],
      "execution_count": null,
      "outputs": [
        {
          "output_type": "execute_result",
          "data": {
            "text/plain": [
              "0   2015-01-01 00:00:00\n",
              "1   2016-10-02 00:00:00\n",
              "2   2018-03-07 00:00:00\n",
              "3   2014-05-06 00:00:00\n",
              "4   2016-04-12 00:00:00\n",
              "5   2019-04-06 11:20:00\n",
              "dtype: datetime64[ns]"
            ]
          },
          "metadata": {},
          "execution_count": 34
        }
      ]
    },
    {
      "cell_type": "code",
      "metadata": {
        "id": "RPDaEh08qxFV"
      },
      "source": [
        "import datetime as dt"
      ],
      "execution_count": null,
      "outputs": []
    },
    {
      "cell_type": "code",
      "metadata": {
        "colab": {
          "base_uri": "https://localhost:8080/"
        },
        "id": "2EK9Q5boqwx4",
        "outputId": "0310a21b-60fa-4a4b-b068-b229af9fab68"
      },
      "source": [
        "pd_sr_date.dt.day.to_list()"
      ],
      "execution_count": null,
      "outputs": [
        {
          "output_type": "execute_result",
          "data": {
            "text/plain": [
              "[1, 2, 7, 6, 12, 6]"
            ]
          },
          "metadata": {},
          "execution_count": 48
        }
      ]
    },
    {
      "cell_type": "code",
      "metadata": {
        "colab": {
          "base_uri": "https://localhost:8080/"
        },
        "id": "76M_fdEoqwwy",
        "outputId": "01eacd59-1fe6-46f0-9457-3e3c06dbfb53"
      },
      "source": [
        "pd_sr_date.dt.weekday.to_list()"
      ],
      "execution_count": null,
      "outputs": [
        {
          "output_type": "execute_result",
          "data": {
            "text/plain": [
              "[3, 6, 2, 1, 1, 5]"
            ]
          },
          "metadata": {},
          "execution_count": 51
        }
      ]
    },
    {
      "cell_type": "code",
      "metadata": {
        "colab": {
          "base_uri": "https://localhost:8080/"
        },
        "id": "C4PhM_Apqwsx",
        "outputId": "de3b5e51-da0f-4062-90bd-1545f61a6d26"
      },
      "source": [
        "pd_sr_date.dt.month.to_list()"
      ],
      "execution_count": null,
      "outputs": [
        {
          "output_type": "execute_result",
          "data": {
            "text/plain": [
              "[1, 10, 3, 5, 4, 4]"
            ]
          },
          "metadata": {},
          "execution_count": 53
        }
      ]
    },
    {
      "cell_type": "code",
      "metadata": {
        "colab": {
          "base_uri": "https://localhost:8080/"
        },
        "id": "grXPK4csqwrY",
        "outputId": "d8d216bb-5b6e-42a7-ef0c-a8f2baa36f95"
      },
      "source": [
        "pd_sr_date.dt.isocalendar().week.to_list()"
      ],
      "execution_count": null,
      "outputs": [
        {
          "output_type": "execute_result",
          "data": {
            "text/plain": [
              "[1, 39, 10, 19, 15, 14]"
            ]
          },
          "metadata": {},
          "execution_count": 56
        }
      ]
    },
    {
      "cell_type": "code",
      "metadata": {
        "colab": {
          "base_uri": "https://localhost:8080/"
        },
        "id": "iYFWUo7NqwnI",
        "outputId": "ffc999a2-c1d5-4b3e-cc40-a3ce8145e0dc"
      },
      "source": [
        "pd_sr_date.dt.day_name().to_list()"
      ],
      "execution_count": null,
      "outputs": [
        {
          "output_type": "execute_result",
          "data": {
            "text/plain": [
              "['Thursday', 'Sunday', 'Wednesday', 'Tuesday', 'Tuesday', 'Saturday']"
            ]
          },
          "metadata": {},
          "execution_count": 59
        }
      ]
    },
    {
      "cell_type": "markdown",
      "metadata": {
        "id": "xWLzK1XIqwl4"
      },
      "source": [
        "## 29- Write a Pandas program to convert year-month string to dates adding a specified day of the month."
      ]
    },
    {
      "cell_type": "code",
      "metadata": {
        "colab": {
          "base_uri": "https://localhost:8080/",
          "height": 53
        },
        "id": "oMtcdb3mqwiF",
        "outputId": "3baf20c9-8bc5-4777-de86-b981ef66a6db"
      },
      "source": [
        "\"\"\"\n",
        "Sample Output:\n",
        "Original Series:\n",
        "0 Jan 2015\n",
        "1 Feb 2016\n",
        "2 Mar 2017\n",
        "3 Apr 2018\n",
        "4 May 2019\n",
        "dtype: object\n",
        "New dates:\n",
        "0 2015-01-11\n",
        "1 2016-02-11\n",
        "2 2017-03-11\n",
        "3 2018-04-11\n",
        "4 2019-05-11\n",
        "dtype: datetime64[ns]\n",
        "\"\"\""
      ],
      "execution_count": null,
      "outputs": [
        {
          "output_type": "execute_result",
          "data": {
            "application/vnd.google.colaboratory.intrinsic+json": {
              "type": "string"
            },
            "text/plain": [
              "'\\nSample Output:\\nOriginal Series:\\n0 Jan 2015\\n1 Feb 2016\\n2 Mar 2017\\n3 Apr 2018\\n4 May 2019\\ndtype: object\\nNew dates:\\n0 2015-01-11\\n1 2016-02-11\\n2 2017-03-11\\n3 2018-04-11\\n4 2019-05-11\\ndtype: datetime64[ns]\\n'"
            ]
          },
          "metadata": {},
          "execution_count": 60
        }
      ]
    },
    {
      "cell_type": "code",
      "metadata": {
        "id": "0Pu1HR4Kqwg6"
      },
      "source": [
        "sr = [\"Jan 2015\", \"Feb 2016\",\"Mar 2017\",\"Apr 2018\",\"May 2019\"]"
      ],
      "execution_count": null,
      "outputs": []
    },
    {
      "cell_type": "code",
      "metadata": {
        "id": "dLQFE4tNqwc4"
      },
      "source": [
        "pd_sr = pd.Series(data=sr)"
      ],
      "execution_count": null,
      "outputs": []
    },
    {
      "cell_type": "code",
      "metadata": {
        "colab": {
          "base_uri": "https://localhost:8080/"
        },
        "id": "jKY5FH8nqwbZ",
        "outputId": "4fbea90f-8d6a-4786-87d3-d9f5265e3c3f"
      },
      "source": [
        "pd_sr"
      ],
      "execution_count": null,
      "outputs": [
        {
          "output_type": "execute_result",
          "data": {
            "text/plain": [
              "0    Jan 2015\n",
              "1    Feb 2016\n",
              "2    Mar 2017\n",
              "3    Apr 2018\n",
              "4    May 2019\n",
              "dtype: object"
            ]
          },
          "metadata": {},
          "execution_count": 63
        }
      ]
    },
    {
      "cell_type": "code",
      "metadata": {
        "colab": {
          "base_uri": "https://localhost:8080/"
        },
        "id": "M-hu6oOuw2ho",
        "outputId": "f457661a-adb8-43d3-ae40-4d4b09f5f79c"
      },
      "source": [
        "pd.to_datetime(pd_sr)"
      ],
      "execution_count": null,
      "outputs": [
        {
          "output_type": "execute_result",
          "data": {
            "text/plain": [
              "0   2015-01-01\n",
              "1   2016-02-01\n",
              "2   2017-03-01\n",
              "3   2018-04-01\n",
              "4   2019-05-01\n",
              "dtype: datetime64[ns]"
            ]
          },
          "metadata": {},
          "execution_count": 66
        }
      ]
    },
    {
      "cell_type": "markdown",
      "metadata": {
        "id": "JK9ej5mn9f1z"
      },
      "source": [
        "# OCT-15-2021"
      ]
    },
    {
      "cell_type": "markdown",
      "metadata": {
        "id": "RQKdQpbDxSUS"
      },
      "source": [
        "## ??30- Write a Pandas program to filter words from a given series that contain atleast two vowels. "
      ]
    },
    {
      "cell_type": "code",
      "metadata": {
        "id": "rUzlzckaxSJt"
      },
      "source": [
        "\"\"\"\n",
        "Original Series:\n",
        "0 Red\n",
        "1 Green\n",
        "2 Orange\n",
        "3 Pink\n",
        "4 Yellow\n",
        "5 White\n",
        "dtype: object\n",
        "Filtered words:\n",
        "1 Green\n",
        "2 Orange\n",
        "4 Yellow\n",
        "5 White\n",
        "dtype: object\n",
        "\"\"\""
      ],
      "execution_count": null,
      "outputs": []
    },
    {
      "cell_type": "code",
      "metadata": {
        "id": "KIGRZGUnxSGk"
      },
      "source": [
        "sr = [\"Red\",\"Green\",\"Orange\",\"Pink\",\"Yellow\",\"White\"]"
      ],
      "execution_count": null,
      "outputs": []
    },
    {
      "cell_type": "code",
      "metadata": {
        "id": "AF0U8l4PxSBm"
      },
      "source": [
        "pd_sr = pd.Series(data=sr)"
      ],
      "execution_count": null,
      "outputs": []
    },
    {
      "cell_type": "code",
      "metadata": {
        "id": "gM376ngsxR-6"
      },
      "source": [
        "words = [string for string in pd_sr if len(string) > 3]"
      ],
      "execution_count": null,
      "outputs": []
    },
    {
      "cell_type": "code",
      "metadata": {
        "id": "aVYenzmUxR6y",
        "colab": {
          "base_uri": "https://localhost:8080/"
        },
        "outputId": "5cc6a06d-ae38-42f4-bc91-daabd42614bf"
      },
      "source": [
        "words"
      ],
      "execution_count": null,
      "outputs": [
        {
          "output_type": "execute_result",
          "data": {
            "text/plain": [
              "['Green', 'Orange', 'Pink', 'Yellow', 'White']"
            ]
          },
          "metadata": {},
          "execution_count": 14
        }
      ]
    },
    {
      "cell_type": "code",
      "metadata": {
        "id": "w9sYIe7sxR2s"
      },
      "source": [
        "wrd_sr = pd.Series(data=words)"
      ],
      "execution_count": null,
      "outputs": []
    },
    {
      "cell_type": "code",
      "metadata": {
        "id": "vmT0Fw5HxRzE",
        "colab": {
          "base_uri": "https://localhost:8080/"
        },
        "outputId": "a642c27f-8b6d-47b5-8011-7e76120ea61e"
      },
      "source": [
        "wrd_sr"
      ],
      "execution_count": null,
      "outputs": [
        {
          "output_type": "execute_result",
          "data": {
            "text/plain": [
              "0     Green\n",
              "1    Orange\n",
              "2      Pink\n",
              "3    Yellow\n",
              "4     White\n",
              "dtype: object"
            ]
          },
          "metadata": {},
          "execution_count": 16
        }
      ]
    },
    {
      "cell_type": "markdown",
      "metadata": {
        "id": "uqhzjZ5Y57nG"
      },
      "source": [
        "## !! 31-Write a Pandas program to compute the Euclidean distance between two given series."
      ]
    },
    {
      "cell_type": "markdown",
      "metadata": {
        "id": "Dwr0qpO959ze"
      },
      "source": [
        "Euclidean distance\n",
        "From Wikipedia,\n",
        "In mathematics, the Euclidean distance or Euclidean metric is the \"ordinary\" straight-line distance between two points in Euclidean space. With this distance, Euclidean space becomes a metric space. The associated norm is called the Euclidean norm."
      ]
    },
    {
      "cell_type": "code",
      "metadata": {
        "id": "k5t2wG0Z59wu"
      },
      "source": [
        "\"\"\"\n",
        "Original series:\n",
        "0 1\n",
        "1 2\n",
        "2 3\n",
        "3 4\n",
        "4 5\n",
        "5 6\n",
        "6 7\n",
        "7 8\n",
        "8 9\n",
        "9 10\n",
        "dtype: int64\n",
        "0 11\n",
        "1 8\n",
        "2 7\n",
        "3 5\n",
        "4 6\n",
        "5 5\n",
        "6 3\n",
        "7 4\n",
        "8 7\n",
        "9 1\n",
        "dtype: int64\n",
        "Euclidean distance between two said series:\n",
        "16.492422502470642\n",
        "\"\"\""
      ],
      "execution_count": null,
      "outputs": []
    },
    {
      "cell_type": "code",
      "metadata": {
        "id": "eoUNAPPu59uJ"
      },
      "source": [
        "sr1 = [1,2,3,4,5,6,7,8,9,10]\n",
        "sr2 = [11,8,7,5,6,5,3,4,7,1]"
      ],
      "execution_count": null,
      "outputs": []
    },
    {
      "cell_type": "code",
      "metadata": {
        "id": "2cTQCm2C59gr"
      },
      "source": [
        "pd_sr1 = pd.Series(data=sr1)\n",
        "pd_sr2 = pd.Series(data=sr2)"
      ],
      "execution_count": null,
      "outputs": []
    },
    {
      "cell_type": "code",
      "metadata": {
        "colab": {
          "base_uri": "https://localhost:8080/"
        },
        "id": "g9Hwqnzp59eL",
        "outputId": "2ce93359-aa46-4123-ff31-39687ffe66a1"
      },
      "source": [
        "np.linalg.norm(pd_sr1 - pd_sr2)"
      ],
      "execution_count": null,
      "outputs": [
        {
          "output_type": "execute_result",
          "data": {
            "text/plain": [
              "16.492422502470642"
            ]
          },
          "metadata": {},
          "execution_count": 21
        }
      ]
    },
    {
      "cell_type": "markdown",
      "metadata": {
        "id": "HuoWAXOc59c1"
      },
      "source": [
        "## 32- Write a Pandas program to find the positions of the values neighboured by smaller values on both sides in a given series."
      ]
    },
    {
      "cell_type": "code",
      "metadata": {
        "id": "S8vByftO59a0"
      },
      "source": [
        "\"\"\"\n",
        "Original series:\n",
        "0 1\n",
        "1 8\n",
        "2 7\n",
        "3 5\n",
        "4 6\n",
        "5 5\n",
        "6 3\n",
        "7 4\n",
        "8 7\n",
        "9 1\n",
        "dtype: int64\n",
        "Positions of the values surrounded by smaller values on both sides:\n",
        "[1 4 8]\n",
        "\"\"\""
      ],
      "execution_count": null,
      "outputs": []
    },
    {
      "cell_type": "code",
      "metadata": {
        "id": "0UM9vMWU59Ya"
      },
      "source": [
        "sr = [1,8,7,5,6,5,3,4,7,1]\n",
        "pd_sr = pd.Series(data=sr)"
      ],
      "execution_count": null,
      "outputs": []
    },
    {
      "cell_type": "code",
      "metadata": {
        "colab": {
          "base_uri": "https://localhost:8080/"
        },
        "id": "suny_SRB59QJ",
        "outputId": "0c19caf9-fd80-4b6b-bbfb-1ae7b267d35c"
      },
      "source": [
        "pd_sr.diff()"
      ],
      "execution_count": null,
      "outputs": [
        {
          "output_type": "execute_result",
          "data": {
            "text/plain": [
              "0    NaN\n",
              "1    7.0\n",
              "2   -1.0\n",
              "3   -2.0\n",
              "4    1.0\n",
              "5   -1.0\n",
              "6   -2.0\n",
              "7    1.0\n",
              "8    3.0\n",
              "9   -6.0\n",
              "dtype: float64"
            ]
          },
          "metadata": {},
          "execution_count": 27
        }
      ]
    },
    {
      "cell_type": "code",
      "metadata": {
        "colab": {
          "base_uri": "https://localhost:8080/"
        },
        "id": "MLuKNkRl59S1",
        "outputId": "c9c36a5c-45d5-45b4-87aa-3e05d42713fd"
      },
      "source": [
        "np.diff(pd_sr)"
      ],
      "execution_count": null,
      "outputs": [
        {
          "output_type": "execute_result",
          "data": {
            "text/plain": [
              "array([ 7, -1, -2,  1, -1, -2,  1,  3, -6])"
            ]
          },
          "metadata": {},
          "execution_count": 26
        }
      ]
    },
    {
      "cell_type": "code",
      "metadata": {
        "colab": {
          "base_uri": "https://localhost:8080/"
        },
        "id": "mxasKKt359Ng",
        "outputId": "bc02265a-c603-42b2-d8f8-37f61e644733"
      },
      "source": [
        "np.sign(np.diff(pd_sr))"
      ],
      "execution_count": null,
      "outputs": [
        {
          "output_type": "execute_result",
          "data": {
            "text/plain": [
              "array([ 1, -1, -1,  1, -1, -1,  1,  1, -1])"
            ]
          },
          "metadata": {},
          "execution_count": 29
        }
      ]
    },
    {
      "cell_type": "code",
      "metadata": {
        "colab": {
          "base_uri": "https://localhost:8080/"
        },
        "id": "SXtptpTzW6Ya",
        "outputId": "750afbf4-8241-4e99-afe2-dad162506607"
      },
      "source": [
        "temp = np.diff(np.sign(np.diff(pd_sr)))\n",
        "temp"
      ],
      "execution_count": null,
      "outputs": [
        {
          "output_type": "execute_result",
          "data": {
            "text/plain": [
              "array([-2,  0,  2, -2,  0,  2,  0, -2])"
            ]
          },
          "metadata": {},
          "execution_count": 31
        }
      ]
    },
    {
      "cell_type": "markdown",
      "metadata": {
        "id": "qgkov0M_I_z5"
      },
      "source": [
        "# OCT-18-2021"
      ]
    },
    {
      "cell_type": "markdown",
      "metadata": {
        "id": "TXE9UE2_JDo5"
      },
      "source": [
        "## !!33- Write a Pandas program to replace missing white spaces in a given string with the least frequent character."
      ]
    },
    {
      "cell_type": "code",
      "metadata": {
        "id": "g3J5URq6JU0f"
      },
      "source": [
        "\"\"\"\n",
        "Original series:\n",
        "abc def abcdef icd\n",
        "c 3\n",
        "d 3\n",
        "3\n",
        "b 2\n",
        "e 2\n",
        "a 2\n",
        "f 2\n",
        "i 1\n",
        "dtype: int64\n",
        "abcidefiabcdefiicd\n",
        "\"\"\""
      ],
      "execution_count": null,
      "outputs": []
    },
    {
      "cell_type": "code",
      "metadata": {
        "id": "QHHsirFsJZSg"
      },
      "source": [
        "sr ='abc def abcdef icd'\n",
        "pd_sr = pd.Series(data=list(sr))"
      ],
      "execution_count": 5,
      "outputs": []
    },
    {
      "cell_type": "code",
      "metadata": {
        "colab": {
          "base_uri": "https://localhost:8080/"
        },
        "id": "x-7anj9JKLy4",
        "outputId": "2c5952b0-936f-4370-e886-09862976e953"
      },
      "source": [
        "pd_sr"
      ],
      "execution_count": 8,
      "outputs": [
        {
          "output_type": "execute_result",
          "data": {
            "text/plain": [
              "0     a\n",
              "1     b\n",
              "2     c\n",
              "3      \n",
              "4     d\n",
              "5     e\n",
              "6     f\n",
              "7      \n",
              "8     a\n",
              "9     b\n",
              "10    c\n",
              "11    d\n",
              "12    e\n",
              "13    f\n",
              "14     \n",
              "15    i\n",
              "16    c\n",
              "17    d\n",
              "dtype: object"
            ]
          },
          "metadata": {},
          "execution_count": 8
        }
      ]
    },
    {
      "cell_type": "code",
      "metadata": {
        "colab": {
          "base_uri": "https://localhost:8080/"
        },
        "id": "Zs1hLcyiJf_C",
        "outputId": "36bec691-06ac-4307-b94d-f3202a0f43dc"
      },
      "source": [
        "pd_sr.value_counts()"
      ],
      "execution_count": 6,
      "outputs": [
        {
          "output_type": "execute_result",
          "data": {
            "text/plain": [
              "d    3\n",
              "c    3\n",
              "     3\n",
              "f    2\n",
              "b    2\n",
              "e    2\n",
              "a    2\n",
              "i    1\n",
              "dtype: int64"
            ]
          },
          "metadata": {},
          "execution_count": 6
        }
      ]
    },
    {
      "cell_type": "code",
      "metadata": {
        "id": "PLzQ99z8KdjM"
      },
      "source": [
        "element_frq = pd_sr.value_counts()"
      ],
      "execution_count": 9,
      "outputs": []
    },
    {
      "cell_type": "code",
      "metadata": {
        "colab": {
          "base_uri": "https://localhost:8080/",
          "height": 35
        },
        "id": "RpkIhZinKS7Y",
        "outputId": "ea12a489-8697-43da-bd28-17829133797c"
      },
      "source": [
        "least_frq = element_frq.index[-1]\n",
        "least_frq"
      ],
      "execution_count": 10,
      "outputs": [
        {
          "output_type": "execute_result",
          "data": {
            "application/vnd.google.colaboratory.intrinsic+json": {
              "type": "string"
            },
            "text/plain": [
              "'i'"
            ]
          },
          "metadata": {},
          "execution_count": 10
        }
      ]
    },
    {
      "cell_type": "code",
      "metadata": {
        "colab": {
          "base_uri": "https://localhost:8080/",
          "height": 35
        },
        "id": "qDf-NKk_KsKN",
        "outputId": "92b50022-386b-4372-b04f-9644893512dc"
      },
      "source": [
        "new_strig = sr.replace(' ', least_frq)\n",
        "new_strig"
      ],
      "execution_count": 11,
      "outputs": [
        {
          "output_type": "execute_result",
          "data": {
            "application/vnd.google.colaboratory.intrinsic+json": {
              "type": "string"
            },
            "text/plain": [
              "'abcidefiabcdefiicd'"
            ]
          },
          "metadata": {},
          "execution_count": 11
        }
      ]
    },
    {
      "cell_type": "markdown",
      "metadata": {
        "id": "1y16whTGLBQ9"
      },
      "source": [
        "## ??34- Write a Pandas program to compute the autocorrelations of a given numeric series."
      ]
    },
    {
      "cell_type": "code",
      "metadata": {
        "id": "9xM_1EpdLG7Z"
      },
      "source": [
        "\"\"\"\n",
        "From Wikipedia:\n",
        "Autocorrelation, also known as serial correlation, is the correlation of a signal with a delayed copy of itself as a function of delay. Informally, it is the similarity between observations as a function of the time lag between them.\n",
        "Sample Output:\n",
        "Original series:\n",
        "0 13.207262\n",
        "1 4.098685\n",
        "2 -1.435534\n",
        "3 13.626760\n",
        "... 13 -2.346193\n",
        "14 17.873884\n",
        "dtype: float64\n",
        "Autocorrelations of the said series:\n",
        "[-0.38, 0.1, -0.43, 0.03, 0.35, -0.2, 0.04, -0.59, 0.34, 0.11]\n",
        "\"\"\""
      ],
      "execution_count": null,
      "outputs": []
    },
    {
      "cell_type": "code",
      "metadata": {
        "id": "2VBnIJ6YLKkU"
      },
      "source": [
        "n_array = np.random.random_sample()"
      ],
      "execution_count": 13,
      "outputs": []
    },
    {
      "cell_type": "code",
      "metadata": {
        "id": "c9AaciPxMXdK"
      },
      "source": [
        "n_array = np.random.normal(1, 10, 15)"
      ],
      "execution_count": 20,
      "outputs": []
    },
    {
      "cell_type": "code",
      "metadata": {
        "colab": {
          "base_uri": "https://localhost:8080/"
        },
        "id": "dYg_ywsQLhPi",
        "outputId": "2762cdc6-ab50-43d4-830f-3d299618f561"
      },
      "source": [
        "n_array"
      ],
      "execution_count": 21,
      "outputs": [
        {
          "output_type": "execute_result",
          "data": {
            "text/plain": [
              "array([ 11.77420365, -19.25472829,  12.73843155,  18.30083949,\n",
              "         7.75616722,  -0.47534076,  17.51913274,  13.54143298,\n",
              "        -1.14637672,   3.67126492,   2.42992922,  -3.98523425,\n",
              "        -5.90123274,  10.0996871 , -15.55804247])"
            ]
          },
          "metadata": {},
          "execution_count": 21
        }
      ]
    },
    {
      "cell_type": "code",
      "metadata": {
        "id": "Fl6-T1pjNI8x"
      },
      "source": [
        "pd_sr = pd.Series(data=n_array)"
      ],
      "execution_count": 23,
      "outputs": []
    },
    {
      "cell_type": "code",
      "metadata": {
        "colab": {
          "base_uri": "https://localhost:8080/"
        },
        "id": "7wP2fnXsN4BK",
        "outputId": "ad961fff-aa70-4aea-d977-ed227cde9436"
      },
      "source": [
        "pd_sr.autocorr"
      ],
      "execution_count": 24,
      "outputs": [
        {
          "output_type": "execute_result",
          "data": {
            "text/plain": [
              "<bound method Series.autocorr of 0     11.774204\n",
              "1    -19.254728\n",
              "2     12.738432\n",
              "3     18.300839\n",
              "4      7.756167\n",
              "5     -0.475341\n",
              "6     17.519133\n",
              "7     13.541433\n",
              "8     -1.146377\n",
              "9      3.671265\n",
              "10     2.429929\n",
              "11    -3.985234\n",
              "12    -5.901233\n",
              "13    10.099687\n",
              "14   -15.558042\n",
              "dtype: float64>"
            ]
          },
          "metadata": {},
          "execution_count": 24
        }
      ]
    },
    {
      "cell_type": "markdown",
      "metadata": {
        "id": "pgQNSLKeOWb-"
      },
      "source": [
        "## !!35- Write a Pandas program to create a TimeSeries to display all the Sundays of given year. "
      ]
    },
    {
      "cell_type": "code",
      "metadata": {
        "id": "uu-BtYTMPsQz"
      },
      "source": [
        "\"\"\"\n",
        "Sample Output:\n",
        "All Sundays of 2019:\n",
        "0 2020-01-05\n",
        "1 2020-01-12\n",
        "2 2020-01-19\n",
        "3 2020-01-26\n",
        "4 2020-02-02\n",
        "5 2020-02-09\n",
        "..... 48 2020-12-06\n",
        "49 2020-12-13\n",
        "50 2020-12-20\n",
        "51 2020-12-27\n",
        "dtype: datetime64[ns]\n",
        "\"\"\""
      ],
      "execution_count": null,
      "outputs": []
    },
    {
      "cell_type": "code",
      "metadata": {
        "id": "2lHX0-brP9oH"
      },
      "source": [
        "pd.date_range('2020-01-01', )"
      ],
      "execution_count": null,
      "outputs": []
    },
    {
      "cell_type": "markdown",
      "metadata": {
        "id": "bj1V7yeDRjr_"
      },
      "source": [
        "[offset alias- freq attribute] (https://pandas.pydata.org/pandas-docs/stable/user_guide/timeseries.html#offset-aliases)\n"
      ]
    },
    {
      "cell_type": "code",
      "metadata": {
        "colab": {
          "base_uri": "https://localhost:8080/"
        },
        "id": "5s0vIZbhP8Qb",
        "outputId": "a1617156-3f32-486b-b83a-8775e074fddc"
      },
      "source": [
        "result = pd.Series(pd.date_range('2020-01-01', periods=52, freq='W-SUN'))\n",
        "result"
      ],
      "execution_count": 26,
      "outputs": [
        {
          "output_type": "execute_result",
          "data": {
            "text/plain": [
              "0    2020-01-05\n",
              "1    2020-01-12\n",
              "2    2020-01-19\n",
              "3    2020-01-26\n",
              "4    2020-02-02\n",
              "5    2020-02-09\n",
              "6    2020-02-16\n",
              "7    2020-02-23\n",
              "8    2020-03-01\n",
              "9    2020-03-08\n",
              "10   2020-03-15\n",
              "11   2020-03-22\n",
              "12   2020-03-29\n",
              "13   2020-04-05\n",
              "14   2020-04-12\n",
              "15   2020-04-19\n",
              "16   2020-04-26\n",
              "17   2020-05-03\n",
              "18   2020-05-10\n",
              "19   2020-05-17\n",
              "20   2020-05-24\n",
              "21   2020-05-31\n",
              "22   2020-06-07\n",
              "23   2020-06-14\n",
              "24   2020-06-21\n",
              "25   2020-06-28\n",
              "26   2020-07-05\n",
              "27   2020-07-12\n",
              "28   2020-07-19\n",
              "29   2020-07-26\n",
              "30   2020-08-02\n",
              "31   2020-08-09\n",
              "32   2020-08-16\n",
              "33   2020-08-23\n",
              "34   2020-08-30\n",
              "35   2020-09-06\n",
              "36   2020-09-13\n",
              "37   2020-09-20\n",
              "38   2020-09-27\n",
              "39   2020-10-04\n",
              "40   2020-10-11\n",
              "41   2020-10-18\n",
              "42   2020-10-25\n",
              "43   2020-11-01\n",
              "44   2020-11-08\n",
              "45   2020-11-15\n",
              "46   2020-11-22\n",
              "47   2020-11-29\n",
              "48   2020-12-06\n",
              "49   2020-12-13\n",
              "50   2020-12-20\n",
              "51   2020-12-27\n",
              "dtype: datetime64[ns]"
            ]
          },
          "metadata": {},
          "execution_count": 26
        }
      ]
    },
    {
      "cell_type": "markdown",
      "metadata": {
        "id": "BkBBymd-SEsB"
      },
      "source": [
        "## 36- Write a Pandas program to convert given series into a dataframe with its index as another column on the dataframe. "
      ]
    },
    {
      "cell_type": "code",
      "metadata": {
        "id": "C8h_fkVbSXEb"
      },
      "source": [
        "\"\"\"\n",
        "Sample Output:\n",
        "index 0\n",
        "0 A 0\n",
        "1 B 1\n",
        "2 C 2\n",
        "3 D 3\n",
        "4 E 4\n",
        "\"\"\""
      ],
      "execution_count": null,
      "outputs": []
    },
    {
      "cell_type": "code",
      "metadata": {
        "id": "BvqrGg1ISZH2"
      },
      "source": [
        "sr = ['a','b','c','d','e']\n",
        "pd_sr = pd.Series(data=sr)"
      ],
      "execution_count": 28,
      "outputs": []
    },
    {
      "cell_type": "code",
      "metadata": {
        "colab": {
          "base_uri": "https://localhost:8080/"
        },
        "id": "rOeRGc5zSqxe",
        "outputId": "2295d1b8-4699-43a1-87be-a5fca388b917"
      },
      "source": [
        "pd_sr"
      ],
      "execution_count": 29,
      "outputs": [
        {
          "output_type": "execute_result",
          "data": {
            "text/plain": [
              "0    a\n",
              "1    b\n",
              "2    c\n",
              "3    d\n",
              "4    e\n",
              "dtype: object"
            ]
          },
          "metadata": {},
          "execution_count": 29
        }
      ]
    },
    {
      "cell_type": "code",
      "metadata": {
        "colab": {
          "base_uri": "https://localhost:8080/",
          "height": 203
        },
        "id": "DsABfdGISsFf",
        "outputId": "277fa633-6709-4b0a-cdef-bfcd63dc4486"
      },
      "source": [
        "pd.DataFrame(data=pd_sr).reset_index()"
      ],
      "execution_count": 37,
      "outputs": [
        {
          "output_type": "execute_result",
          "data": {
            "text/html": [
              "<div>\n",
              "<style scoped>\n",
              "    .dataframe tbody tr th:only-of-type {\n",
              "        vertical-align: middle;\n",
              "    }\n",
              "\n",
              "    .dataframe tbody tr th {\n",
              "        vertical-align: top;\n",
              "    }\n",
              "\n",
              "    .dataframe thead th {\n",
              "        text-align: right;\n",
              "    }\n",
              "</style>\n",
              "<table border=\"1\" class=\"dataframe\">\n",
              "  <thead>\n",
              "    <tr style=\"text-align: right;\">\n",
              "      <th></th>\n",
              "      <th>index</th>\n",
              "      <th>0</th>\n",
              "    </tr>\n",
              "  </thead>\n",
              "  <tbody>\n",
              "    <tr>\n",
              "      <th>0</th>\n",
              "      <td>0</td>\n",
              "      <td>a</td>\n",
              "    </tr>\n",
              "    <tr>\n",
              "      <th>1</th>\n",
              "      <td>1</td>\n",
              "      <td>b</td>\n",
              "    </tr>\n",
              "    <tr>\n",
              "      <th>2</th>\n",
              "      <td>2</td>\n",
              "      <td>c</td>\n",
              "    </tr>\n",
              "    <tr>\n",
              "      <th>3</th>\n",
              "      <td>3</td>\n",
              "      <td>d</td>\n",
              "    </tr>\n",
              "    <tr>\n",
              "      <th>4</th>\n",
              "      <td>4</td>\n",
              "      <td>e</td>\n",
              "    </tr>\n",
              "  </tbody>\n",
              "</table>\n",
              "</div>"
            ],
            "text/plain": [
              "   index  0\n",
              "0      0  a\n",
              "1      1  b\n",
              "2      2  c\n",
              "3      3  d\n",
              "4      4  e"
            ]
          },
          "metadata": {},
          "execution_count": 37
        }
      ]
    },
    {
      "cell_type": "markdown",
      "metadata": {
        "id": "iBAbr9cfT1fH"
      },
      "source": [
        "## 37- Write a Pandas program to stack two given series vertically and horizontally. "
      ]
    },
    {
      "cell_type": "code",
      "metadata": {
        "id": "B29-0x2MT3AA"
      },
      "source": [
        "\"\"\"\n",
        "Sample Output:\n",
        "Original Series:\n",
        "0 0\n",
        "1 1\n",
        "2 2\n",
        "3 3\n",
        "4 4\n",
        "5 5\n",
        "6 6\n",
        "7 7\n",
        "8 8\n",
        "9 9\n",
        "dtype: int64\n",
        "0 p\n",
        "1 q\n",
        "2 r\n",
        "3 s\n",
        "4 t\n",
        "5 u\n",
        "6 v\n",
        "7 w\n",
        "8 x\n",
        "9 y\n",
        "dtype: object\n",
        "Stack two given series vertically and horizontally:\n",
        "0 1\n",
        "0 0 p\n",
        "1 1 q\n",
        "2 2 r\n",
        "3 3 s\n",
        "4 4 t\n",
        "5 5 u\n",
        "6 6 v\n",
        "7 7 w\n",
        "8 8 x\n",
        "9 9 y\n",
        "\"\"\""
      ],
      "execution_count": null,
      "outputs": []
    },
    {
      "cell_type": "code",
      "metadata": {
        "colab": {
          "base_uri": "https://localhost:8080/"
        },
        "id": "nzzAhSKOUCVL",
        "outputId": "26b27900-c8c4-4a11-c2e0-0ba80d102cba"
      },
      "source": [
        "sr = 'pqrstuvwxy'\n",
        "sr = list(sr)\n",
        "sr"
      ],
      "execution_count": 40,
      "outputs": [
        {
          "output_type": "execute_result",
          "data": {
            "text/plain": [
              "['p', 'q', 'r', 's', 't', 'u', 'v', 'w', 'x', 'y']"
            ]
          },
          "metadata": {},
          "execution_count": 40
        }
      ]
    },
    {
      "cell_type": "code",
      "metadata": {
        "id": "VilNfQhNUbMQ"
      },
      "source": [
        "sr1 = [0,1,2,3,4,5,6,7,8,9]"
      ],
      "execution_count": 41,
      "outputs": []
    },
    {
      "cell_type": "code",
      "metadata": {
        "id": "ITtncn7WUk-O"
      },
      "source": [
        "pd_sr = pd.Series(data=sr)\n",
        "pd_sr1 = pd.Series(data=sr1)"
      ],
      "execution_count": 43,
      "outputs": []
    },
    {
      "cell_type": "code",
      "metadata": {
        "colab": {
          "base_uri": "https://localhost:8080/",
          "height": 357
        },
        "id": "dggsmityVLxs",
        "outputId": "1a563fc3-1852-405d-afcd-c1fbfacec7bd"
      },
      "source": [
        "pd.concat([pd_sr, pd_sr1], axis=1)"
      ],
      "execution_count": 46,
      "outputs": [
        {
          "output_type": "execute_result",
          "data": {
            "text/html": [
              "<div>\n",
              "<style scoped>\n",
              "    .dataframe tbody tr th:only-of-type {\n",
              "        vertical-align: middle;\n",
              "    }\n",
              "\n",
              "    .dataframe tbody tr th {\n",
              "        vertical-align: top;\n",
              "    }\n",
              "\n",
              "    .dataframe thead th {\n",
              "        text-align: right;\n",
              "    }\n",
              "</style>\n",
              "<table border=\"1\" class=\"dataframe\">\n",
              "  <thead>\n",
              "    <tr style=\"text-align: right;\">\n",
              "      <th></th>\n",
              "      <th>0</th>\n",
              "      <th>1</th>\n",
              "    </tr>\n",
              "  </thead>\n",
              "  <tbody>\n",
              "    <tr>\n",
              "      <th>0</th>\n",
              "      <td>p</td>\n",
              "      <td>0</td>\n",
              "    </tr>\n",
              "    <tr>\n",
              "      <th>1</th>\n",
              "      <td>q</td>\n",
              "      <td>1</td>\n",
              "    </tr>\n",
              "    <tr>\n",
              "      <th>2</th>\n",
              "      <td>r</td>\n",
              "      <td>2</td>\n",
              "    </tr>\n",
              "    <tr>\n",
              "      <th>3</th>\n",
              "      <td>s</td>\n",
              "      <td>3</td>\n",
              "    </tr>\n",
              "    <tr>\n",
              "      <th>4</th>\n",
              "      <td>t</td>\n",
              "      <td>4</td>\n",
              "    </tr>\n",
              "    <tr>\n",
              "      <th>5</th>\n",
              "      <td>u</td>\n",
              "      <td>5</td>\n",
              "    </tr>\n",
              "    <tr>\n",
              "      <th>6</th>\n",
              "      <td>v</td>\n",
              "      <td>6</td>\n",
              "    </tr>\n",
              "    <tr>\n",
              "      <th>7</th>\n",
              "      <td>w</td>\n",
              "      <td>7</td>\n",
              "    </tr>\n",
              "    <tr>\n",
              "      <th>8</th>\n",
              "      <td>x</td>\n",
              "      <td>8</td>\n",
              "    </tr>\n",
              "    <tr>\n",
              "      <th>9</th>\n",
              "      <td>y</td>\n",
              "      <td>9</td>\n",
              "    </tr>\n",
              "  </tbody>\n",
              "</table>\n",
              "</div>"
            ],
            "text/plain": [
              "   0  1\n",
              "0  p  0\n",
              "1  q  1\n",
              "2  r  2\n",
              "3  s  3\n",
              "4  t  4\n",
              "5  u  5\n",
              "6  v  6\n",
              "7  w  7\n",
              "8  x  8\n",
              "9  y  9"
            ]
          },
          "metadata": {},
          "execution_count": 46
        }
      ]
    },
    {
      "cell_type": "markdown",
      "metadata": {
        "id": "RMOX7Wr9Xxb8"
      },
      "source": [
        "## 38- Write a Pandas program to check the equality of two given series."
      ]
    },
    {
      "cell_type": "code",
      "metadata": {
        "colab": {
          "base_uri": "https://localhost:8080/",
          "height": 70
        },
        "id": "sU_uTF4uXxZt",
        "outputId": "52103f0d-54bc-4f31-c8f6-d62fa4b7fda4"
      },
      "source": [
        "\"\"\"\n",
        "Original Series:\n",
        "0 1\n",
        "1 8\n",
        "2 7\n",
        "3 5\n",
        "4 6\n",
        "5 5\n",
        "6 3\n",
        "7 4\n",
        "8 7\n",
        "9 1\n",
        "dtype: int64\n",
        "0 1\n",
        "1 8\n",
        "2 7\n",
        "3 5\n",
        "4 6\n",
        "5 5\n",
        "6 3\n",
        "7 4\n",
        "8 7\n",
        "9 1\n",
        "dtype: int64\n",
        "Check 2 series are equal or not?\n",
        "0 True\n",
        "1 True\n",
        "2 True\n",
        "3 True\n",
        "4 True\n",
        "5 True\n",
        "6 True\n",
        "7 True\n",
        "8 True\n",
        "9 True\n",
        "dtype: bool\n",
        "\"\"\""
      ],
      "execution_count": 47,
      "outputs": [
        {
          "output_type": "execute_result",
          "data": {
            "application/vnd.google.colaboratory.intrinsic+json": {
              "type": "string"
            },
            "text/plain": [
              "'\\nOriginal Series:\\n0 1\\n1 8\\n2 7\\n3 5\\n4 6\\n5 5\\n6 3\\n7 4\\n8 7\\n9 1\\ndtype: int64\\n0 1\\n1 8\\n2 7\\n3 5\\n4 6\\n5 5\\n6 3\\n7 4\\n8 7\\n9 1\\ndtype: int64\\nCheck 2 series are equal or not?\\n0 True\\n1 True\\n2 True\\n3 True\\n4 True\\n5 True\\n6 True\\n7 True\\n8 True\\n9 True\\ndtype: bool\\n'"
            ]
          },
          "metadata": {},
          "execution_count": 47
        }
      ]
    },
    {
      "cell_type": "code",
      "metadata": {
        "id": "sNGu_w0FXxWv"
      },
      "source": [
        "sr1 = [1,8,7,5,6,5,3,4,7,1]\n",
        "sr2 = [1,8,7,5,6,5,3,4,7,1]"
      ],
      "execution_count": 48,
      "outputs": []
    },
    {
      "cell_type": "code",
      "metadata": {
        "id": "Mqga5QQxXxTj"
      },
      "source": [
        "pd_sr1 = pd.Series(data=sr1)\n",
        "pd_sr2 = pd.Series(data=sr2)"
      ],
      "execution_count": 49,
      "outputs": []
    },
    {
      "cell_type": "code",
      "metadata": {
        "colab": {
          "base_uri": "https://localhost:8080/"
        },
        "id": "5Caw5rYgXxRU",
        "outputId": "5519871f-3042-4159-af62-c2787f6cb7a9"
      },
      "source": [
        "pd_sr1 == pd_sr2"
      ],
      "execution_count": 53,
      "outputs": [
        {
          "output_type": "execute_result",
          "data": {
            "text/plain": [
              "0    True\n",
              "1    True\n",
              "2    True\n",
              "3    True\n",
              "4    True\n",
              "5    True\n",
              "6    True\n",
              "7    True\n",
              "8    True\n",
              "9    True\n",
              "dtype: bool"
            ]
          },
          "metadata": {},
          "execution_count": 53
        }
      ]
    },
    {
      "cell_type": "markdown",
      "metadata": {
        "id": "A8n9vvJOXxPp"
      },
      "source": [
        "## 39- Write a Pandas program to find the index of the first occurrence of the smallest and largest value of a given"
      ]
    },
    {
      "cell_type": "code",
      "metadata": {
        "id": "1N4l0eHeXxL_"
      },
      "source": [
        "\"\"\"\n",
        "Original Series:\n",
        "0 1\n",
        "1 3\n",
        "2 7\n",
        "3 12\n",
        "4 88\n",
        "5 23\n",
        "6 3\n",
        "7 1\n",
        "8 9\n",
        "9 0\n",
        "dtype: int64\n",
        "Index of the first occurrence of the smallest and largest value of the said series:\n",
        "9\n",
        "4\n",
        "\"\"\""
      ],
      "execution_count": null,
      "outputs": []
    },
    {
      "cell_type": "code",
      "metadata": {
        "id": "lkkuUGsdXxJa"
      },
      "source": [
        "sr = [1,3,7,12,88,23,3,1,9,0,]"
      ],
      "execution_count": 4,
      "outputs": []
    },
    {
      "cell_type": "code",
      "metadata": {
        "id": "Fcv3xaDHXxGw"
      },
      "source": [
        "pd_sr = pd.Series(data=sr)"
      ],
      "execution_count": 5,
      "outputs": []
    },
    {
      "cell_type": "code",
      "metadata": {
        "id": "gBmMh4QUepE4"
      },
      "source": [
        "pd_sr.sort_values(inplace=True)"
      ],
      "execution_count": 6,
      "outputs": []
    },
    {
      "cell_type": "code",
      "metadata": {
        "colab": {
          "base_uri": "https://localhost:8080/"
        },
        "id": "xdXCUphOk0HX",
        "outputId": "42e93955-0052-4f0c-fada-012b69d315f1"
      },
      "source": [
        "pd_sr"
      ],
      "execution_count": 11,
      "outputs": [
        {
          "output_type": "execute_result",
          "data": {
            "text/plain": [
              "9     0\n",
              "0     1\n",
              "7     1\n",
              "1     3\n",
              "6     3\n",
              "2     7\n",
              "8     9\n",
              "3    12\n",
              "5    23\n",
              "4    88\n",
              "dtype: int64"
            ]
          },
          "metadata": {},
          "execution_count": 11
        }
      ]
    },
    {
      "cell_type": "code",
      "metadata": {
        "colab": {
          "base_uri": "https://localhost:8080/"
        },
        "id": "ChSOQU8AfARl",
        "outputId": "95a5d13b-5d8f-43ec-f6d3-66c350f3bc45"
      },
      "source": [
        "pd_sr.head(1).index[0]"
      ],
      "execution_count": 19,
      "outputs": [
        {
          "output_type": "execute_result",
          "data": {
            "text/plain": [
              "9"
            ]
          },
          "metadata": {},
          "execution_count": 19
        }
      ]
    },
    {
      "cell_type": "code",
      "metadata": {
        "colab": {
          "base_uri": "https://localhost:8080/"
        },
        "id": "1m0E-7Oek-0V",
        "outputId": "22a32102-90ca-43db-8adc-4f4a5aad6314"
      },
      "source": [
        "pd_sr.tail(1).index[0]"
      ],
      "execution_count": 20,
      "outputs": [
        {
          "output_type": "execute_result",
          "data": {
            "text/plain": [
              "4"
            ]
          },
          "metadata": {},
          "execution_count": 20
        }
      ]
    },
    {
      "cell_type": "markdown",
      "metadata": {
        "id": "pwl04AqgWtqm"
      },
      "source": [
        "## ??40- Write a Pandas program to check inequality over the index axis of a given dataframe and a given series."
      ]
    },
    {
      "cell_type": "code",
      "metadata": {
        "id": "9Dvlzdr4Wuni"
      },
      "source": [
        "\"\"\"\n",
        "Original DataFrame:\n",
        "W X Y Z\n",
        "0 68.0 78.0 84 86\n",
        "1 75.0 75.0 94 97\n",
        "2 86.0 NaN 89 96\n",
        "3 80.0 80.0 86 72\n",
        "4 NaN 86.0 86 83\n",
        "Original Series:\n",
        "0 68.0\n",
        "1 75.0\n",
        "2 86.0\n",
        "3 80.0\n",
        "4 NaN\n",
        "dtype: float64\n",
        "Check for inequality of the said series & dataframe:\n",
        "W X Y Z\n",
        "0 False True True True\n",
        "1 False False True True\n",
        "2 False True True True\n",
        "3 False False True True\n",
        "4 True True True True\n",
        "\"\"\""
      ],
      "execution_count": null,
      "outputs": []
    },
    {
      "cell_type": "code",
      "metadata": {
        "id": "WkxB4JSqWukL"
      },
      "source": [
        ""
      ],
      "execution_count": null,
      "outputs": []
    },
    {
      "cell_type": "code",
      "metadata": {
        "id": "m6WGqM6rWugS"
      },
      "source": [
        ""
      ],
      "execution_count": null,
      "outputs": []
    },
    {
      "cell_type": "code",
      "metadata": {
        "id": "qNgl3iACWudv"
      },
      "source": [
        ""
      ],
      "execution_count": null,
      "outputs": []
    },
    {
      "cell_type": "code",
      "metadata": {
        "id": "If_XP1fSWubV"
      },
      "source": [
        ""
      ],
      "execution_count": null,
      "outputs": []
    },
    {
      "cell_type": "code",
      "metadata": {
        "id": "PNsRNOTlWuUz"
      },
      "source": [
        ""
      ],
      "execution_count": null,
      "outputs": []
    },
    {
      "cell_type": "markdown",
      "metadata": {
        "id": "hFgPctfQkL0s"
      },
      "source": [
        "# Fizz Buzz"
      ]
    },
    {
      "cell_type": "code",
      "metadata": {
        "id": "18splwyWevYk"
      },
      "source": [
        "def fizzbuzz(value_group, divider_a, divivider_b):\n",
        "\n",
        "  for value in value_group: \n",
        "    if value % divider_a == 0 and value % divivider_b !=0:\n",
        "      print('fizz')\n",
        "    if value % divider_a != 0 and value % divivider_b == 0:\n",
        "      print('buzz')\n",
        "    if value % divider_a == 0 and value % divivider_b == 0:\n",
        "      print('fizzbuzz')\n",
        "    if value % divider_a != 0 and value % divivider_b != 0:\n",
        "      print(value)"
      ],
      "execution_count": null,
      "outputs": []
    },
    {
      "cell_type": "code",
      "metadata": {
        "colab": {
          "base_uri": "https://localhost:8080/"
        },
        "id": "FajvmaJCgG2i",
        "outputId": "8fec51cf-f2e1-42bf-d9f6-4bfc74a8bf17"
      },
      "source": [
        "value_group = list(range(1, 101, 1))  \n",
        "\n",
        "divider_a = 7\n",
        "divider_b = 8\n",
        "\n",
        "fizzbuzz(value_group, divider_a, divider_b)"
      ],
      "execution_count": null,
      "outputs": [
        {
          "output_type": "stream",
          "name": "stdout",
          "text": [
            "1\n",
            "2\n",
            "3\n",
            "4\n",
            "5\n",
            "6\n",
            "fizz\n",
            "buzz\n",
            "9\n",
            "10\n",
            "11\n",
            "12\n",
            "13\n",
            "fizz\n",
            "15\n",
            "buzz\n",
            "17\n",
            "18\n",
            "19\n",
            "20\n",
            "fizz\n",
            "22\n",
            "23\n",
            "buzz\n",
            "25\n",
            "26\n",
            "27\n",
            "fizz\n",
            "29\n",
            "30\n",
            "31\n",
            "buzz\n",
            "33\n",
            "34\n",
            "fizz\n",
            "36\n",
            "37\n",
            "38\n",
            "39\n",
            "buzz\n",
            "41\n",
            "fizz\n",
            "43\n",
            "44\n",
            "45\n",
            "46\n",
            "47\n",
            "buzz\n",
            "fizz\n",
            "50\n",
            "51\n",
            "52\n",
            "53\n",
            "54\n",
            "55\n",
            "fizzbuzz\n",
            "57\n",
            "58\n",
            "59\n",
            "60\n",
            "61\n",
            "62\n",
            "fizz\n",
            "buzz\n",
            "65\n",
            "66\n",
            "67\n",
            "68\n",
            "69\n",
            "fizz\n",
            "71\n",
            "buzz\n",
            "73\n",
            "74\n",
            "75\n",
            "76\n",
            "fizz\n",
            "78\n",
            "79\n",
            "buzz\n",
            "81\n",
            "82\n",
            "83\n",
            "fizz\n",
            "85\n",
            "86\n",
            "87\n",
            "buzz\n",
            "89\n",
            "90\n",
            "fizz\n",
            "92\n",
            "93\n",
            "94\n",
            "95\n",
            "buzz\n",
            "97\n",
            "fizz\n",
            "99\n",
            "100\n"
          ]
        }
      ]
    },
    {
      "cell_type": "code",
      "metadata": {
        "id": "1CTYYJ1Hhua_"
      },
      "source": [
        ""
      ],
      "execution_count": null,
      "outputs": []
    }
  ]
}